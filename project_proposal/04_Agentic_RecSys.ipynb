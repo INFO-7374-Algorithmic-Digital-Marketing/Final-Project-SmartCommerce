{
 "cells": [
  {
   "cell_type": "markdown",
   "metadata": {},
   "source": [
    "# Agentic RecSys\n",
    "\n",
    "We already did a variation of this in pointwise, pairwise and listwise recommendation"
   ]
  },
  {
   "cell_type": "code",
   "execution_count": 4,
   "metadata": {},
   "outputs": [],
   "source": [
    "import pandas as pd\n",
    "\n",
    "# Load datasets\n",
    "customers = pd.read_csv('data/olist_customers_dataset.csv')\n",
    "geolocations = pd.read_csv('data/olist_geolocation_dataset.csv')\n",
    "order_items = pd.read_csv('data/olist_order_items_dataset.csv')\n",
    "payments = pd.read_csv('data/olist_order_payments_dataset.csv')\n",
    "reviews = pd.read_csv('data/olist_order_reviews_dataset.csv')\n",
    "orders = pd.read_csv('data/olist_orders_dataset.csv')\n",
    "products = pd.read_csv('data/olist_products_dataset.csv')\n",
    "sellers = pd.read_csv('data/olist_sellers_dataset.csv')\n",
    "product_category_translation = pd.read_csv('data/product_category_name_translation.csv')"
   ]
  },
  {
   "cell_type": "code",
   "execution_count": 5,
   "metadata": {},
   "outputs": [],
   "source": [
    "# Recreate the merged orders_products_df\n",
    "orders_customers_df = orders.merge(customers, on='customer_id')\n",
    "orders_items_df = orders_customers_df.merge(order_items, on='order_id')\n",
    "orders_reviews_df = orders_items_df.merge(reviews, on='order_id', how='left')\n",
    "orders_products_df = orders_reviews_df.merge(products, on='product_id')\n"
   ]
  },
  {
   "cell_type": "code",
   "execution_count": 6,
   "metadata": {},
   "outputs": [],
   "source": [
    "def pointwise_recommender(user_id, product_id):\n",
    "    # Get user's review history\n",
    "    user_reviews = orders_products_df[orders_products_df['customer_unique_id'] == user_id]['review_comment_message'].dropna().tolist()\n",
    "    user_reviews_text = ' '.join(user_reviews)\n",
    "    \n",
    "    # Get the product information\n",
    "    product_info = products_with_category_df[products_with_category_df['product_id'] == product_id].iloc[0]\n",
    "    \n",
    "    # Simulate LLM call\n",
    "    gpt_caller = OpenAICaller(\"You are an assistant who helps with product recommendations based on user review history.\")\n",
    "    response = gpt_caller.call_llm(f\"Here is the user's review history: {user_reviews_text}. Based on this history, will the user like the product '{product_info['product_category_name_english']}'? Please provide a rating between 1 and 5.\")\n",
    "    \n",
    "    return response\n"
   ]
  },
  {
   "cell_type": "code",
   "execution_count": 7,
   "metadata": {},
   "outputs": [],
   "source": [
    "def pairwise_recommender(user_id, product_id1, product_id2):\n",
    "    # Get user's review history\n",
    "    user_reviews = orders_products_df[orders_products_df['customer_unique_id'] == user_id]['review_comment_message'].dropna().tolist()\n",
    "    user_reviews_text = ' '.join(user_reviews)\n",
    "    \n",
    "    # Get information for both products\n",
    "    product_info1 = products_with_category_df[products_with_category_df['product_id'] == product_id1].iloc[0]\n",
    "    product_info2 = products_with_category_df[products_with_category_df['product_id'] == product_id2].iloc[0]\n",
    "    \n",
    "    # Simulate LLM call\n",
    "    gpt_caller = OpenAICaller(\"You are an assistant who helps with product recommendations based on user review history.\")\n",
    "    response = gpt_caller.call_llm(f\"Here is the user's review history: {user_reviews_text}. Based on this history, which product would the user prefer: '{product_info1['product_category_name_english']}' or '{product_info2['product_category_name_english']}'? Please provide your preference and reasoning.\")\n",
    "    \n",
    "    return response\n"
   ]
  },
  {
   "cell_type": "code",
   "execution_count": 8,
   "metadata": {},
   "outputs": [],
   "source": [
    "def listwise_recommender(user_id, product_ids):\n",
    "    # Get user's review history\n",
    "    user_reviews = orders_products_df[orders_products_df['customer_unique_id'] == user_id]['review_comment_message'].dropna().tolist()\n",
    "    user_reviews_text = ' '.join(user_reviews)\n",
    "    \n",
    "    # Get information for all products\n",
    "    product_info_list = [products_with_category_df[products_with_category_df['product_id'] == product_id].iloc[0] for product_id in product_ids]\n",
    "    product_names = ', '.join([product_info['product_category_name_english'] for product_info in product_info_list])\n",
    "    \n",
    "    # Simulate LLM call\n",
    "    gpt_caller = OpenAICaller(\"You are an assistant who helps with product recommendations based on user review history.\")\n",
    "    response = gpt_caller.call_llm(f\"Here is the user's review history: {user_reviews_text}. Based on this history, how would the user rank the following products: {product_names}? Please provide the ranking from most to least preferred.\")\n",
    "    \n",
    "    return response\n"
   ]
  },
  {
   "cell_type": "code",
   "execution_count": null,
   "metadata": {},
   "outputs": [],
   "source": []
  }
 ],
 "metadata": {
  "kernelspec": {
   "display_name": "multimod",
   "language": "python",
   "name": "python3"
  },
  "language_info": {
   "codemirror_mode": {
    "name": "ipython",
    "version": 3
   },
   "file_extension": ".py",
   "mimetype": "text/x-python",
   "name": "python",
   "nbconvert_exporter": "python",
   "pygments_lexer": "ipython3",
   "version": "3.10.14"
  }
 },
 "nbformat": 4,
 "nbformat_minor": 2
}
