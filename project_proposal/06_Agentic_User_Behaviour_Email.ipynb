{
 "cells": [
  {
   "cell_type": "code",
   "execution_count": 1,
   "metadata": {},
   "outputs": [],
   "source": [
    "import pandas as pd\n",
    "\n",
    "# Load datasets\n",
    "customers = pd.read_csv('data/olist_customers_dataset.csv')\n",
    "geolocations = pd.read_csv('data/olist_geolocation_dataset.csv')\n",
    "order_items = pd.read_csv('data/olist_order_items_dataset.csv')\n",
    "payments = pd.read_csv('data/olist_order_payments_dataset.csv')\n",
    "reviews = pd.read_csv('data/olist_order_reviews_dataset.csv')\n",
    "orders = pd.read_csv('data/olist_orders_dataset.csv')\n",
    "products = pd.read_csv('data/olist_products_dataset.csv')\n",
    "sellers = pd.read_csv('data/olist_sellers_dataset.csv')\n",
    "product_category_translation = pd.read_csv('data/product_category_name_translation.csv')"
   ]
  },
  {
   "cell_type": "code",
   "execution_count": 6,
   "metadata": {},
   "outputs": [],
   "source": [
    "# Recreate the merged orders_products_df\n",
    "orders_customers_df = orders.merge(customers, on='customer_id')\n",
    "orders_items_df = orders_customers_df.merge(order_items, on='order_id')\n",
    "orders_reviews_df = orders_items_df.merge(reviews, on='order_id', how='left')\n",
    "orders_products_df = orders_reviews_df.merge(products, on='product_id')\n"
   ]
  },
  {
   "cell_type": "code",
   "execution_count": 7,
   "metadata": {},
   "outputs": [
    {
     "name": "stderr",
     "output_type": "stream",
     "text": [
      "/var/folders/qm/2m60vf_d5z3b2hf93l6yznfr0000gn/T/ipykernel_4425/3603495156.py:8: SettingWithCopyWarning: \n",
      "A value is trying to be set on a copy of a slice from a DataFrame.\n",
      "Try using .loc[row_indexer,col_indexer] = value instead\n",
      "\n",
      "See the caveats in the documentation: https://pandas.pydata.org/pandas-docs/stable/user_guide/indexing.html#returning-a-view-versus-a-copy\n",
      "  delivery_time_df['delivery_time_days'] = (delivery_time_df['order_delivered_customer_date'] - delivery_time_df['order_purchase_timestamp']).dt.days\n"
     ]
    }
   ],
   "source": [
    "orders_products_df['order_purchase_timestamp'] = pd.to_datetime(orders_products_df['order_purchase_timestamp'])\n",
    "orders_products_df['order_delivered_customer_date'] = pd.to_datetime(orders_products_df['order_delivered_customer_date'])\n",
    "\n",
    "# Remove rows where delivery date is missing\n",
    "delivery_time_df = orders_products_df.dropna(subset=['order_delivered_customer_date'])\n",
    "\n",
    "# Calculate delivery time in days\n",
    "delivery_time_df['delivery_time_days'] = (delivery_time_df['order_delivered_customer_date'] - delivery_time_df['order_purchase_timestamp']).dt.days\n"
   ]
  },
  {
   "cell_type": "code",
   "execution_count": 8,
   "metadata": {},
   "outputs": [],
   "source": [
    "# Calculate user behavior metrics\n",
    "\n",
    "# Number of orders per customer\n",
    "user_order_counts = orders_products_df.groupby('customer_unique_id').size().reset_index(name='num_orders')\n",
    "\n",
    "# Average order value per customer\n",
    "user_avg_order_value = orders_products_df.groupby('customer_unique_id')['price'].mean().reset_index(name='avg_order_value')\n",
    "\n",
    "# Preferred product categories per customer (most frequent category)\n",
    "user_preferred_category = orders_products_df.groupby(['customer_unique_id', 'product_category_name']).size().reset_index(name='count')\n",
    "user_preferred_category = user_preferred_category.loc[user_preferred_category.groupby('customer_unique_id')['count'].idxmax()].drop(columns='count')\n",
    "\n",
    "# Order frequency per customer (number of days between first and last order divided by number of orders)\n",
    "orders_products_df['order_purchase_timestamp'] = pd.to_datetime(orders_products_df['order_purchase_timestamp'])\n",
    "user_order_dates = orders_products_df.groupby('customer_unique_id')['order_purchase_timestamp'].agg(['min', 'max'])\n",
    "user_order_dates['order_frequency_days'] = (user_order_dates['max'] - user_order_dates['min']).dt.days / user_order_counts['num_orders']\n",
    "\n",
    "# Average delivery time per customer\n",
    "user_avg_delivery_time = delivery_time_df.groupby('customer_unique_id')['delivery_time_days'].mean().reset_index(name='avg_delivery_time')"
   ]
  },
  {
   "cell_type": "code",
   "execution_count": 9,
   "metadata": {},
   "outputs": [
    {
     "data": {
      "text/html": [
       "<div>\n",
       "<style scoped>\n",
       "    .dataframe tbody tr th:only-of-type {\n",
       "        vertical-align: middle;\n",
       "    }\n",
       "\n",
       "    .dataframe tbody tr th {\n",
       "        vertical-align: top;\n",
       "    }\n",
       "\n",
       "    .dataframe thead th {\n",
       "        text-align: right;\n",
       "    }\n",
       "</style>\n",
       "<table border=\"1\" class=\"dataframe\">\n",
       "  <thead>\n",
       "    <tr style=\"text-align: right;\">\n",
       "      <th></th>\n",
       "      <th>customer_unique_id</th>\n",
       "      <th>num_orders</th>\n",
       "      <th>avg_order_value</th>\n",
       "      <th>product_category_name</th>\n",
       "      <th>order_frequency_days</th>\n",
       "      <th>avg_delivery_time</th>\n",
       "    </tr>\n",
       "  </thead>\n",
       "  <tbody>\n",
       "    <tr>\n",
       "      <th>0</th>\n",
       "      <td>0000366f3b9a7992bf8c76cfdf3221e2</td>\n",
       "      <td>1</td>\n",
       "      <td>129.90</td>\n",
       "      <td>cama_mesa_banho</td>\n",
       "      <td>NaN</td>\n",
       "      <td>6.0</td>\n",
       "    </tr>\n",
       "    <tr>\n",
       "      <th>1</th>\n",
       "      <td>0000b849f77a49e4a4ce2b2a4ca5be3f</td>\n",
       "      <td>1</td>\n",
       "      <td>18.90</td>\n",
       "      <td>beleza_saude</td>\n",
       "      <td>NaN</td>\n",
       "      <td>3.0</td>\n",
       "    </tr>\n",
       "    <tr>\n",
       "      <th>2</th>\n",
       "      <td>0000f46a3911fa3c0805444483337064</td>\n",
       "      <td>1</td>\n",
       "      <td>69.00</td>\n",
       "      <td>papelaria</td>\n",
       "      <td>NaN</td>\n",
       "      <td>25.0</td>\n",
       "    </tr>\n",
       "    <tr>\n",
       "      <th>3</th>\n",
       "      <td>0000f6ccb0745a6a4b88665a16c9f078</td>\n",
       "      <td>1</td>\n",
       "      <td>25.99</td>\n",
       "      <td>telefonia</td>\n",
       "      <td>NaN</td>\n",
       "      <td>20.0</td>\n",
       "    </tr>\n",
       "    <tr>\n",
       "      <th>4</th>\n",
       "      <td>0004aac84e0df4da2b147fca70cf8255</td>\n",
       "      <td>1</td>\n",
       "      <td>180.00</td>\n",
       "      <td>telefonia</td>\n",
       "      <td>NaN</td>\n",
       "      <td>13.0</td>\n",
       "    </tr>\n",
       "  </tbody>\n",
       "</table>\n",
       "</div>"
      ],
      "text/plain": [
       "                 customer_unique_id  num_orders  avg_order_value  \\\n",
       "0  0000366f3b9a7992bf8c76cfdf3221e2           1           129.90   \n",
       "1  0000b849f77a49e4a4ce2b2a4ca5be3f           1            18.90   \n",
       "2  0000f46a3911fa3c0805444483337064           1            69.00   \n",
       "3  0000f6ccb0745a6a4b88665a16c9f078           1            25.99   \n",
       "4  0004aac84e0df4da2b147fca70cf8255           1           180.00   \n",
       "\n",
       "  product_category_name  order_frequency_days  avg_delivery_time  \n",
       "0       cama_mesa_banho                   NaN                6.0  \n",
       "1          beleza_saude                   NaN                3.0  \n",
       "2             papelaria                   NaN               25.0  \n",
       "3             telefonia                   NaN               20.0  \n",
       "4             telefonia                   NaN               13.0  "
      ]
     },
     "execution_count": 9,
     "metadata": {},
     "output_type": "execute_result"
    }
   ],
   "source": [
    "\n",
    "# Merging all metrics into a single dataframe\n",
    "user_behavior_df = user_order_counts.merge(user_avg_order_value, on='customer_unique_id') \\\n",
    "                                    .merge(user_preferred_category, on='customer_unique_id') \\\n",
    "                                    .merge(user_order_dates[['order_frequency_days']], on='customer_unique_id') \\\n",
    "                                    .merge(user_avg_delivery_time, on='customer_unique_id')\n",
    "\n",
    "user_behavior_df.head()\n"
   ]
  },
  {
   "cell_type": "markdown",
   "metadata": {},
   "source": [
    "## Analysis\n",
    "\n",
    "We plan on using this to create either a RAG or a memory layer for all other agents while answering anything about this user."
   ]
  },
  {
   "cell_type": "code",
   "execution_count": null,
   "metadata": {},
   "outputs": [],
   "source": []
  }
 ],
 "metadata": {
  "kernelspec": {
   "display_name": "multimod",
   "language": "python",
   "name": "python3"
  },
  "language_info": {
   "codemirror_mode": {
    "name": "ipython",
    "version": 3
   },
   "file_extension": ".py",
   "mimetype": "text/x-python",
   "name": "python",
   "nbconvert_exporter": "python",
   "pygments_lexer": "ipython3",
   "version": "3.10.14"
  }
 },
 "nbformat": 4,
 "nbformat_minor": 2
}
