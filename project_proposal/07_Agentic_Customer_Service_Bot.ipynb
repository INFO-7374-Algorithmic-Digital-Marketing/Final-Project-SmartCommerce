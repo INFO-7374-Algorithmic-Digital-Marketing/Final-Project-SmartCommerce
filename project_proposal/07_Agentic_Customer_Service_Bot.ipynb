{
 "cells": [
  {
   "cell_type": "markdown",
   "metadata": {},
   "source": [
    "# Agentic Customer Chatbot\n",
    "\n",
    "Here we are going to be testing both a Crewai approach and Llama-index ContextAugmentaion approach with RAG equivalent.\n",
    "\n",
    "## Crewai Approach\n",
    "\n",
    "Defining the Agents:\n",
    "\n",
    "- Order Information Agent: Provides order status, estimated delivery dates, and order history.\n",
    "- Product Information Agent: Supplies detailed information about products, categories, and availability.\n",
    "- Review Analysis Agent: Summarizes and analyzes customer reviews to provide insights on product quality and customer satisfaction.\n"
   ]
  },
  {
   "cell_type": "code",
   "execution_count": null,
   "metadata": {},
   "outputs": [],
   "source": [
    "from crewai import Agent, Task, Crew\n",
    "\n",
    "# Order Information Agent\n",
    "order_info_agent = Agent(\n",
    "    role='Order Information Specialist',\n",
    "    goal='Provide accurate order status and delivery information.',\n",
    "    backstory=\"You have extensive experience in logistics and customer service.\",\n",
    "    tools=[]  # Specify any tools like API access to order database\n",
    ")\n",
    "\n",
    "# Product Information Agent\n",
    "product_info_agent = Agent(\n",
    "    role='Product Information Specialist',\n",
    "    goal='Provide detailed information about products and their availability.',\n",
    "    backstory=\"You are well-versed in product specifications and inventory management.\",\n",
    "    tools=[]  # Specify any tools like product database access\n",
    ")\n",
    "\n",
    "# Review Analysis Agent\n",
    "review_analysis_agent = Agent(\n",
    "    role='Review Analyst',\n",
    "    goal='Analyze customer reviews to provide insights on product quality.',\n",
    "    backstory=\"You have a background in data analysis and customer satisfaction.\",\n",
    "    tools=[]  # Specify any tools for sentiment analysis or text summarization\n",
    ")\n"
   ]
  },
  {
   "cell_type": "markdown",
   "metadata": {},
   "source": [
    "## Creating Tasks for Each Agent\n",
    "\n",
    "Next, as per the Crewai approach, we will create tasks for each agent. The tasks are as follows:"
   ]
  },
  {
   "cell_type": "code",
   "execution_count": null,
   "metadata": {},
   "outputs": [],
   "source": [
    "# Task for Order Information Agent\n",
    "task_order_info = Task(\n",
    "    description=\"Fetch order status, estimated delivery dates, and order history.\",\n",
    "    expected_output=\"Order status, delivery dates, and order history details.\",\n",
    "    agent=order_info_agent\n",
    ")\n",
    "\n",
    "# Task for Product Information Agent\n",
    "task_product_info = Task(\n",
    "    description=\"Provide detailed information about products including categories and availability.\",\n",
    "    expected_output=\"Detailed product descriptions and availability status.\",\n",
    "    agent=product_info_agent\n",
    ")\n",
    "\n",
    "# Task for Review Analysis Agent\n",
    "task_review_analysis = Task(\n",
    "    description=\"Summarize and analyze customer reviews to offer insights on product quality.\",\n",
    "    expected_output=\"Summary of reviews and insights on product quality.\",\n",
    "    agent=review_analysis_agent\n",
    ")\n"
   ]
  },
  {
   "cell_type": "markdown",
   "metadata": {},
   "source": [
    "## Combining Agents and Tasks into a Crew:\n",
    "\n",
    "Next, we will combine the agents and tasks into a Crew. The Crew will be responsible for handling all customer queries and providing the necessary information.\n"
   ]
  },
  {
   "cell_type": "code",
   "execution_count": null,
   "metadata": {},
   "outputs": [],
   "source": [
    "# Define the Crew\n",
    "customer_support_crew = Crew(\n",
    "    agents=[order_info_agent, product_info_agent, review_analysis_agent],\n",
    "    tasks=[task_order_info, task_product_info, task_review_analysis],\n",
    "    verbose=True\n",
    ")\n",
    "\n",
    "# Start the Crew\n",
    "results = customer_support_crew.kickoff()\n",
    "print(results)\n"
   ]
  },
  {
   "cell_type": "markdown",
   "metadata": {},
   "source": [
    "### Potential Customization and Expansion:\n",
    "\n",
    "- Add Tools: Integrate specific tools for each agent, such as databases, APIs, or sentiment analysis tools.\n",
    "- Local and Cloud Models: Mix and match different models based on the requirements (e.g., using OpenAI models for natural language processing tasks).\n"
   ]
  },
  {
   "cell_type": "markdown",
   "metadata": {},
   "source": [
    "# Agents using LLama-index\n",
    "\n",
    "So we had a Uber Fillings example - where we had learnt about context augmentation agents. \n",
    "We are considering those as well to compare and contrast against Crewai agents.\n",
    "\n",
    "## TODO\n",
    "Create or Load Indexes:\n",
    "\n",
    "We would need prepare our customer support documents and build or load indexes similarly to the Uber example.\n",
    "\n",
    "Create Agents and Tools:\n",
    "\n",
    "Next, we will Define agents for different customer service tasks: Order Information, Product Information, and Review Analysis.\n"
   ]
  },
  {
   "cell_type": "code",
   "execution_count": null,
   "metadata": {},
   "outputs": [],
   "source": [
    "import json\n",
    "from typing import Sequence\n",
    "from llama_index.core import SimpleDirectoryReader, VectorStoreIndex, StorageContext, load_index_from_storage\n",
    "from llama_index.core.tools import QueryEngineTool, ToolMetadata\n",
    "from llama_index.agent.openai_legacy import ContextRetrieverOpenAIAgent\n",
    "from llama_index.core import Document"
   ]
  },
  {
   "cell_type": "code",
   "execution_count": null,
   "metadata": {},
   "outputs": [],
   "source": [
    "order_docs = SimpleDirectoryReader(input_files=[\"path_to_order_documents\"]).load_data()\n",
    "product_docs = SimpleDirectoryReader(input_files=[\"path_to_product_documents\"]).load_data()\n",
    "review_docs = SimpleDirectoryReader(input_files=[\"path_to_review_documents\"]).load_data()\n",
    "\n",
    "order_index = VectorStoreIndex.from_documents(order_docs)\n",
    "product_index = VectorStoreIndex.from_documents(product_docs)\n",
    "review_index = VectorStoreIndex.from_documents(review_docs)\n",
    "\n",
    "order_engine = order_index.as_query_engine(similarity_top_k=3)\n",
    "product_engine = product_index.as_query_engine(similarity_top_k=3)\n",
    "review_engine = review_index.as_query_engine(similarity_top_k=3)\n",
    "\n",
    "order_tool = QueryEngineTool(\n",
    "    query_engine=order_engine,\n",
    "    metadata=ToolMetadata(\n",
    "        name=\"order_info\",\n",
    "        description=\"Provides information about order status and history.\"\n",
    "    ),\n",
    ")\n",
    "\n",
    "product_tool = QueryEngineTool(\n",
    "    query_engine=product_engine,\n",
    "    metadata=ToolMetadata(\n",
    "        name=\"product_info\",\n",
    "        description=\"Provides detailed product information and availability.\"\n",
    "    ),\n",
    ")\n",
    "\n",
    "review_tool = QueryEngineTool(\n",
    "    query_engine=review_engine,\n",
    "    metadata=ToolMetadata(\n",
    "        name=\"review_analysis\",\n",
    "        description=\"Analyzes customer reviews to provide product insights.\"\n",
    "    ),\n",
    ")\n"
   ]
  },
  {
   "cell_type": "markdown",
   "metadata": {},
   "source": [
    "We are working on this part and will update this notebook soon."
   ]
  },
  {
   "cell_type": "markdown",
   "metadata": {},
   "source": [
    "### Instantiate the Context-Augmented Agent:\n",
    "\n",
    "Once done, we will use a context index to provide additional context for the agent's decisions.\n"
   ]
  },
  {
   "cell_type": "code",
   "execution_count": null,
   "metadata": {},
   "outputs": [],
   "source": [
    "from llama_index.core import Document\n",
    "from llama_index.agent.openai_legacy import ContextRetrieverOpenAIAgent\n",
    "\n",
    "context_texts = [\n",
    "    \"FAQ: What is the return policy?\",\n",
    "    \"FAQ: How to track my order?\",\n",
    "    \"FAQ: What are the shipping options?\"\n",
    "]\n",
    "context_docs = [Document(text=t) for t in context_texts]\n",
    "context_index = VectorStoreIndex.from_documents(context_docs)\n",
    "\n",
    "context_agent = ContextRetrieverOpenAIAgent.from_tools_and_retriever(\n",
    "    [order_tool, product_tool, review_tool],\n",
    "    context_index.as_retriever(similarity_top_k=1),\n",
    "    verbose=True,\n",
    ")\n",
    "\n",
    "response = context_agent.chat(\"How can I track my order?\")\n",
    "print(response)\n"
   ]
  },
  {
   "cell_type": "code",
   "execution_count": null,
   "metadata": {},
   "outputs": [],
   "source": []
  }
 ],
 "metadata": {
  "kernelspec": {
   "display_name": "multimod",
   "language": "python",
   "name": "python3"
  },
  "language_info": {
   "codemirror_mode": {
    "name": "ipython",
    "version": 3
   },
   "file_extension": ".py",
   "mimetype": "text/x-python",
   "name": "python",
   "nbconvert_exporter": "python",
   "pygments_lexer": "ipython3",
   "version": "3.10.14"
  }
 },
 "nbformat": 4,
 "nbformat_minor": 2
}
