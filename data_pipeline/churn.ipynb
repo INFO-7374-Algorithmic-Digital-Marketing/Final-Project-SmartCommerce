{
 "cells": [
  {
   "cell_type": "code",
   "execution_count": 37,
   "metadata": {},
   "outputs": [
    {
     "name": "stderr",
     "output_type": "stream",
     "text": [
      "2024-08-12 22:51:25,355 - INFO - Attempting to create Snowflake engine.\n",
      "2024-08-12 22:51:25,360 - INFO - Snowflake engine created successfully.\n"
     ]
    }
   ],
   "source": [
    "import pandas as pd\n",
    "from sqlalchemy import create_engine, MetaData, Table, Column, String, Integer, Float, DateTime, ForeignKey, text\n",
    "from snowflake.sqlalchemy import URL\n",
    "import os\n",
    "from dotenv import load_dotenv\n",
    "import logging\n",
    "import sys\n",
    "\n",
    "# Setup logging\n",
    "logging.basicConfig(level=logging.INFO, format='%(asctime)s - %(levelname)s - %(message)s')\n",
    "logger = logging.getLogger()\n",
    "\n",
    "# Load environment variables\n",
    "load_dotenv()\n",
    "\n",
    "# Get Snowflake connection details from environment variables\n",
    "def get_snowflake_engine():\n",
    "    logger.info(\"Attempting to create Snowflake engine.\")\n",
    "    try:\n",
    "        engine = create_engine(URL(\n",
    "            user=os.getenv(\"MY_SNOWFLAKE_USER\"),\n",
    "            password=os.getenv(\"MY_SNOWFLAKE_PASSWORD\"),\n",
    "            account=os.getenv(\"MY_SNOWFLAKE_ACCOUNT\"),\n",
    "            database=os.getenv(\"SNOWFLAKE_DATABASE\"),\n",
    "            schema=os.getenv(\"SNOWFLAKE_SCHEMA\"),\n",
    "            warehouse=os.getenv(\"SNOWFLAKE_WAREHOUSE\"),\n",
    "            role=os.getenv(\"SNOWFLAKE_ROLE\"),\n",
    "        ))\n",
    "        logger.info(\"Snowflake engine created successfully.\")\n",
    "        return engine\n",
    "    except Exception as e:\n",
    "        logger.error(\"Error creating Snowflake engine: %s\", e)\n",
    "        sys.exit(1)\n",
    "\n",
    "def __run_query(query, engine = get_snowflake_engine(), update = False):\n",
    "    connection = engine.connect()\n",
    "    logging.info(\"Connected to Snowflake\")\n",
    "    \n",
    "    try:\n",
    "        # connection.execute(text(\"USE ASG_4_P2.PUBLIC;\"))\n",
    "        # logging.info(\"Switched to ASG_4_P2.PUBLIC\")\n",
    "        \n",
    "        # Make parameterized query such that no DELETE / UPDATE queries can be run\n",
    "        query = text(query)\n",
    "        logger.info(f\"Executing query: {query}\")\n",
    "        result = connection.execute(query).fetchall()\n",
    "        if update:\n",
    "            connection.commit()\n",
    "            logging.info(\"Transaction committed.\")\n",
    "        try:\n",
    "            result_df = pd.DataFrame(result)\n",
    "            logging.info(\"Query executed successfully and results fetched\")\n",
    "            return result_df\n",
    "        except Exception as e:\n",
    "            logging.error(f\"Error converting query results to DataFrame: {e}\")\n",
    "            return None\n",
    "    except Exception as e:\n",
    "        logging.error(f\"Error executing query: {e}\")\n",
    "        return None\n",
    "    finally:\n",
    "        connection.close()\n",
    "        logging.info(\"Connection closed\")\n",
    "\n",
    "def update_churn_flag(churned_cust_ids, non_churned_customer_ids):\n",
    "    update_query_churn = f\"\"\"\n",
    "    UPDATE \"Customers\"\n",
    "    SET churn_flag = TRUE\n",
    "    WHERE customer_id IN ({', '.join(f\"'{customer_id}'\" for customer_id in churned_cust_ids)});\n",
    "    \"\"\"\n",
    "    __run_query(update_query_churn, update=True)\n",
    "    \n",
    "    update_query_non_churn = f\"\"\"\n",
    "    UPDATE \"Customers\"\n",
    "    SET churn_flag = TRUE\n",
    "    WHERE customer_id IN ({', '.join(f\"'{customer_id}'\" for customer_id in non_churned_customer_ids)});\n",
    "    \"\"\"\n",
    "    __run_query(update_query_non_churn, update=True)\n",
    "\n",
    "    "
   ]
  },
  {
   "cell_type": "code",
   "execution_count": 44,
   "metadata": {},
   "outputs": [
    {
     "name": "stderr",
     "output_type": "stream",
     "text": [
      "2024-08-04 11:36:20,290 - INFO - Snowflake Connector for Python Version: 3.12.0, Python Version: 3.10.12, Platform: Linux-5.15.153.1-microsoft-standard-WSL2-x86_64-with-glibc2.35\n",
      "2024-08-04 11:36:20,301 - INFO - Connecting to GLOBAL Snowflake domain\n",
      "2024-08-04 11:36:20,303 - INFO - This connection is in OCSP Fail Open Mode. TLS Certificates would be checked for validity and revocation status. Any other Certificate Revocation related exceptions or OCSP Responder failures would be disregarded in favor of connectivity.\n",
      "2024-08-04 11:36:21,079 - INFO - Number of results in first chunk: 1\n",
      "2024-08-04 11:36:21,255 - INFO - Number of results in first chunk: 1\n",
      "2024-08-04 11:36:21,256 - INFO - Connected to Snowflake\n",
      "2024-08-04 11:36:21,579 - INFO - Number of results in first chunk: 0\n",
      "2024-08-04 11:36:24,162 - INFO - Query executed successfully and results fetched\n",
      "2024-08-04 11:36:24,339 - INFO - Number of results in first chunk: 1\n",
      "2024-08-04 11:36:24,339 - INFO - Connection closed\n",
      "2024-08-04 11:36:24,466 - INFO - Connected to Snowflake\n",
      "2024-08-04 11:36:24,835 - INFO - Number of results in first chunk: 0\n",
      "2024-08-04 11:36:26,633 - INFO - Query executed successfully and results fetched\n",
      "2024-08-04 11:36:26,754 - INFO - Number of results in first chunk: 1\n",
      "2024-08-04 11:36:26,755 - INFO - Connection closed\n"
     ]
    }
   ],
   "source": [
    "\n",
    "customers = __run_query('SELECT * FROM \"Customers\";')\n",
    "orders = __run_query('SELECT * FROM \"Orders\";')"
   ]
  },
  {
   "cell_type": "markdown",
   "metadata": {},
   "source": [
    "# Calculate Churn"
   ]
  },
  {
   "cell_type": "code",
   "execution_count": 4,
   "metadata": {},
   "outputs": [],
   "source": [
    "def calculate_churn_rate(orders, customers, churn_period_days=200):\n",
    "    # Convert order_purchase_timestamp to datetime\n",
    "    orders['order_purchase_timestamp'] = pd.to_datetime(orders['order_purchase_timestamp'])\n",
    "\n",
    "    # Determine the reference date (e.g., the latest order date in the dataset)\n",
    "    reference_date = orders['order_purchase_timestamp'].max()\n",
    "\n",
    "    # Calculate the last purchase date for each customer\n",
    "    last_purchase_date = orders.groupby('customer_id')['order_purchase_timestamp'].max().reset_index()\n",
    "\n",
    "    # Identify churned customers: those who haven't purchased within the churn period\n",
    "    churned_customers = last_purchase_date[\n",
    "        last_purchase_date['order_purchase_timestamp'] < reference_date - pd.Timedelta(days=churn_period_days)\n",
    "    ]\n",
    "\n",
    "    # Identify non-churned customers: those who have purchased within the churn period\n",
    "    non_churned_customers = last_purchase_date[\n",
    "        last_purchase_date['order_purchase_timestamp'] >= reference_date - pd.Timedelta(days=churn_period_days)\n",
    "    ]\n",
    "\n",
    "    # Convert customer IDs to lists\n",
    "    churned_customer_ids = churned_customers['customer_id'].tolist()\n",
    "    non_churned_customer_ids = non_churned_customers['customer_id'].tolist()\n",
    "\n",
    "    # Count the total number of unique customers\n",
    "    total_customers = customers['customer_id'].nunique()\n",
    "\n",
    "    # Count the number of churned customers\n",
    "    num_churned_customers = len(churned_customer_ids)\n",
    "\n",
    "    # Calculate churn rate\n",
    "    churn_rate = (num_churned_customers / total_customers) * 100\n",
    "\n",
    "    # Output the results\n",
    "    logger.info(f\"Total Customers: {total_customers}\")\n",
    "    logger.info(f\"Churned Customers: {num_churned_customers}\")\n",
    "    logger.info(f\"Churn Rate: {churn_rate:.2f}%\")\n",
    "\n",
    "    return churned_customer_ids, non_churned_customer_ids"
   ]
  },
  {
   "cell_type": "code",
   "execution_count": 50,
   "metadata": {},
   "outputs": [
    {
     "name": "stderr",
     "output_type": "stream",
     "text": [
      "2024-08-04 11:55:48,648 - INFO - Total Customers: 99441\n",
      "2024-08-04 11:55:48,649 - INFO - Churned Customers: 66569\n",
      "2024-08-04 11:55:48,649 - INFO - Churn Rate: 66.94%\n"
     ]
    }
   ],
   "source": [
    "churned_cust_ids, non_churned_customer_ids = calculate_churn_rate(orders, customers)"
   ]
  },
  {
   "cell_type": "code",
   "execution_count": 53,
   "metadata": {},
   "outputs": [
    {
     "name": "stderr",
     "output_type": "stream",
     "text": [
      "2024-08-04 12:01:49,235 - INFO - Snowflake Connector for Python Version: 3.12.0, Python Version: 3.10.12, Platform: Linux-5.15.153.1-microsoft-standard-WSL2-x86_64-with-glibc2.35\n",
      "2024-08-04 12:01:49,236 - INFO - Connecting to GLOBAL Snowflake domain\n",
      "2024-08-04 12:01:49,237 - INFO - This connection is in OCSP Fail Open Mode. TLS Certificates would be checked for validity and revocation status. Any other Certificate Revocation related exceptions or OCSP Responder failures would be disregarded in favor of connectivity.\n",
      "2024-08-04 12:01:49,883 - INFO - Number of results in first chunk: 1\n",
      "2024-08-04 12:01:50,025 - INFO - Number of results in first chunk: 1\n",
      "2024-08-04 12:01:50,026 - INFO - Connected to Snowflake\n",
      "2024-08-04 12:02:03,469 - INFO - Number of results in first chunk: 1\n",
      "2024-08-04 12:02:03,470 - INFO - Transaction committed.\n",
      "2024-08-04 12:02:03,471 - INFO - Query executed successfully and results fetched\n",
      "2024-08-04 12:02:03,683 - INFO - Number of results in first chunk: 1\n",
      "2024-08-04 12:02:03,684 - INFO - Connection closed\n",
      "2024-08-04 12:02:03,699 - INFO - Connected to Snowflake\n",
      "2024-08-04 12:02:10,579 - INFO - Number of results in first chunk: 1\n",
      "2024-08-04 12:02:10,579 - INFO - Transaction committed.\n",
      "2024-08-04 12:02:10,580 - INFO - Query executed successfully and results fetched\n",
      "2024-08-04 12:02:10,651 - INFO - Number of results in first chunk: 1\n",
      "2024-08-04 12:02:10,652 - INFO - Connection closed\n"
     ]
    }
   ],
   "source": [
    "update_churn_flag(churned_cust_ids, non_churned_customer_ids)"
   ]
  },
  {
   "cell_type": "markdown",
   "metadata": {},
   "source": [
    "# Get Churn Status by cust_id"
   ]
  },
  {
   "cell_type": "code",
   "execution_count": 11,
   "metadata": {},
   "outputs": [],
   "source": [
    "#Query to get the churn flag for a customer\n",
    "def get_churn_flag(customer_id):\n",
    "    sql_query = f'''select churn_flag from \"Customers\" where customer_id = '{customer_id}';'''\n",
    "    return __run_query(sql_query)\n",
    "\n",
    "#Query to get the min and max price of a product\n",
    "def __get_min_max_price(product_id):\n",
    "    sql_query = f'''SELECT \n",
    "        MAX(price) AS max_price,\n",
    "        MIN(price) AS min_price\n",
    "    FROM \n",
    "        \"Order_Items\"\n",
    "    GROUP BY \n",
    "        product_id\n",
    "    having product_id = '{product_id}';'''\n",
    "    return __run_query(sql_query)\n",
    "\n",
    "#Function to get the price for product according to churn flag\n",
    "def get_price(product_id, churn_flag):\n",
    "    min_max_price = __get_min_max_price(product_id)\n",
    "    if churn_flag:\n",
    "        return min_max_price['min_price'][0]\n",
    "    else:\n",
    "        return min_max_price['max_price'][0]\n",
    "\n"
   ]
  },
  {
   "cell_type": "code",
   "execution_count": 13,
   "metadata": {},
   "outputs": [
    {
     "name": "stderr",
     "output_type": "stream",
     "text": [
      "2024-08-06 00:01:23,386 - INFO - Connected to Snowflake\n",
      "2024-08-06 00:01:23,388 - INFO - Executing query: select churn_flag from \"Customers\" where customer_id = '00012a2ce6f8dcda20d059ce98491703';\n",
      "2024-08-06 00:01:23,740 - INFO - Number of results in first chunk: 1\n",
      "2024-08-06 00:01:23,742 - INFO - Query executed successfully and results fetched\n",
      "2024-08-06 00:01:23,834 - INFO - Number of results in first chunk: 1\n",
      "2024-08-06 00:01:23,835 - INFO - Connection closed\n",
      "2024-08-06 00:01:23,836 - INFO - Connected to Snowflake\n",
      "2024-08-06 00:01:23,836 - INFO - Executing query: SELECT \n",
      "        MAX(price) AS max_price,\n",
      "        MIN(price) AS min_price\n",
      "    FROM \n",
      "        \"Order_Items\"\n",
      "    GROUP BY \n",
      "        product_id\n",
      "    having product_id = '4244733e06e7ecb4970a6e2683c13e61';\n",
      "2024-08-06 00:01:23,941 - INFO - Number of results in first chunk: 1\n",
      "2024-08-06 00:01:23,943 - INFO - Query executed successfully and results fetched\n",
      "2024-08-06 00:01:24,032 - INFO - Number of results in first chunk: 1\n",
      "2024-08-06 00:01:24,033 - INFO - Connection closed\n"
     ]
    },
    {
     "name": "stdout",
     "output_type": "stream",
     "text": [
      "55.9\n"
     ]
    }
   ],
   "source": [
    "customer_id = \"00012a2ce6f8dcda20d059ce98491703\"\n",
    "print(get_price(\"4244733e06e7ecb4970a6e2683c13e61\", get_churn_flag(customer_id)['churn_flag'][0]))"
   ]
  },
  {
   "cell_type": "markdown",
   "metadata": {},
   "source": [
    "## Update the products table"
   ]
  },
  {
   "cell_type": "code",
   "execution_count": 64,
   "metadata": {},
   "outputs": [],
   "source": [
    "import os\n",
    "from dotenv import load_dotenv\n",
    "import requests\n",
    "import base64\n",
    "import json\n",
    "\n",
    "# Load environment variables from .env file\n",
    "load_dotenv()\n",
    "\n",
    "# Get the environment variables\n",
    "CLIENT_ID = os.getenv('EBAY_APP_ID')\n",
    "CLIENT_SECRET = os.getenv('EBAY_CERT_ID')\n",
    "OAUTH_URL = 'https://api.ebay.com/identity/v1/oauth2/token'\n",
    "\n",
    "# Encode the client ID and client secret\n",
    "credentials = base64.b64encode(f'{CLIENT_ID}:{CLIENT_SECRET}'.encode('utf-8')).decode('utf-8')\n",
    "\n",
    "headers = {\n",
    "    'Content-Type': 'application/x-www-form-urlencoded',\n",
    "    'Authorization': f'Basic {credentials}'\n",
    "}\n",
    "\n",
    "data = {\n",
    "    'grant_type': 'client_credentials',\n",
    "    'scope': 'https://api.ebay.com/oauth/api_scope'\n",
    "}\n",
    "\n",
    "response = requests.post(OAUTH_URL, headers=headers, data=data)\n",
    "if response.status_code == 200:\n",
    "    access_token = response.json()['access_token']\n",
    "    # print(f'Access Token: {access_token}')\n",
    "else:\n",
    "    print(f'Error: {response.status_code}')\n",
    "    print(response.json())\n",
    "\n"
   ]
  },
  {
   "cell_type": "code",
   "execution_count": 71,
   "metadata": {},
   "outputs": [],
   "source": [
    "import requests\n",
    "import json\n",
    "\n",
    "def search_ebay_items(params, access_token=access_token):\n",
    "    endpoint = 'https://api.ebay.com/buy/browse/v1/item_summary/search'\n",
    "    \n",
    "    # Set up the request headers\n",
    "    headers = {\n",
    "        'Authorization': f'Bearer {access_token}',\n",
    "        'Content-Type': 'application/json',\n",
    "    }\n",
    "    \n",
    "    # Make the API request\n",
    "    response = requests.get(endpoint, headers=headers, params=params)\n",
    "    \n",
    "    # Check if the request was successful\n",
    "    if response.status_code == 200:\n",
    "        data = response.json()\n",
    "        items = data.get('itemSummaries', [])\n",
    "\n",
    "        q_param = params.get('q', 'results').replace(' ', '_')\n",
    "        file_name = f'data_ebay/ebay_browse_search_results_{q_param}_2.json'\n",
    "        \n",
    "        # Print and save the response\n",
    "        # with open(file_name, 'w') as file:\n",
    "        #     json.dump(items, file, indent=4)\n",
    "        #     print(f'Saved {len(items)} items to {file_name}')\n",
    "        # print(len(items))\n",
    "        return items\n",
    "    else:\n",
    "        print(f'Error: {response.status_code}')\n",
    "        print(response.json())\n",
    "\n",
    "def get_category_id_by_name(category_name, access_token=access_token):\n",
    "    # Define the endpoint and headers\n",
    "    url = 'https://api.ebay.com/commerce/taxonomy/v1/category_tree/0/get_category_suggestions'\n",
    "    headers = {\n",
    "        'Authorization': f'Bearer {access_token}',\n",
    "        'Content-Type': 'application/json',\n",
    "    }\n",
    "    \n",
    "    # Define the query parameters\n",
    "    params = {\n",
    "        'q': category_name  # The name of the category you want to search for\n",
    "    }\n",
    "    \n",
    "    # Make the GET request\n",
    "    response = requests.get(url, headers=headers, params=params)\n",
    "    \n",
    "    # Check the response status and parse the response\n",
    "    if response.status_code == 200:\n",
    "        data = response.json()\n",
    "        # formatted_json = json.dumps(data, indent=4)\n",
    "        # print(formatted_json)\n",
    "        categories = data.get('categorySuggestions')\n",
    "        \n",
    "        # Print out category names and IDs\n",
    "        for category in categories:\n",
    "            print(f\"Category Name: {category['category']['categoryName']}, Category ID: {category['category']['categoryId']}\")\n",
    "        return categories\n",
    "    else:\n",
    "        print(f\"Error: {response.status_code}, {response.text}\")\n",
    "        return None\n",
    "    \n",
    "def call_ebay_api_by_price_count(q, min_price, max_price, count):\n",
    "    params = {\n",
    "        'q': q,\n",
    "        \n",
    "        'limit': count\n",
    "    }\n",
    "    return search_ebay_items(params)"
   ]
  },
  {
   "cell_type": "code",
   "execution_count": 56,
   "metadata": {},
   "outputs": [
    {
     "name": "stdout",
     "output_type": "stream",
     "text": [
      "10\n"
     ]
    },
    {
     "data": {
      "text/plain": [
       "[{'itemId': 'v1|156164986922|0',\n",
       "  'title': 'Lenovo Ideapad 1 15Iau7 15.6\" Laptop Intel Core i5-1235U 8GB RAM 512GB SSD W11H',\n",
       "  'leafCategoryIds': ['177'],\n",
       "  'categories': [{'categoryId': '177',\n",
       "    'categoryName': 'PC Laptops & Netbooks'},\n",
       "   {'categoryId': '58058', 'categoryName': 'Computers/Tablets & Networking'},\n",
       "   {'categoryId': '175672', 'categoryName': 'Laptops & Netbooks'}],\n",
       "  'image': {'imageUrl': 'https://i.ebayimg.com/images/g/Qe0AAOSwKkFmGVlB/s-l225.jpg'},\n",
       "  'price': {'value': '289.99', 'currency': 'USD'},\n",
       "  'itemHref': 'https://api.ebay.com/buy/browse/v1/item/v1%7C156164986922%7C0',\n",
       "  'seller': {'username': 'buyrefurbishedus',\n",
       "   'feedbackPercentage': '97.7',\n",
       "   'feedbackScore': 13568},\n",
       "  'marketingPrice': {'originalPrice': {'value': '434.99', 'currency': 'USD'},\n",
       "   'discountPercentage': '33',\n",
       "   'discountAmount': {'value': '145.00', 'currency': 'USD'},\n",
       "   'priceTreatment': 'LIST_PRICE'},\n",
       "  'condition': 'Certified - Refurbished',\n",
       "  'conditionId': '2000',\n",
       "  'thumbnailImages': [{'imageUrl': 'https://i.ebayimg.com/images/g/Qe0AAOSwKkFmGVlB/s-l1200.jpg'}],\n",
       "  'shippingOptions': [{'shippingCostType': 'FIXED',\n",
       "    'shippingCost': {'value': '0.00', 'currency': 'USD'},\n",
       "    'minEstimatedDeliveryDate': '2024-08-17T07:00:00.000Z',\n",
       "    'maxEstimatedDeliveryDate': '2024-08-17T07:00:00.000Z',\n",
       "    'guaranteedDelivery': True}],\n",
       "  'buyingOptions': ['FIXED_PRICE'],\n",
       "  'epid': '8069443488',\n",
       "  'itemWebUrl': 'https://www.ebay.com/itm/156164986922?hash=item245c28982a:g:Qe0AAOSwKkFmGVlB&amdata=enc%3AAQAJAAAA4H%2FqIbIc6o8B4%2BvpFzQyE8XHMyT9hb7p4cg97v4RHgJYJmrQeYlpCkiJsdaDNxoONsYT5rT3dP1NNK3QYJLrfDu5JdducEMMOo89nLk0H9IaoS3XvW1E3O9RRBJjiXQqppRrX4273UamaOJYZzsJa8ZeEgHuUHDWNwZShEbok1AQQPLn3xL1uk6UUybKCC20l%2F5v9P5Ed26GH6O5HH5GQUpZW%2Fsve%2F8tSpmYa6kQY7IriuahbKp7e8uwUnQhvs5ueMd%2FCarbrpza%2B1x5BY8GL7dSxQ3nfOX7VRno38lgPT%2Fq',\n",
       "  'itemLocation': {'country': 'US'},\n",
       "  'additionalImages': [{'imageUrl': 'https://i.ebayimg.com/images/g/DL4AAOSwMbBmGVlB/s-l225.jpg'}],\n",
       "  'adultOnly': False,\n",
       "  'legacyItemId': '156164986922',\n",
       "  'availableCoupons': False,\n",
       "  'itemCreationDate': '2024-04-12T15:53:36.000Z',\n",
       "  'topRatedBuyingExperience': False,\n",
       "  'priorityListing': True,\n",
       "  'listingMarketplaceId': 'EBAY_US'},\n",
       " {'itemId': 'v1|264714553889|0',\n",
       "  'title': 'Dell Latitude Laptop Light Gaming PC Core i7 16GB RAM 512GB SSD Windows 11 Pro',\n",
       "  'leafCategoryIds': ['177'],\n",
       "  'categories': [{'categoryId': '177',\n",
       "    'categoryName': 'PC Laptops & Netbooks'},\n",
       "   {'categoryId': '58058', 'categoryName': 'Computers/Tablets & Networking'},\n",
       "   {'categoryId': '175672', 'categoryName': 'Laptops & Netbooks'}],\n",
       "  'image': {'imageUrl': 'https://i.ebayimg.com/images/g/3TwAAOSwDPJmuvF~/s-l225.jpg'},\n",
       "  'price': {'value': '326.96', 'currency': 'USD'},\n",
       "  'itemHref': 'https://api.ebay.com/buy/browse/v1/item/v1%7C264714553889%7C0',\n",
       "  'seller': {'username': 'discountcomputerdepot',\n",
       "   'feedbackPercentage': '98.4',\n",
       "   'feedbackScore': 118749},\n",
       "  'condition': 'Very Good - Refurbished',\n",
       "  'conditionId': '2020',\n",
       "  'thumbnailImages': [{'imageUrl': 'https://i.ebayimg.com/images/g/3TwAAOSwDPJmuvF~/s-l1200.jpg'}],\n",
       "  'shippingOptions': [{'shippingCostType': 'FIXED',\n",
       "    'shippingCost': {'value': '0.00', 'currency': 'USD'}}],\n",
       "  'buyingOptions': ['FIXED_PRICE'],\n",
       "  'itemWebUrl': 'https://www.ebay.com/itm/264714553889?hash=item3da2378a21:g:3TwAAOSwDPJmuvF~&amdata=enc%3AAQAJAAAA4H%2FqIbIc6o8B4%2BvpFzQyE8ULzyZtmBOi40TgYreS%2F2Q4bjj3eOBjKeCLGFZiy0Msy7i8yWIZPdVG588WIbUYQeU0%2Bav0rYdu2ROfUk0LtPtvs9Q52ZSOrlZT2weFdVGjMiTCzDlWb297FtPyQJvcqvSCWlw3OknJaSOQw7LAktgJTnvn2UJZ0tyRbikDleOQl4LwT8vrRAv0Lrz2BjI6TllS0WmyQ%2FfIIvI9ryYFEgSN0aByAzTr0YmKdfgDFbEBf3L4QinBoE9huNvpvzVwD9Sy5%2BlSuyX9MdDdZbhGo1kr',\n",
       "  'itemLocation': {'postalCode': '757**', 'country': 'US'},\n",
       "  'additionalImages': [{'imageUrl': 'https://i.ebayimg.com/images/g/UT0AAOSwskJmuvF~/s-l225.jpg'},\n",
       "   {'imageUrl': 'https://i.ebayimg.com/images/g/Ns8AAOSwxvlmuvGA/s-l225.jpg'},\n",
       "   {'imageUrl': 'https://i.ebayimg.com/images/g/tyQAAOSwJrBmuvF-/s-l225.jpg'},\n",
       "   {'imageUrl': 'https://i.ebayimg.com/images/g/uqIAAOSwF5tmuvF~/s-l225.jpg'},\n",
       "   {'imageUrl': 'https://i.ebayimg.com/images/g/xjMAAOSwJAZmuvF~/s-l225.jpg'},\n",
       "   {'imageUrl': 'https://i.ebayimg.com/images/g/1fAAAOSwNdRmuvF~/s-l225.jpg'},\n",
       "   {'imageUrl': 'https://i.ebayimg.com/images/g/hWQAAOSwondeYVAu/s-l225.jpg'}],\n",
       "  'adultOnly': False,\n",
       "  'legacyItemId': '264714553889',\n",
       "  'availableCoupons': False,\n",
       "  'itemCreationDate': '2020-04-28T20:15:03.000Z',\n",
       "  'topRatedBuyingExperience': True,\n",
       "  'priorityListing': True,\n",
       "  'listingMarketplaceId': 'EBAY_US'},\n",
       " {'itemId': 'v1|256580752733|556827770187',\n",
       "  'title': 'FAST HP Intel Core i7 2.8 GHz 16GB RAM up to 512GB SSD Fingerprint BT Win11 Pro',\n",
       "  'itemGroupHref': 'https://api.ebay.com/buy/browse/v1/item/get_items_by_item_group?item_group_id=256580752733',\n",
       "  'leafCategoryIds': ['177'],\n",
       "  'categories': [{'categoryId': '177',\n",
       "    'categoryName': 'PC Laptops & Netbooks'},\n",
       "   {'categoryId': '58058', 'categoryName': 'Computers/Tablets & Networking'},\n",
       "   {'categoryId': '175672', 'categoryName': 'Laptops & Netbooks'}],\n",
       "  'image': {'imageUrl': 'https://i.ebayimg.com/images/g/eIQAAOSwartmjHww/s-l225.jpg'},\n",
       "  'price': {'value': '145.00', 'currency': 'USD'},\n",
       "  'itemGroupType': 'SELLER_DEFINED_VARIATIONS',\n",
       "  'itemHref': 'https://api.ebay.com/buy/browse/v1/item/v1%7C256580752733%7C556827770187',\n",
       "  'seller': {'username': 'allamandi',\n",
       "   'feedbackPercentage': '99.0',\n",
       "   'feedbackScore': 6135},\n",
       "  'condition': 'Used',\n",
       "  'conditionId': '3000',\n",
       "  'thumbnailImages': [{'imageUrl': 'https://i.ebayimg.com/images/g/eIQAAOSwartmjHww/s-l1600.jpg'}],\n",
       "  'shippingOptions': [{'shippingCostType': 'FIXED',\n",
       "    'shippingCost': {'value': '0.00', 'currency': 'USD'}}],\n",
       "  'buyingOptions': ['FIXED_PRICE'],\n",
       "  'itemWebUrl': 'https://www.ebay.com/itm/256580752733?hash=item3bbd67955d:g:eIQAAOSwartmjHww&amdata=enc%3AAQAJAAAA4H%2FqIbIc6o8B4%2BvpFzQyE8WNmO0L8DUfBEpE8Dcm5Lc0Ekktmh%2FPspuOmSYPDDeq2Mo5o9rit5VkWZIoSti2iSOn7YMyD1%2F44G%2F260jYO5I99rWgKUt2dJnD1%2BJ0upQBZOdv88CvkQH3Dtf0UIfU83AaHir7jEUahzGSyIsNUt%2B547soIBiNTEnXhK1Z%2BHtug5l%2B7pSEL3EGgvua%2BjREEszJNxJlcNoFFdwtHsgTmBF%2B4W2zlT7JvAXMIifJ7TPKBtv7F1plLqwG0onYinZLJr%2F6MMntNzliGyAQ2xXw5MRK',\n",
       "  'itemLocation': {'postalCode': '027**', 'country': 'US'},\n",
       "  'additionalImages': [{'imageUrl': 'https://i.ebayimg.com/images/g/r1sAAOSwxGxmjHwx/s-l225.jpg'},\n",
       "   {'imageUrl': 'https://i.ebayimg.com/images/g/ExoAAOSwR-pmjHwt/s-l225.jpg'},\n",
       "   {'imageUrl': 'https://i.ebayimg.com/images/g/xV4AAOSwZPpmjHwk/s-l225.jpg'},\n",
       "   {'imageUrl': 'https://i.ebayimg.com/images/g/dZAAAOSwRDhmjHwl/s-l225.jpg'},\n",
       "   {'imageUrl': 'https://i.ebayimg.com/images/g/wa0AAOSwC75mjHwl/s-l225.jpg'},\n",
       "   {'imageUrl': 'https://i.ebayimg.com/images/g/VoEAAOSwR61mjHwm/s-l225.jpg'},\n",
       "   {'imageUrl': 'https://i.ebayimg.com/images/g/q8UAAOSwSl1mjHwo/s-l225.jpg'},\n",
       "   {'imageUrl': 'https://i.ebayimg.com/images/g/t4gAAOSw4WlmjHwp/s-l225.jpg'},\n",
       "   {'imageUrl': 'https://i.ebayimg.com/images/g/5xkAAOSwf7xmjHwq/s-l225.jpg'},\n",
       "   {'imageUrl': 'https://i.ebayimg.com/images/g/LnEAAOSwiYpmjHwr/s-l225.jpg'},\n",
       "   {'imageUrl': 'https://i.ebayimg.com/images/g/oyMAAOSwyGpmjHwt/s-l225.jpg'},\n",
       "   {'imageUrl': 'https://i.ebayimg.com/images/g/fqEAAOSwpFBmjHwu/s-l225.jpg'},\n",
       "   {'imageUrl': 'https://i.ebayimg.com/images/g/RXYAAOSwTT9mjHwv/s-l225.jpg'},\n",
       "   {'imageUrl': 'https://i.ebayimg.com/images/g/QzQAAOSw1Idmu3CD/s-l225.jpg'},\n",
       "   {'imageUrl': 'https://i.ebayimg.com/images/g/JAYAAOSwVEBmu3CE/s-l225.jpg'},\n",
       "   {'imageUrl': 'https://i.ebayimg.com/images/g/NHUAAOSwJ2Zmu3CF/s-l225.jpg'},\n",
       "   {'imageUrl': 'https://i.ebayimg.com/images/g/WXcAAOSwntZmu3CH/s-l225.jpg'},\n",
       "   {'imageUrl': 'https://i.ebayimg.com/images/g/YYcAAOSwbgFmu3CI/s-l225.jpg'}],\n",
       "  'adultOnly': False,\n",
       "  'legacyItemId': '256580752733',\n",
       "  'availableCoupons': False,\n",
       "  'itemCreationDate': '2024-07-23T15:54:57.000Z',\n",
       "  'topRatedBuyingExperience': False,\n",
       "  'priorityListing': True,\n",
       "  'listingMarketplaceId': 'EBAY_US'},\n",
       " {'itemId': 'v1|335353706306|544719269995',\n",
       "  'title': 'Dell Latitude 5500 Laptop PC Intel Core i5 4.10GHz 64GB RAM 4TB SSD Win 11 Pro',\n",
       "  'itemGroupHref': 'https://api.ebay.com/buy/browse/v1/item/get_items_by_item_group?item_group_id=335353706306',\n",
       "  'leafCategoryIds': ['177'],\n",
       "  'categories': [{'categoryId': '177',\n",
       "    'categoryName': 'PC Laptops & Netbooks'},\n",
       "   {'categoryId': '58058', 'categoryName': 'Computers/Tablets & Networking'},\n",
       "   {'categoryId': '175672', 'categoryName': 'Laptops & Netbooks'}],\n",
       "  'image': {'imageUrl': 'https://i.ebayimg.com/images/g/bIkAAOSwwNBmomtG/s-l225.jpg'},\n",
       "  'price': {'value': '361.00', 'currency': 'USD'},\n",
       "  'itemGroupType': 'SELLER_DEFINED_VARIATIONS',\n",
       "  'itemHref': 'https://api.ebay.com/buy/browse/v1/item/v1%7C335353706306%7C544719269995',\n",
       "  'seller': {'username': 'aaa_pcs',\n",
       "   'feedbackPercentage': '100.0',\n",
       "   'feedbackScore': 5102},\n",
       "  'marketingPrice': {'originalPrice': {'value': '711.00', 'currency': 'USD'},\n",
       "   'discountPercentage': '49',\n",
       "   'discountAmount': {'value': '350.00', 'currency': 'USD'},\n",
       "   'priceTreatment': 'MARKDOWN'},\n",
       "  'condition': 'Very Good - Refurbished',\n",
       "  'conditionId': '2020',\n",
       "  'thumbnailImages': [{'imageUrl': 'https://i.ebayimg.com/images/g/bIkAAOSwwNBmomtG/s-l1200.jpg'}],\n",
       "  'shippingOptions': [{'shippingCostType': 'FIXED',\n",
       "    'shippingCost': {'value': '0.00', 'currency': 'USD'},\n",
       "    'minEstimatedDeliveryDate': '2024-08-15T07:00:00.000Z',\n",
       "    'maxEstimatedDeliveryDate': '2024-08-16T07:00:00.000Z',\n",
       "    'guaranteedDelivery': True}],\n",
       "  'buyingOptions': ['FIXED_PRICE'],\n",
       "  'itemWebUrl': 'https://www.ebay.com/itm/335353706306?hash=item4e14a37742:g:bIkAAOSwwNBmomtG&amdata=enc%3AAQAJAAAA4H%2FqIbIc6o8B4%2BvpFzQyE8WmSeYxbdpdFghHJi%2BLxzEUcLCyiEYTnhnVAHZ8ndj3e7zPmGysbfghZlPHVy5qse0%2FLkil6aClzc%2FMOLb7XZUs2KCC2bhc1pXlKA%2BCwDZd6C6X%2BLDVt1k3nxP22x3sQtqFw7t0OwbeU7DfD05TF3oKMmwL%2Btt5ZS0NO86v0ibabNmcv4VqDxIgwRV7O0X7Qp6sLmeXzhTZFXxdioANU92sPsVo40Yvugie8NwxBMRUEG2Wf9TMFkvsvD9J8TehC6Exj4LdyX26oXFnsIeFeNtI',\n",
       "  'itemLocation': {'postalCode': '339**', 'country': 'US'},\n",
       "  'additionalImages': [{'imageUrl': 'https://i.ebayimg.com/images/g/AAYAAOSw4Jpjwy1T/s-l225.jpg'},\n",
       "   {'imageUrl': 'https://i.ebayimg.com/images/g/UtkAAOSwmBdmDuZR/s-l225.jpg'},\n",
       "   {'imageUrl': 'https://i.ebayimg.com/images/g/Mu0AAOSwol1mDuZR/s-l225.jpg'},\n",
       "   {'imageUrl': 'https://i.ebayimg.com/images/g/Y2cAAOSwSqtmDuZS/s-l225.jpg'},\n",
       "   {'imageUrl': 'https://i.ebayimg.com/images/g/AtcAAOSw8nVmDuZU/s-l225.jpg'},\n",
       "   {'imageUrl': 'https://i.ebayimg.com/images/g/tlwAAOSwPR1mDuZU/s-l225.jpg'},\n",
       "   {'imageUrl': 'https://i.ebayimg.com/images/g/cSsAAOSwjVpmDuZT/s-l225.jpg'},\n",
       "   {'imageUrl': 'https://i.ebayimg.com/images/g/UD4AAOSwMMBmDuZU/s-l225.jpg'},\n",
       "   {'imageUrl': 'https://i.ebayimg.com/images/g/63AAAOSwLQtmDuZS/s-l225.jpg'}],\n",
       "  'adultOnly': False,\n",
       "  'legacyItemId': '335353706306',\n",
       "  'availableCoupons': False,\n",
       "  'itemCreationDate': '2024-04-17T19:25:03.000Z',\n",
       "  'topRatedBuyingExperience': True,\n",
       "  'priorityListing': True,\n",
       "  'listingMarketplaceId': 'EBAY_US'},\n",
       " {'itemId': 'v1|375565570195|0',\n",
       "  'title': '15.6\" FHD Laptop 16GB RAM 512GB SSD Intel Celeron N5095 Win11 Pro Backlit KB',\n",
       "  'leafCategoryIds': ['177'],\n",
       "  'categories': [{'categoryId': '177',\n",
       "    'categoryName': 'PC Laptops & Netbooks'},\n",
       "   {'categoryId': '58058', 'categoryName': 'Computers/Tablets & Networking'},\n",
       "   {'categoryId': '175672', 'categoryName': 'Laptops & Netbooks'}],\n",
       "  'image': {'imageUrl': 'https://i.ebayimg.com/images/g/CroAAOSwyiZmqewS/s-l225.jpg'},\n",
       "  'price': {'value': '139.00', 'currency': 'USD'},\n",
       "  'itemHref': 'https://api.ebay.com/buy/browse/v1/item/v1%7C375565570195%7C0',\n",
       "  'seller': {'username': 'fuhuakeji',\n",
       "   'feedbackPercentage': '96.8',\n",
       "   'feedbackScore': 59},\n",
       "  'condition': 'Used',\n",
       "  'conditionId': '3000',\n",
       "  'thumbnailImages': [{'imageUrl': 'https://i.ebayimg.com/images/g/CroAAOSwyiZmqewS/s-l1600.jpg'}],\n",
       "  'shippingOptions': [{'shippingCostType': 'FIXED',\n",
       "    'shippingCost': {'value': '0.00', 'currency': 'USD'}}],\n",
       "  'buyingOptions': ['FIXED_PRICE', 'BEST_OFFER'],\n",
       "  'itemWebUrl': 'https://www.ebay.com/itm/375565570195?hash=item577173d093:g:CroAAOSwyiZmqewS',\n",
       "  'itemLocation': {'postalCode': '970**', 'country': 'US'},\n",
       "  'additionalImages': [{'imageUrl': 'https://i.ebayimg.com/images/g/fZ0AAOSw355mqe9A/s-l225.jpg'},\n",
       "   {'imageUrl': 'https://i.ebayimg.com/images/g/uGAAAOSwnuRmqe88/s-l225.jpg'},\n",
       "   {'imageUrl': 'https://i.ebayimg.com/images/g/IakAAOSwKHdmqe4J/s-l225.jpg'},\n",
       "   {'imageUrl': 'https://i.ebayimg.com/images/g/ackAAOSwQKRmqewl/s-l225.jpg'},\n",
       "   {'imageUrl': 'https://i.ebayimg.com/images/g/nIYAAOSwwy1mqewp/s-l225.jpg'},\n",
       "   {'imageUrl': 'https://i.ebayimg.com/images/g/4boAAOSwSe9mqewt/s-l225.jpg'},\n",
       "   {'imageUrl': 'https://i.ebayimg.com/images/g/SmQAAOSw21Zmqewz/s-l225.jpg'},\n",
       "   {'imageUrl': 'https://i.ebayimg.com/images/g/zeEAAOSw19Nmqewz/s-l225.jpg'},\n",
       "   {'imageUrl': 'https://i.ebayimg.com/images/g/BkwAAOSwZExmqew2/s-l225.jpg'}],\n",
       "  'adultOnly': False,\n",
       "  'legacyItemId': '375565570195',\n",
       "  'availableCoupons': False,\n",
       "  'itemCreationDate': '2024-07-31T08:03:32.000Z',\n",
       "  'topRatedBuyingExperience': True,\n",
       "  'priorityListing': False,\n",
       "  'listingMarketplaceId': 'EBAY_US'},\n",
       " {'itemId': 'v1|204705618788|0',\n",
       "  'title': 'HP - 17.3\" Full HD Laptop - Intel Core i3 - 8GB Memory - 256GB SSD - Natural ...',\n",
       "  'leafCategoryIds': ['177'],\n",
       "  'categories': [{'categoryId': '177',\n",
       "    'categoryName': 'PC Laptops & Netbooks'},\n",
       "   {'categoryId': '58058', 'categoryName': 'Computers/Tablets & Networking'},\n",
       "   {'categoryId': '175672', 'categoryName': 'Laptops & Netbooks'}],\n",
       "  'image': {'imageUrl': 'https://i.ebayimg.com/images/g/urwAAOSwVqJmhs9J/s-l225.jpg'},\n",
       "  'price': {'value': '369.99', 'currency': 'USD'},\n",
       "  'itemHref': 'https://api.ebay.com/buy/browse/v1/item/v1%7C204705618788%7C0',\n",
       "  'seller': {'username': 'best_buy',\n",
       "   'feedbackPercentage': '95.7',\n",
       "   'feedbackScore': 846643},\n",
       "  'marketingPrice': {'originalPrice': {'value': '549.99', 'currency': 'USD'},\n",
       "   'discountPercentage': '33',\n",
       "   'discountAmount': {'value': '180.00', 'currency': 'USD'},\n",
       "   'priceTreatment': 'MINIMUM_ADVERTISED_PRICE'},\n",
       "  'condition': 'New',\n",
       "  'conditionId': '1000',\n",
       "  'thumbnailImages': [{'imageUrl': 'https://i.ebayimg.com/images/g/urwAAOSwVqJmhs9J/s-l1600.jpg'}],\n",
       "  'shippingOptions': [{'shippingCostType': 'FIXED',\n",
       "    'shippingCost': {'value': '0.00', 'currency': 'USD'}}],\n",
       "  'buyingOptions': ['FIXED_PRICE'],\n",
       "  'epid': '20066945894',\n",
       "  'itemWebUrl': 'https://www.ebay.com/itm/204705618788?hash=item2fa967db64:g:urwAAOSwVqJmhs9J',\n",
       "  'itemLocation': {'country': 'US'},\n",
       "  'additionalImages': [{'imageUrl': 'https://i.ebayimg.com/images/g/e3kAAOSwPhJmhs9J/s-l225.jpg'},\n",
       "   {'imageUrl': 'https://i.ebayimg.com/images/g/IL4AAOSwL4Bmhs9K/s-l225.jpg'},\n",
       "   {'imageUrl': 'https://i.ebayimg.com/images/g/YvsAAOSwvnpmhs9J/s-l225.jpg'},\n",
       "   {'imageUrl': 'https://i.ebayimg.com/images/g/H20AAOSwrYpmhs9J/s-l225.jpg'},\n",
       "   {'imageUrl': 'https://i.ebayimg.com/images/g/628AAOSwkYBmhs9J/s-l225.jpg'}],\n",
       "  'adultOnly': False,\n",
       "  'priceDisplayCondition': 'ONLY_SHOW_ON_REQUEST',\n",
       "  'legacyItemId': '204705618788',\n",
       "  'availableCoupons': False,\n",
       "  'itemCreationDate': '2024-03-21T18:52:07.000Z',\n",
       "  'topRatedBuyingExperience': False,\n",
       "  'priorityListing': False,\n",
       "  'listingMarketplaceId': 'EBAY_US'},\n",
       " {'itemId': 'v1|196305942422|0',\n",
       "  'title': 'Lenovo Ideapad 1i 15.6\" FHD Touchscreen Laptop - Intel Core i3-1215U with 8GB...',\n",
       "  'leafCategoryIds': ['177'],\n",
       "  'categories': [{'categoryId': '177',\n",
       "    'categoryName': 'PC Laptops & Netbooks'},\n",
       "   {'categoryId': '58058', 'categoryName': 'Computers/Tablets & Networking'},\n",
       "   {'categoryId': '175672', 'categoryName': 'Laptops & Netbooks'}],\n",
       "  'image': {'imageUrl': 'https://i.ebayimg.com/images/g/SuQAAOSwINRmqoDO/s-l225.jpg'},\n",
       "  'price': {'value': '329.99', 'currency': 'USD'},\n",
       "  'itemHref': 'https://api.ebay.com/buy/browse/v1/item/v1%7C196305942422%7C0',\n",
       "  'seller': {'username': 'best_buy',\n",
       "   'feedbackPercentage': '95.7',\n",
       "   'feedbackScore': 846643},\n",
       "  'marketingPrice': {'originalPrice': {'value': '499.99', 'currency': 'USD'},\n",
       "   'discountPercentage': '34',\n",
       "   'discountAmount': {'value': '170.00', 'currency': 'USD'},\n",
       "   'priceTreatment': 'MINIMUM_ADVERTISED_PRICE'},\n",
       "  'condition': 'New',\n",
       "  'conditionId': '1000',\n",
       "  'thumbnailImages': [{'imageUrl': 'https://i.ebayimg.com/images/g/SuQAAOSwINRmqoDO/s-l1600.jpg'}],\n",
       "  'shippingOptions': [{'shippingCostType': 'FIXED',\n",
       "    'shippingCost': {'value': '0.00', 'currency': 'USD'}}],\n",
       "  'buyingOptions': ['FIXED_PRICE'],\n",
       "  'epid': '20066987078',\n",
       "  'itemWebUrl': 'https://www.ebay.com/itm/196305942422?hash=item2db4bef796:g:SuQAAOSwINRmqoDO',\n",
       "  'itemLocation': {'country': 'US'},\n",
       "  'additionalImages': [{'imageUrl': 'https://i.ebayimg.com/images/g/E7QAAOSwfq9mqoDO/s-l225.jpg'},\n",
       "   {'imageUrl': 'https://i.ebayimg.com/images/g/vGoAAOSweEZmqoDO/s-l225.jpg'},\n",
       "   {'imageUrl': 'https://i.ebayimg.com/images/g/vaUAAOSwDgZmqoDO/s-l225.jpg'},\n",
       "   {'imageUrl': 'https://i.ebayimg.com/images/g/YvEAAOSwwdtmqoDO/s-l225.jpg'},\n",
       "   {'imageUrl': 'https://i.ebayimg.com/images/g/f3YAAOSw6uZmqoDP/s-l225.jpg'}],\n",
       "  'adultOnly': False,\n",
       "  'priceDisplayCondition': 'ONLY_SHOW_ON_REQUEST',\n",
       "  'legacyItemId': '196305942422',\n",
       "  'availableCoupons': False,\n",
       "  'itemCreationDate': '2024-03-21T18:52:06.000Z',\n",
       "  'topRatedBuyingExperience': False,\n",
       "  'priorityListing': False,\n",
       "  'listingMarketplaceId': 'EBAY_US'},\n",
       " {'itemId': 'v1|204705619254|0',\n",
       "  'title': 'HP - 14\" Laptop - Intel Celeron - 4GB Memory - 128GB eMMC - Jet Black',\n",
       "  'leafCategoryIds': ['177'],\n",
       "  'categories': [{'categoryId': '177',\n",
       "    'categoryName': 'PC Laptops & Netbooks'},\n",
       "   {'categoryId': '58058', 'categoryName': 'Computers/Tablets & Networking'},\n",
       "   {'categoryId': '175672', 'categoryName': 'Laptops & Netbooks'}],\n",
       "  'image': {'imageUrl': 'https://i.ebayimg.com/images/g/7W4AAOSwp-Zmhs5Y/s-l225.jpg'},\n",
       "  'price': {'value': '199.99', 'currency': 'USD'},\n",
       "  'itemHref': 'https://api.ebay.com/buy/browse/v1/item/v1%7C204705619254%7C0',\n",
       "  'seller': {'username': 'best_buy',\n",
       "   'feedbackPercentage': '95.7',\n",
       "   'feedbackScore': 846643},\n",
       "  'condition': 'New',\n",
       "  'conditionId': '1000',\n",
       "  'thumbnailImages': [{'imageUrl': 'https://i.ebayimg.com/images/g/7W4AAOSwp-Zmhs5Y/s-l1600.jpg'}],\n",
       "  'shippingOptions': [{'shippingCostType': 'FIXED',\n",
       "    'shippingCost': {'value': '0.00', 'currency': 'USD'}}],\n",
       "  'buyingOptions': ['FIXED_PRICE'],\n",
       "  'itemWebUrl': 'https://www.ebay.com/itm/204705619254?hash=item2fa967dd36:g:7W4AAOSwp-Zmhs5Y',\n",
       "  'itemLocation': {'country': 'US'},\n",
       "  'additionalImages': [{'imageUrl': 'https://i.ebayimg.com/images/g/M3oAAOSwyexmhs5Z/s-l225.jpg'},\n",
       "   {'imageUrl': 'https://i.ebayimg.com/images/g/VlIAAOSwIfdmhs5Y/s-l225.jpg'},\n",
       "   {'imageUrl': 'https://i.ebayimg.com/images/g/HBEAAOSwWjpmhs5Z/s-l225.jpg'},\n",
       "   {'imageUrl': 'https://i.ebayimg.com/images/g/xroAAOSwOJxmhs5Y/s-l225.jpg'},\n",
       "   {'imageUrl': 'https://i.ebayimg.com/images/g/-8YAAOSws05mhs5Y/s-l225.jpg'}],\n",
       "  'adultOnly': False,\n",
       "  'legacyItemId': '204705619254',\n",
       "  'availableCoupons': False,\n",
       "  'itemCreationDate': '2024-03-21T18:53:06.000Z',\n",
       "  'topRatedBuyingExperience': False,\n",
       "  'priorityListing': False,\n",
       "  'listingMarketplaceId': 'EBAY_US'},\n",
       " {'itemId': 'v1|387228267955|0',\n",
       "  'title': 'Dell Laptop Latitude 3190 TouchScreen 8GB RAM 128GB SSD Windows 10 Pro Active',\n",
       "  'leafCategoryIds': ['177'],\n",
       "  'categories': [{'categoryId': '177',\n",
       "    'categoryName': 'PC Laptops & Netbooks'},\n",
       "   {'categoryId': '58058', 'categoryName': 'Computers/Tablets & Networking'},\n",
       "   {'categoryId': '175672', 'categoryName': 'Laptops & Netbooks'}],\n",
       "  'image': {'imageUrl': 'https://i.ebayimg.com/images/g/WVsAAOSwhpNmnna8/s-l225.jpg'},\n",
       "  'price': {'value': '119.99', 'currency': 'USD'},\n",
       "  'itemHref': 'https://api.ebay.com/buy/browse/v1/item/v1%7C387228267955%7C0',\n",
       "  'seller': {'username': 'icorehaven',\n",
       "   'feedbackPercentage': '100.0',\n",
       "   'feedbackScore': 219},\n",
       "  'condition': 'Used',\n",
       "  'conditionId': '3000',\n",
       "  'thumbnailImages': [{'imageUrl': 'https://i.ebayimg.com/images/g/WVsAAOSwhpNmnna8/s-l1600.jpg'}],\n",
       "  'shippingOptions': [{'shippingCostType': 'FIXED',\n",
       "    'shippingCost': {'value': '0.00', 'currency': 'USD'}}],\n",
       "  'buyingOptions': ['FIXED_PRICE', 'BEST_OFFER'],\n",
       "  'itemWebUrl': 'https://www.ebay.com/itm/387228267955?hash=item5a289a75b3:g:WVsAAOSwhpNmnna8&amdata=enc%3AAQAJAAAA4H%2FqIbIc6o8B4%2BvpFzQyE8XBxzvo%2BpkESwcRSTOiP5sGIgtKoCZB8LTtkTPte2%2FGaWIF%2ByOF%2F73yKrfq58tsjBRNNVRQLJUvYhzDK0YRX0U0VP6M2BVOAyVgX%2FqGIiMAj%2BXED8fnB9NTFlQoZ2PPQqg7I1cV86RrHPkkt0h0pETvYUBuM2bGDpW3V9k4TV3E0oTU2mKSjEYNqlLeK2lKBwUc19NqmtzdiyKwBNY2S3YNahc0HTF71bYN9QX882S6tY881nXNfBx3G0q5D9c%2FMbj9Hr0OrIX6rdW8ZeUkeUnO',\n",
       "  'itemLocation': {'postalCode': '983**', 'country': 'US'},\n",
       "  'additionalImages': [{'imageUrl': 'https://i.ebayimg.com/images/g/QnIAAOSwq8Fmnna8/s-l225.jpg'},\n",
       "   {'imageUrl': 'https://i.ebayimg.com/images/g/KkQAAOSwNxRmnna8/s-l225.jpg'},\n",
       "   {'imageUrl': 'https://i.ebayimg.com/images/g/A5cAAOSwFSZmnna8/s-l225.jpg'},\n",
       "   {'imageUrl': 'https://i.ebayimg.com/images/g/f8MAAOSwxC1mnnbq/s-l225.jpg'},\n",
       "   {'imageUrl': 'https://i.ebayimg.com/images/g/uo4AAOSwA2dmnnb2/s-l225.jpg'}],\n",
       "  'adultOnly': False,\n",
       "  'legacyItemId': '387228267955',\n",
       "  'availableCoupons': False,\n",
       "  'itemCreationDate': '2024-07-22T15:13:59.000Z',\n",
       "  'topRatedBuyingExperience': False,\n",
       "  'priorityListing': True,\n",
       "  'listingMarketplaceId': 'EBAY_US'},\n",
       " {'itemId': 'v1|115795483206|0',\n",
       "  'title': '15.6\" Lenovo ThinkPad Laptop PC: Intel i5! 16GB RAM! 512 SSD! Windows 10! Webcam',\n",
       "  'leafCategoryIds': ['177'],\n",
       "  'categories': [{'categoryId': '177',\n",
       "    'categoryName': 'PC Laptops & Netbooks'},\n",
       "   {'categoryId': '58058', 'categoryName': 'Computers/Tablets & Networking'},\n",
       "   {'categoryId': '175672', 'categoryName': 'Laptops & Netbooks'}],\n",
       "  'image': {'imageUrl': 'https://i.ebayimg.com/images/g/aFMAAOSwS4dmT5XL/s-l225.jpg'},\n",
       "  'price': {'value': '229.99', 'currency': 'USD'},\n",
       "  'itemHref': 'https://api.ebay.com/buy/browse/v1/item/v1%7C115795483206%7C0',\n",
       "  'seller': {'username': 'rinuvo',\n",
       "   'feedbackPercentage': '99.4',\n",
       "   'feedbackScore': 5571},\n",
       "  'marketingPrice': {'originalPrice': {'value': '279.99', 'currency': 'USD'},\n",
       "   'discountPercentage': '18',\n",
       "   'discountAmount': {'value': '50.00', 'currency': 'USD'},\n",
       "   'priceTreatment': 'MARKDOWN'},\n",
       "  'condition': 'Very Good - Refurbished',\n",
       "  'conditionId': '2020',\n",
       "  'thumbnailImages': [{'imageUrl': 'https://i.ebayimg.com/images/g/aFMAAOSwS4dmT5XL/s-l1600.jpg'}],\n",
       "  'shippingOptions': [{'shippingCostType': 'FIXED',\n",
       "    'shippingCost': {'value': '0.00', 'currency': 'USD'},\n",
       "    'minEstimatedDeliveryDate': '2024-08-15T07:00:00.000Z',\n",
       "    'maxEstimatedDeliveryDate': '2024-08-16T07:00:00.000Z',\n",
       "    'guaranteedDelivery': True}],\n",
       "  'buyingOptions': ['FIXED_PRICE', 'BEST_OFFER'],\n",
       "  'itemWebUrl': 'https://www.ebay.com/itm/115795483206?hash=item1af5f2da46:g:aFMAAOSwS4dmT5XL&amdata=enc%3AAQAJAAAA4H%2FqIbIc6o8B4%2BvpFzQyE8WJNxKuf3ir0LK6V0aUccbZ1fWqSTDZmc%2BvzlK4SyAkzGrSvRZOGDZo3Fv17rSFfEWyHAiZv%2FJyEhYbtbFwOxBs38HQcOCByosQIew2QWT4yWSR4hN3Ohhju%2F7eUT3CibKigfmd%2BPeXZsSLP3mPkpK5xTfKBtFC2n60%2Fp%2FG4z8QdNJB%2FebyJ1tGaxnclKkpHhVca3mnqEdlrue8RfDHnBknXGHj7NMl1FbuEfNhHJJWaKNvCdvccZF%2BWcld1aTvFD%2BYeIaf%2FBZPXF1noGNstRU3',\n",
       "  'itemLocation': {'postalCode': '410**', 'country': 'US'},\n",
       "  'additionalImages': [{'imageUrl': 'https://i.ebayimg.com/images/g/wWwAAOSwu3NmT5W-/s-l225.jpg'},\n",
       "   {'imageUrl': 'https://i.ebayimg.com/images/g/sMUAAOSwnPtmT5W-/s-l225.jpg'},\n",
       "   {'imageUrl': 'https://i.ebayimg.com/images/g/C~4AAOSw1IpmT5W-/s-l225.jpg'},\n",
       "   {'imageUrl': 'https://i.ebayimg.com/images/g/3kEAAOSwabFmT5W-/s-l225.jpg'},\n",
       "   {'imageUrl': 'https://i.ebayimg.com/images/g/CHkAAOSwxP1mT5W-/s-l225.jpg'},\n",
       "   {'imageUrl': 'https://i.ebayimg.com/images/g/IH8AAOSwmNlmT5W-/s-l225.jpg'},\n",
       "   {'imageUrl': 'https://i.ebayimg.com/images/g/nccAAOSw0zhmT5W-/s-l225.jpg'},\n",
       "   {'imageUrl': 'https://i.ebayimg.com/images/g/QCYAAOSwdwlmT5W-/s-l225.jpg'}],\n",
       "  'adultOnly': False,\n",
       "  'legacyItemId': '115795483206',\n",
       "  'availableCoupons': False,\n",
       "  'itemCreationDate': '2023-05-05T15:41:35.000Z',\n",
       "  'topRatedBuyingExperience': True,\n",
       "  'priorityListing': True,\n",
       "  'listingMarketplaceId': 'EBAY_US'}]"
      ]
     },
     "execution_count": 56,
     "metadata": {},
     "output_type": "execute_result"
    }
   ],
   "source": [
    "x = call_ebay_api_by_price_count('laptop', 100, 1000, 10)\n",
    "x"
   ]
  },
  {
   "cell_type": "code",
   "execution_count": 41,
   "metadata": {},
   "outputs": [
    {
     "name": "stderr",
     "output_type": "stream",
     "text": [
      "2024-08-13 17:16:32,234 - INFO - Connected to Snowflake\n"
     ]
    },
    {
     "name": "stderr",
     "output_type": "stream",
     "text": [
      "2024-08-13 17:16:32,251 - INFO - Executing query: SELECT DISTINCT PRODUCT_CATEGORY_NAME_ENGLISH  FROM \"Product_Category_Translation\";\n",
      "2024-08-13 17:16:32,962 - ERROR - Error executing query: (snowflake.connector.errors.ProgrammingError) 390114 (08001): None: Authentication token has expired.  The user must authenticate again.\n",
      "[SQL: SELECT DISTINCT PRODUCT_CATEGORY_NAME_ENGLISH  FROM \"Product_Category_Translation\";]\n",
      "(Background on this error at: https://sqlalche.me/e/20/f405)\n"
     ]
    },
    {
     "ename": "ProgrammingError",
     "evalue": "(snowflake.connector.errors.ProgrammingError) 390114 (08001): None: Authentication token has expired.  The user must authenticate again.\n(Background on this error at: https://sqlalche.me/e/20/f405)",
     "output_type": "error",
     "traceback": [
      "\u001b[0;31m---------------------------------------------------------------------------\u001b[0m",
      "\u001b[0;31mReauthenticationRequest\u001b[0m                   Traceback (most recent call last)",
      "File \u001b[0;32m~/final_pro/Final-Project-SmartCommerce/venv/lib/python3.10/site-packages/snowflake/connector/network.py:764\u001b[0m, in \u001b[0;36mSnowflakeRestful._post_request\u001b[0;34m(self, url, headers, body, token, timeout, socket_timeout, _no_results, no_retry, _include_retry_params)\u001b[0m\n\u001b[1;32m    763\u001b[0m \u001b[38;5;28;01mtry\u001b[39;00m:\n\u001b[0;32m--> 764\u001b[0m     ret \u001b[38;5;241m=\u001b[39m \u001b[38;5;28;43mself\u001b[39;49m\u001b[38;5;241;43m.\u001b[39;49m\u001b[43m_renew_session\u001b[49m\u001b[43m(\u001b[49m\u001b[43m)\u001b[49m\n\u001b[1;32m    765\u001b[0m \u001b[38;5;28;01mexcept\u001b[39;00m ReauthenticationRequest \u001b[38;5;28;01mas\u001b[39;00m ex:\n",
      "File \u001b[0;32m~/final_pro/Final-Project-SmartCommerce/venv/lib/python3.10/site-packages/snowflake/connector/network.py:538\u001b[0m, in \u001b[0;36mSnowflakeRestful._renew_session\u001b[0;34m(self)\u001b[0m\n\u001b[1;32m    537\u001b[0m \u001b[38;5;250m\u001b[39m\u001b[38;5;124;03m\"\"\"Renew a session and master token.\"\"\"\u001b[39;00m\n\u001b[0;32m--> 538\u001b[0m \u001b[38;5;28;01mreturn\u001b[39;00m \u001b[38;5;28;43mself\u001b[39;49m\u001b[38;5;241;43m.\u001b[39;49m\u001b[43m_token_request\u001b[49m\u001b[43m(\u001b[49m\u001b[43mREQUEST_TYPE_RENEW\u001b[49m\u001b[43m)\u001b[49m\n",
      "File \u001b[0;32m~/final_pro/Final-Project-SmartCommerce/venv/lib/python3.10/site-packages/snowflake/connector/network.py:593\u001b[0m, in \u001b[0;36mSnowflakeRestful._token_request\u001b[0;34m(self, request_type)\u001b[0m\n\u001b[1;32m    585\u001b[0m \u001b[38;5;28;01mif\u001b[39;00m errno \u001b[38;5;129;01min\u001b[39;00m (\n\u001b[1;32m    586\u001b[0m     ID_TOKEN_EXPIRED_GS_CODE,\n\u001b[1;32m    587\u001b[0m     SESSION_EXPIRED_GS_CODE,\n\u001b[0;32m   (...)\u001b[0m\n\u001b[1;32m    591\u001b[0m     BAD_REQUEST_GS_CODE,\n\u001b[1;32m    592\u001b[0m ):\n\u001b[0;32m--> 593\u001b[0m     \u001b[38;5;28;01mraise\u001b[39;00m ReauthenticationRequest(\n\u001b[1;32m    594\u001b[0m         ProgrammingError(\n\u001b[1;32m    595\u001b[0m             msg\u001b[38;5;241m=\u001b[39merr,\n\u001b[1;32m    596\u001b[0m             errno\u001b[38;5;241m=\u001b[39m\u001b[38;5;28mint\u001b[39m(errno),\n\u001b[1;32m    597\u001b[0m             sqlstate\u001b[38;5;241m=\u001b[39mSQLSTATE_CONNECTION_WAS_NOT_ESTABLISHED,\n\u001b[1;32m    598\u001b[0m         )\n\u001b[1;32m    599\u001b[0m     )\n\u001b[1;32m    600\u001b[0m Error\u001b[38;5;241m.\u001b[39merrorhandler_wrapper(\n\u001b[1;32m    601\u001b[0m     \u001b[38;5;28mself\u001b[39m\u001b[38;5;241m.\u001b[39m_connection,\n\u001b[1;32m    602\u001b[0m     \u001b[38;5;28;01mNone\u001b[39;00m,\n\u001b[0;32m   (...)\u001b[0m\n\u001b[1;32m    608\u001b[0m     },\n\u001b[1;32m    609\u001b[0m )\n",
      "\u001b[0;31mReauthenticationRequest\u001b[0m: 390114 (08001): None: Authentication token has expired.  The user must authenticate again.",
      "\nDuring handling of the above exception, another exception occurred:\n",
      "\u001b[0;31mProgrammingError\u001b[0m                          Traceback (most recent call last)",
      "File \u001b[0;32m~/final_pro/Final-Project-SmartCommerce/venv/lib/python3.10/site-packages/sqlalchemy/engine/base.py:1127\u001b[0m, in \u001b[0;36mConnection._rollback_impl\u001b[0;34m(self)\u001b[0m\n\u001b[1;32m   1126\u001b[0m \u001b[38;5;28;01mtry\u001b[39;00m:\n\u001b[0;32m-> 1127\u001b[0m     \u001b[38;5;28;43mself\u001b[39;49m\u001b[38;5;241;43m.\u001b[39;49m\u001b[43mengine\u001b[49m\u001b[38;5;241;43m.\u001b[39;49m\u001b[43mdialect\u001b[49m\u001b[38;5;241;43m.\u001b[39;49m\u001b[43mdo_rollback\u001b[49m\u001b[43m(\u001b[49m\u001b[38;5;28;43mself\u001b[39;49m\u001b[38;5;241;43m.\u001b[39;49m\u001b[43mconnection\u001b[49m\u001b[43m)\u001b[49m\n\u001b[1;32m   1128\u001b[0m \u001b[38;5;28;01mexcept\u001b[39;00m \u001b[38;5;167;01mBaseException\u001b[39;00m \u001b[38;5;28;01mas\u001b[39;00m e:\n",
      "File \u001b[0;32m~/final_pro/Final-Project-SmartCommerce/venv/lib/python3.10/site-packages/sqlalchemy/engine/default.py:698\u001b[0m, in \u001b[0;36mDefaultDialect.do_rollback\u001b[0;34m(self, dbapi_connection)\u001b[0m\n\u001b[1;32m    697\u001b[0m \u001b[38;5;28;01mdef\u001b[39;00m \u001b[38;5;21mdo_rollback\u001b[39m(\u001b[38;5;28mself\u001b[39m, dbapi_connection):\n\u001b[0;32m--> 698\u001b[0m     \u001b[43mdbapi_connection\u001b[49m\u001b[38;5;241;43m.\u001b[39;49m\u001b[43mrollback\u001b[49m\u001b[43m(\u001b[49m\u001b[43m)\u001b[49m\n",
      "File \u001b[0;32m~/final_pro/Final-Project-SmartCommerce/venv/lib/python3.10/site-packages/snowflake/connector/connection.py:845\u001b[0m, in \u001b[0;36mSnowflakeConnection.rollback\u001b[0;34m(self)\u001b[0m\n\u001b[1;32m    844\u001b[0m \u001b[38;5;250m\u001b[39m\u001b[38;5;124;03m\"\"\"Rolls back the current transaction.\"\"\"\u001b[39;00m\n\u001b[0;32m--> 845\u001b[0m \u001b[38;5;28;43mself\u001b[39;49m\u001b[38;5;241;43m.\u001b[39;49m\u001b[43mcursor\u001b[49m\u001b[43m(\u001b[49m\u001b[43m)\u001b[49m\u001b[38;5;241;43m.\u001b[39;49m\u001b[43mexecute\u001b[49m\u001b[43m(\u001b[49m\u001b[38;5;124;43m\"\u001b[39;49m\u001b[38;5;124;43mROLLBACK\u001b[39;49m\u001b[38;5;124;43m\"\u001b[39;49m\u001b[43m)\u001b[49m\n",
      "File \u001b[0;32m~/final_pro/Final-Project-SmartCommerce/venv/lib/python3.10/site-packages/snowflake/connector/cursor.py:984\u001b[0m, in \u001b[0;36mSnowflakeCursor.execute\u001b[0;34m(self, command, params, _bind_stage, timeout, _exec_async, _no_retry, _do_reset, _put_callback, _put_azure_callback, _put_callback_output_stream, _get_callback, _get_azure_callback, _get_callback_output_stream, _show_progress_bar, _statement_params, _is_internal, _describe_only, _no_results, _is_put_get, _raise_put_get_error, _force_put_overwrite, _skip_upload_on_content_match, file_stream, num_statements, _dataframe_ast)\u001b[0m\n\u001b[1;32m    982\u001b[0m     query \u001b[38;5;241m=\u001b[39m query1\n\u001b[0;32m--> 984\u001b[0m ret \u001b[38;5;241m=\u001b[39m \u001b[38;5;28;43mself\u001b[39;49m\u001b[38;5;241;43m.\u001b[39;49m\u001b[43m_execute_helper\u001b[49m\u001b[43m(\u001b[49m\u001b[43mquery\u001b[49m\u001b[43m,\u001b[49m\u001b[43m \u001b[49m\u001b[38;5;241;43m*\u001b[39;49m\u001b[38;5;241;43m*\u001b[39;49m\u001b[43mkwargs\u001b[49m\u001b[43m)\u001b[49m\n\u001b[1;32m    985\u001b[0m \u001b[38;5;28mself\u001b[39m\u001b[38;5;241m.\u001b[39m_sfqid \u001b[38;5;241m=\u001b[39m (\n\u001b[1;32m    986\u001b[0m     ret[\u001b[38;5;124m\"\u001b[39m\u001b[38;5;124mdata\u001b[39m\u001b[38;5;124m\"\u001b[39m][\u001b[38;5;124m\"\u001b[39m\u001b[38;5;124mqueryId\u001b[39m\u001b[38;5;124m\"\u001b[39m]\n\u001b[1;32m    987\u001b[0m     \u001b[38;5;28;01mif\u001b[39;00m \u001b[38;5;124m\"\u001b[39m\u001b[38;5;124mdata\u001b[39m\u001b[38;5;124m\"\u001b[39m \u001b[38;5;129;01min\u001b[39;00m ret \u001b[38;5;129;01mand\u001b[39;00m \u001b[38;5;124m\"\u001b[39m\u001b[38;5;124mqueryId\u001b[39m\u001b[38;5;124m\"\u001b[39m \u001b[38;5;129;01min\u001b[39;00m ret[\u001b[38;5;124m\"\u001b[39m\u001b[38;5;124mdata\u001b[39m\u001b[38;5;124m\"\u001b[39m]\n\u001b[1;32m    988\u001b[0m     \u001b[38;5;28;01melse\u001b[39;00m \u001b[38;5;28;01mNone\u001b[39;00m\n\u001b[1;32m    989\u001b[0m )\n",
      "File \u001b[0;32m~/final_pro/Final-Project-SmartCommerce/venv/lib/python3.10/site-packages/snowflake/connector/cursor.py:695\u001b[0m, in \u001b[0;36mSnowflakeCursor._execute_helper\u001b[0;34m(self, query, timeout, statement_params, binding_params, binding_stage, is_internal, describe_only, _no_results, _is_put_get, _no_retry, dataframe_ast)\u001b[0m\n\u001b[1;32m    694\u001b[0m \u001b[38;5;28;01mtry\u001b[39;00m:\n\u001b[0;32m--> 695\u001b[0m     ret \u001b[38;5;241m=\u001b[39m \u001b[38;5;28;43mself\u001b[39;49m\u001b[38;5;241;43m.\u001b[39;49m\u001b[43m_connection\u001b[49m\u001b[38;5;241;43m.\u001b[39;49m\u001b[43mcmd_query\u001b[49m\u001b[43m(\u001b[49m\n\u001b[1;32m    696\u001b[0m \u001b[43m        \u001b[49m\u001b[43mquery\u001b[49m\u001b[43m,\u001b[49m\n\u001b[1;32m    697\u001b[0m \u001b[43m        \u001b[49m\u001b[38;5;28;43mself\u001b[39;49m\u001b[38;5;241;43m.\u001b[39;49m\u001b[43m_sequence_counter\u001b[49m\u001b[43m,\u001b[49m\n\u001b[1;32m    698\u001b[0m \u001b[43m        \u001b[49m\u001b[38;5;28;43mself\u001b[39;49m\u001b[38;5;241;43m.\u001b[39;49m\u001b[43m_request_id\u001b[49m\u001b[43m,\u001b[49m\n\u001b[1;32m    699\u001b[0m \u001b[43m        \u001b[49m\u001b[43mbinding_params\u001b[49m\u001b[38;5;241;43m=\u001b[39;49m\u001b[43mbinding_params\u001b[49m\u001b[43m,\u001b[49m\n\u001b[1;32m    700\u001b[0m \u001b[43m        \u001b[49m\u001b[43mbinding_stage\u001b[49m\u001b[38;5;241;43m=\u001b[39;49m\u001b[43mbinding_stage\u001b[49m\u001b[43m,\u001b[49m\n\u001b[1;32m    701\u001b[0m \u001b[43m        \u001b[49m\u001b[43mis_file_transfer\u001b[49m\u001b[38;5;241;43m=\u001b[39;49m\u001b[38;5;28;43mbool\u001b[39;49m\u001b[43m(\u001b[49m\u001b[38;5;28;43mself\u001b[39;49m\u001b[38;5;241;43m.\u001b[39;49m\u001b[43m_is_file_transfer\u001b[49m\u001b[43m)\u001b[49m\u001b[43m,\u001b[49m\n\u001b[1;32m    702\u001b[0m \u001b[43m        \u001b[49m\u001b[43mstatement_params\u001b[49m\u001b[38;5;241;43m=\u001b[39;49m\u001b[43mstatement_params\u001b[49m\u001b[43m,\u001b[49m\n\u001b[1;32m    703\u001b[0m \u001b[43m        \u001b[49m\u001b[43mis_internal\u001b[49m\u001b[38;5;241;43m=\u001b[39;49m\u001b[43mis_internal\u001b[49m\u001b[43m,\u001b[49m\n\u001b[1;32m    704\u001b[0m \u001b[43m        \u001b[49m\u001b[43mdescribe_only\u001b[49m\u001b[38;5;241;43m=\u001b[39;49m\u001b[43mdescribe_only\u001b[49m\u001b[43m,\u001b[49m\n\u001b[1;32m    705\u001b[0m \u001b[43m        \u001b[49m\u001b[43m_no_results\u001b[49m\u001b[38;5;241;43m=\u001b[39;49m\u001b[43m_no_results\u001b[49m\u001b[43m,\u001b[49m\n\u001b[1;32m    706\u001b[0m \u001b[43m        \u001b[49m\u001b[43m_no_retry\u001b[49m\u001b[38;5;241;43m=\u001b[39;49m\u001b[43m_no_retry\u001b[49m\u001b[43m,\u001b[49m\n\u001b[1;32m    707\u001b[0m \u001b[43m        \u001b[49m\u001b[43mtimeout\u001b[49m\u001b[38;5;241;43m=\u001b[39;49m\u001b[43mreal_timeout\u001b[49m\u001b[43m,\u001b[49m\n\u001b[1;32m    708\u001b[0m \u001b[43m        \u001b[49m\u001b[43mdataframe_ast\u001b[49m\u001b[38;5;241;43m=\u001b[39;49m\u001b[43mdataframe_ast\u001b[49m\u001b[43m,\u001b[49m\n\u001b[1;32m    709\u001b[0m \u001b[43m    \u001b[49m\u001b[43m)\u001b[49m\n\u001b[1;32m    710\u001b[0m \u001b[38;5;28;01mfinally\u001b[39;00m:\n",
      "File \u001b[0;32m~/final_pro/Final-Project-SmartCommerce/venv/lib/python3.10/site-packages/snowflake/connector/connection.py:1341\u001b[0m, in \u001b[0;36mSnowflakeConnection.cmd_query\u001b[0;34m(self, sql, sequence_counter, request_id, binding_params, binding_stage, is_file_transfer, statement_params, is_internal, describe_only, _no_results, _update_current_object, _no_retry, timeout, dataframe_ast)\u001b[0m\n\u001b[1;32m   1339\u001b[0m url_parameters \u001b[38;5;241m=\u001b[39m {REQUEST_ID: request_id}\n\u001b[0;32m-> 1341\u001b[0m ret \u001b[38;5;241m=\u001b[39m \u001b[38;5;28;43mself\u001b[39;49m\u001b[38;5;241;43m.\u001b[39;49m\u001b[43mrest\u001b[49m\u001b[38;5;241;43m.\u001b[39;49m\u001b[43mrequest\u001b[49m\u001b[43m(\u001b[49m\n\u001b[1;32m   1342\u001b[0m \u001b[43m    \u001b[49m\u001b[38;5;124;43m\"\u001b[39;49m\u001b[38;5;124;43m/queries/v1/query-request?\u001b[39;49m\u001b[38;5;124;43m\"\u001b[39;49m\u001b[43m \u001b[49m\u001b[38;5;241;43m+\u001b[39;49m\u001b[43m \u001b[49m\u001b[43murlencode\u001b[49m\u001b[43m(\u001b[49m\u001b[43murl_parameters\u001b[49m\u001b[43m)\u001b[49m\u001b[43m,\u001b[49m\n\u001b[1;32m   1343\u001b[0m \u001b[43m    \u001b[49m\u001b[43mdata\u001b[49m\u001b[43m,\u001b[49m\n\u001b[1;32m   1344\u001b[0m \u001b[43m    \u001b[49m\u001b[43mclient\u001b[49m\u001b[38;5;241;43m=\u001b[39;49m\u001b[43mclient\u001b[49m\u001b[43m,\u001b[49m\n\u001b[1;32m   1345\u001b[0m \u001b[43m    \u001b[49m\u001b[43m_no_results\u001b[49m\u001b[38;5;241;43m=\u001b[39;49m\u001b[43m_no_results\u001b[49m\u001b[43m,\u001b[49m\n\u001b[1;32m   1346\u001b[0m \u001b[43m    \u001b[49m\u001b[43m_include_retry_params\u001b[49m\u001b[38;5;241;43m=\u001b[39;49m\u001b[38;5;28;43;01mTrue\u001b[39;49;00m\u001b[43m,\u001b[49m\n\u001b[1;32m   1347\u001b[0m \u001b[43m    \u001b[49m\u001b[43m_no_retry\u001b[49m\u001b[38;5;241;43m=\u001b[39;49m\u001b[43m_no_retry\u001b[49m\u001b[43m,\u001b[49m\n\u001b[1;32m   1348\u001b[0m \u001b[43m    \u001b[49m\u001b[43mtimeout\u001b[49m\u001b[38;5;241;43m=\u001b[39;49m\u001b[43mtimeout\u001b[49m\u001b[43m,\u001b[49m\n\u001b[1;32m   1349\u001b[0m \u001b[43m\u001b[49m\u001b[43m)\u001b[49m\n\u001b[1;32m   1351\u001b[0m \u001b[38;5;28;01mif\u001b[39;00m ret \u001b[38;5;129;01mis\u001b[39;00m \u001b[38;5;28;01mNone\u001b[39;00m:\n",
      "File \u001b[0;32m~/final_pro/Final-Project-SmartCommerce/venv/lib/python3.10/site-packages/snowflake/connector/network.py:502\u001b[0m, in \u001b[0;36mSnowflakeRestful.request\u001b[0;34m(self, url, body, method, client, timeout, _no_results, _include_retry_params, _no_retry)\u001b[0m\n\u001b[1;32m    501\u001b[0m \u001b[38;5;28;01mif\u001b[39;00m method \u001b[38;5;241m==\u001b[39m \u001b[38;5;124m\"\u001b[39m\u001b[38;5;124mpost\u001b[39m\u001b[38;5;124m\"\u001b[39m:\n\u001b[0;32m--> 502\u001b[0m     \u001b[38;5;28;01mreturn\u001b[39;00m \u001b[38;5;28;43mself\u001b[39;49m\u001b[38;5;241;43m.\u001b[39;49m\u001b[43m_post_request\u001b[49m\u001b[43m(\u001b[49m\n\u001b[1;32m    503\u001b[0m \u001b[43m        \u001b[49m\u001b[43murl\u001b[49m\u001b[43m,\u001b[49m\n\u001b[1;32m    504\u001b[0m \u001b[43m        \u001b[49m\u001b[43mheaders\u001b[49m\u001b[43m,\u001b[49m\n\u001b[1;32m    505\u001b[0m \u001b[43m        \u001b[49m\u001b[43mjson\u001b[49m\u001b[38;5;241;43m.\u001b[39;49m\u001b[43mdumps\u001b[49m\u001b[43m(\u001b[49m\u001b[43mbody\u001b[49m\u001b[43m)\u001b[49m\u001b[43m,\u001b[49m\n\u001b[1;32m    506\u001b[0m \u001b[43m        \u001b[49m\u001b[43mtoken\u001b[49m\u001b[38;5;241;43m=\u001b[39;49m\u001b[38;5;28;43mself\u001b[39;49m\u001b[38;5;241;43m.\u001b[39;49m\u001b[43mtoken\u001b[49m\u001b[43m,\u001b[49m\n\u001b[1;32m    507\u001b[0m \u001b[43m        \u001b[49m\u001b[43m_no_results\u001b[49m\u001b[38;5;241;43m=\u001b[39;49m\u001b[43m_no_results\u001b[49m\u001b[43m,\u001b[49m\n\u001b[1;32m    508\u001b[0m \u001b[43m        \u001b[49m\u001b[43mtimeout\u001b[49m\u001b[38;5;241;43m=\u001b[39;49m\u001b[43mtimeout\u001b[49m\u001b[43m,\u001b[49m\n\u001b[1;32m    509\u001b[0m \u001b[43m        \u001b[49m\u001b[43m_include_retry_params\u001b[49m\u001b[38;5;241;43m=\u001b[39;49m\u001b[43m_include_retry_params\u001b[49m\u001b[43m,\u001b[49m\n\u001b[1;32m    510\u001b[0m \u001b[43m        \u001b[49m\u001b[43mno_retry\u001b[49m\u001b[38;5;241;43m=\u001b[39;49m\u001b[43m_no_retry\u001b[49m\u001b[43m,\u001b[49m\n\u001b[1;32m    511\u001b[0m \u001b[43m    \u001b[49m\u001b[43m)\u001b[49m\n\u001b[1;32m    512\u001b[0m \u001b[38;5;28;01melse\u001b[39;00m:\n",
      "File \u001b[0;32m~/final_pro/Final-Project-SmartCommerce/venv/lib/python3.10/site-packages/snowflake/connector/network.py:767\u001b[0m, in \u001b[0;36mSnowflakeRestful._post_request\u001b[0;34m(self, url, headers, body, token, timeout, socket_timeout, _no_results, no_retry, _include_retry_params)\u001b[0m\n\u001b[1;32m    766\u001b[0m \u001b[38;5;28;01mif\u001b[39;00m \u001b[38;5;28mself\u001b[39m\u001b[38;5;241m.\u001b[39m_connection\u001b[38;5;241m.\u001b[39m_authenticator \u001b[38;5;241m!=\u001b[39m EXTERNAL_BROWSER_AUTHENTICATOR:\n\u001b[0;32m--> 767\u001b[0m     \u001b[38;5;28;01mraise\u001b[39;00m ex\u001b[38;5;241m.\u001b[39mcause\n\u001b[1;32m    768\u001b[0m ret \u001b[38;5;241m=\u001b[39m \u001b[38;5;28mself\u001b[39m\u001b[38;5;241m.\u001b[39m_connection\u001b[38;5;241m.\u001b[39m_reauthenticate()\n",
      "\u001b[0;31mProgrammingError\u001b[0m: 390114 (08001): None: Authentication token has expired.  The user must authenticate again.",
      "\nThe above exception was the direct cause of the following exception:\n",
      "\u001b[0;31mProgrammingError\u001b[0m                          Traceback (most recent call last)",
      "Cell \u001b[0;32mIn[41], line 1\u001b[0m\n\u001b[0;32m----> 1\u001b[0m categories \u001b[38;5;241m=\u001b[39m \u001b[43m__run_query\u001b[49m\u001b[43m(\u001b[49m\u001b[38;5;124;43m'\u001b[39;49m\u001b[38;5;124;43mSELECT DISTINCT PRODUCT_CATEGORY_NAME_ENGLISH  FROM \u001b[39;49m\u001b[38;5;124;43m\"\u001b[39;49m\u001b[38;5;124;43mProduct_Category_Translation\u001b[39;49m\u001b[38;5;124;43m\"\u001b[39;49m\u001b[38;5;124;43m;\u001b[39;49m\u001b[38;5;124;43m'\u001b[39;49m\u001b[43m)\u001b[49m[\u001b[38;5;124m'\u001b[39m\u001b[38;5;124mproduct_category_name_english\u001b[39m\u001b[38;5;124m'\u001b[39m]\u001b[38;5;241m.\u001b[39mtolist()\n\u001b[1;32m      2\u001b[0m categories\n",
      "Cell \u001b[0;32mIn[37], line 61\u001b[0m, in \u001b[0;36m__run_query\u001b[0;34m(query, engine, update)\u001b[0m\n\u001b[1;32m     59\u001b[0m     \u001b[38;5;28;01mreturn\u001b[39;00m \u001b[38;5;28;01mNone\u001b[39;00m\n\u001b[1;32m     60\u001b[0m \u001b[38;5;28;01mfinally\u001b[39;00m:\n\u001b[0;32m---> 61\u001b[0m     \u001b[43mconnection\u001b[49m\u001b[38;5;241;43m.\u001b[39;49m\u001b[43mclose\u001b[49m\u001b[43m(\u001b[49m\u001b[43m)\u001b[49m\n\u001b[1;32m     62\u001b[0m     logging\u001b[38;5;241m.\u001b[39minfo(\u001b[38;5;124m\"\u001b[39m\u001b[38;5;124mConnection closed\u001b[39m\u001b[38;5;124m\"\u001b[39m)\n",
      "File \u001b[0;32m~/final_pro/Final-Project-SmartCommerce/venv/lib/python3.10/site-packages/sqlalchemy/engine/base.py:1242\u001b[0m, in \u001b[0;36mConnection.close\u001b[0;34m(self)\u001b[0m\n\u001b[1;32m   1219\u001b[0m \u001b[38;5;250m\u001b[39m\u001b[38;5;124;03m\"\"\"Close this :class:`_engine.Connection`.\u001b[39;00m\n\u001b[1;32m   1220\u001b[0m \n\u001b[1;32m   1221\u001b[0m \u001b[38;5;124;03mThis results in a release of the underlying database\u001b[39;00m\n\u001b[0;32m   (...)\u001b[0m\n\u001b[1;32m   1238\u001b[0m \n\u001b[1;32m   1239\u001b[0m \u001b[38;5;124;03m\"\"\"\u001b[39;00m\n\u001b[1;32m   1241\u001b[0m \u001b[38;5;28;01mif\u001b[39;00m \u001b[38;5;28mself\u001b[39m\u001b[38;5;241m.\u001b[39m_transaction:\n\u001b[0;32m-> 1242\u001b[0m     \u001b[38;5;28;43mself\u001b[39;49m\u001b[38;5;241;43m.\u001b[39;49m\u001b[43m_transaction\u001b[49m\u001b[38;5;241;43m.\u001b[39;49m\u001b[43mclose\u001b[49m\u001b[43m(\u001b[49m\u001b[43m)\u001b[49m\n\u001b[1;32m   1243\u001b[0m     skip_reset \u001b[38;5;241m=\u001b[39m \u001b[38;5;28;01mTrue\u001b[39;00m\n\u001b[1;32m   1244\u001b[0m \u001b[38;5;28;01melse\u001b[39;00m:\n",
      "File \u001b[0;32m~/final_pro/Final-Project-SmartCommerce/venv/lib/python3.10/site-packages/sqlalchemy/engine/base.py:2586\u001b[0m, in \u001b[0;36mTransaction.close\u001b[0;34m(self)\u001b[0m\n\u001b[1;32m   2575\u001b[0m \u001b[38;5;250m\u001b[39m\u001b[38;5;124;03m\"\"\"Close this :class:`.Transaction`.\u001b[39;00m\n\u001b[1;32m   2576\u001b[0m \n\u001b[1;32m   2577\u001b[0m \u001b[38;5;124;03mIf this transaction is the base transaction in a begin/commit\u001b[39;00m\n\u001b[0;32m   (...)\u001b[0m\n\u001b[1;32m   2583\u001b[0m \n\u001b[1;32m   2584\u001b[0m \u001b[38;5;124;03m\"\"\"\u001b[39;00m\n\u001b[1;32m   2585\u001b[0m \u001b[38;5;28;01mtry\u001b[39;00m:\n\u001b[0;32m-> 2586\u001b[0m     \u001b[38;5;28;43mself\u001b[39;49m\u001b[38;5;241;43m.\u001b[39;49m\u001b[43m_do_close\u001b[49m\u001b[43m(\u001b[49m\u001b[43m)\u001b[49m\n\u001b[1;32m   2587\u001b[0m \u001b[38;5;28;01mfinally\u001b[39;00m:\n\u001b[1;32m   2588\u001b[0m     \u001b[38;5;28;01massert\u001b[39;00m \u001b[38;5;129;01mnot\u001b[39;00m \u001b[38;5;28mself\u001b[39m\u001b[38;5;241m.\u001b[39mis_active\n",
      "File \u001b[0;32m~/final_pro/Final-Project-SmartCommerce/venv/lib/python3.10/site-packages/sqlalchemy/engine/base.py:2724\u001b[0m, in \u001b[0;36mRootTransaction._do_close\u001b[0;34m(self)\u001b[0m\n\u001b[1;32m   2723\u001b[0m \u001b[38;5;28;01mdef\u001b[39;00m \u001b[38;5;21m_do_close\u001b[39m(\u001b[38;5;28mself\u001b[39m) \u001b[38;5;241m-\u001b[39m\u001b[38;5;241m>\u001b[39m \u001b[38;5;28;01mNone\u001b[39;00m:\n\u001b[0;32m-> 2724\u001b[0m     \u001b[38;5;28;43mself\u001b[39;49m\u001b[38;5;241;43m.\u001b[39;49m\u001b[43m_close_impl\u001b[49m\u001b[43m(\u001b[49m\u001b[43m)\u001b[49m\n",
      "File \u001b[0;32m~/final_pro/Final-Project-SmartCommerce/venv/lib/python3.10/site-packages/sqlalchemy/engine/base.py:2710\u001b[0m, in \u001b[0;36mRootTransaction._close_impl\u001b[0;34m(self, try_deactivate)\u001b[0m\n\u001b[1;32m   2708\u001b[0m \u001b[38;5;28;01mtry\u001b[39;00m:\n\u001b[1;32m   2709\u001b[0m     \u001b[38;5;28;01mif\u001b[39;00m \u001b[38;5;28mself\u001b[39m\u001b[38;5;241m.\u001b[39mis_active:\n\u001b[0;32m-> 2710\u001b[0m         \u001b[38;5;28;43mself\u001b[39;49m\u001b[38;5;241;43m.\u001b[39;49m\u001b[43m_connection_rollback_impl\u001b[49m\u001b[43m(\u001b[49m\u001b[43m)\u001b[49m\n\u001b[1;32m   2712\u001b[0m     \u001b[38;5;28;01mif\u001b[39;00m \u001b[38;5;28mself\u001b[39m\u001b[38;5;241m.\u001b[39mconnection\u001b[38;5;241m.\u001b[39m_nested_transaction:\n\u001b[1;32m   2713\u001b[0m         \u001b[38;5;28mself\u001b[39m\u001b[38;5;241m.\u001b[39mconnection\u001b[38;5;241m.\u001b[39m_nested_transaction\u001b[38;5;241m.\u001b[39m_cancel()\n",
      "File \u001b[0;32m~/final_pro/Final-Project-SmartCommerce/venv/lib/python3.10/site-packages/sqlalchemy/engine/base.py:2702\u001b[0m, in \u001b[0;36mRootTransaction._connection_rollback_impl\u001b[0;34m(self)\u001b[0m\n\u001b[1;32m   2701\u001b[0m \u001b[38;5;28;01mdef\u001b[39;00m \u001b[38;5;21m_connection_rollback_impl\u001b[39m(\u001b[38;5;28mself\u001b[39m) \u001b[38;5;241m-\u001b[39m\u001b[38;5;241m>\u001b[39m \u001b[38;5;28;01mNone\u001b[39;00m:\n\u001b[0;32m-> 2702\u001b[0m     \u001b[38;5;28;43mself\u001b[39;49m\u001b[38;5;241;43m.\u001b[39;49m\u001b[43mconnection\u001b[49m\u001b[38;5;241;43m.\u001b[39;49m\u001b[43m_rollback_impl\u001b[49m\u001b[43m(\u001b[49m\u001b[43m)\u001b[49m\n",
      "File \u001b[0;32m~/final_pro/Final-Project-SmartCommerce/venv/lib/python3.10/site-packages/sqlalchemy/engine/base.py:1129\u001b[0m, in \u001b[0;36mConnection._rollback_impl\u001b[0;34m(self)\u001b[0m\n\u001b[1;32m   1127\u001b[0m     \u001b[38;5;28mself\u001b[39m\u001b[38;5;241m.\u001b[39mengine\u001b[38;5;241m.\u001b[39mdialect\u001b[38;5;241m.\u001b[39mdo_rollback(\u001b[38;5;28mself\u001b[39m\u001b[38;5;241m.\u001b[39mconnection)\n\u001b[1;32m   1128\u001b[0m \u001b[38;5;28;01mexcept\u001b[39;00m \u001b[38;5;167;01mBaseException\u001b[39;00m \u001b[38;5;28;01mas\u001b[39;00m e:\n\u001b[0;32m-> 1129\u001b[0m     \u001b[38;5;28;43mself\u001b[39;49m\u001b[38;5;241;43m.\u001b[39;49m\u001b[43m_handle_dbapi_exception\u001b[49m\u001b[43m(\u001b[49m\u001b[43me\u001b[49m\u001b[43m,\u001b[49m\u001b[43m \u001b[49m\u001b[38;5;28;43;01mNone\u001b[39;49;00m\u001b[43m,\u001b[49m\u001b[43m \u001b[49m\u001b[38;5;28;43;01mNone\u001b[39;49;00m\u001b[43m,\u001b[49m\u001b[43m \u001b[49m\u001b[38;5;28;43;01mNone\u001b[39;49;00m\u001b[43m,\u001b[49m\u001b[43m \u001b[49m\u001b[38;5;28;43;01mNone\u001b[39;49;00m\u001b[43m)\u001b[49m\n",
      "File \u001b[0;32m~/final_pro/Final-Project-SmartCommerce/venv/lib/python3.10/site-packages/sqlalchemy/engine/base.py:2353\u001b[0m, in \u001b[0;36mConnection._handle_dbapi_exception\u001b[0;34m(self, e, statement, parameters, cursor, context, is_sub_exec)\u001b[0m\n\u001b[1;32m   2351\u001b[0m \u001b[38;5;28;01melif\u001b[39;00m should_wrap:\n\u001b[1;32m   2352\u001b[0m     \u001b[38;5;28;01massert\u001b[39;00m sqlalchemy_exception \u001b[38;5;129;01mis\u001b[39;00m \u001b[38;5;129;01mnot\u001b[39;00m \u001b[38;5;28;01mNone\u001b[39;00m\n\u001b[0;32m-> 2353\u001b[0m     \u001b[38;5;28;01mraise\u001b[39;00m sqlalchemy_exception\u001b[38;5;241m.\u001b[39mwith_traceback(exc_info[\u001b[38;5;241m2\u001b[39m]) \u001b[38;5;28;01mfrom\u001b[39;00m \u001b[38;5;21;01me\u001b[39;00m\n\u001b[1;32m   2354\u001b[0m \u001b[38;5;28;01melse\u001b[39;00m:\n\u001b[1;32m   2355\u001b[0m     \u001b[38;5;28;01massert\u001b[39;00m exc_info[\u001b[38;5;241m1\u001b[39m] \u001b[38;5;129;01mis\u001b[39;00m \u001b[38;5;129;01mnot\u001b[39;00m \u001b[38;5;28;01mNone\u001b[39;00m\n",
      "File \u001b[0;32m~/final_pro/Final-Project-SmartCommerce/venv/lib/python3.10/site-packages/sqlalchemy/engine/base.py:1127\u001b[0m, in \u001b[0;36mConnection._rollback_impl\u001b[0;34m(self)\u001b[0m\n\u001b[1;32m   1125\u001b[0m         \u001b[38;5;28mself\u001b[39m\u001b[38;5;241m.\u001b[39m_log_info(\u001b[38;5;124m\"\u001b[39m\u001b[38;5;124mROLLBACK\u001b[39m\u001b[38;5;124m\"\u001b[39m)\n\u001b[1;32m   1126\u001b[0m \u001b[38;5;28;01mtry\u001b[39;00m:\n\u001b[0;32m-> 1127\u001b[0m     \u001b[38;5;28;43mself\u001b[39;49m\u001b[38;5;241;43m.\u001b[39;49m\u001b[43mengine\u001b[49m\u001b[38;5;241;43m.\u001b[39;49m\u001b[43mdialect\u001b[49m\u001b[38;5;241;43m.\u001b[39;49m\u001b[43mdo_rollback\u001b[49m\u001b[43m(\u001b[49m\u001b[38;5;28;43mself\u001b[39;49m\u001b[38;5;241;43m.\u001b[39;49m\u001b[43mconnection\u001b[49m\u001b[43m)\u001b[49m\n\u001b[1;32m   1128\u001b[0m \u001b[38;5;28;01mexcept\u001b[39;00m \u001b[38;5;167;01mBaseException\u001b[39;00m \u001b[38;5;28;01mas\u001b[39;00m e:\n\u001b[1;32m   1129\u001b[0m     \u001b[38;5;28mself\u001b[39m\u001b[38;5;241m.\u001b[39m_handle_dbapi_exception(e, \u001b[38;5;28;01mNone\u001b[39;00m, \u001b[38;5;28;01mNone\u001b[39;00m, \u001b[38;5;28;01mNone\u001b[39;00m, \u001b[38;5;28;01mNone\u001b[39;00m)\n",
      "File \u001b[0;32m~/final_pro/Final-Project-SmartCommerce/venv/lib/python3.10/site-packages/sqlalchemy/engine/default.py:698\u001b[0m, in \u001b[0;36mDefaultDialect.do_rollback\u001b[0;34m(self, dbapi_connection)\u001b[0m\n\u001b[1;32m    697\u001b[0m \u001b[38;5;28;01mdef\u001b[39;00m \u001b[38;5;21mdo_rollback\u001b[39m(\u001b[38;5;28mself\u001b[39m, dbapi_connection):\n\u001b[0;32m--> 698\u001b[0m     \u001b[43mdbapi_connection\u001b[49m\u001b[38;5;241;43m.\u001b[39;49m\u001b[43mrollback\u001b[49m\u001b[43m(\u001b[49m\u001b[43m)\u001b[49m\n",
      "File \u001b[0;32m~/final_pro/Final-Project-SmartCommerce/venv/lib/python3.10/site-packages/snowflake/connector/connection.py:845\u001b[0m, in \u001b[0;36mSnowflakeConnection.rollback\u001b[0;34m(self)\u001b[0m\n\u001b[1;32m    843\u001b[0m \u001b[38;5;28;01mdef\u001b[39;00m \u001b[38;5;21mrollback\u001b[39m(\u001b[38;5;28mself\u001b[39m) \u001b[38;5;241m-\u001b[39m\u001b[38;5;241m>\u001b[39m \u001b[38;5;28;01mNone\u001b[39;00m:\n\u001b[1;32m    844\u001b[0m \u001b[38;5;250m    \u001b[39m\u001b[38;5;124;03m\"\"\"Rolls back the current transaction.\"\"\"\u001b[39;00m\n\u001b[0;32m--> 845\u001b[0m     \u001b[38;5;28;43mself\u001b[39;49m\u001b[38;5;241;43m.\u001b[39;49m\u001b[43mcursor\u001b[49m\u001b[43m(\u001b[49m\u001b[43m)\u001b[49m\u001b[38;5;241;43m.\u001b[39;49m\u001b[43mexecute\u001b[49m\u001b[43m(\u001b[49m\u001b[38;5;124;43m\"\u001b[39;49m\u001b[38;5;124;43mROLLBACK\u001b[39;49m\u001b[38;5;124;43m\"\u001b[39;49m\u001b[43m)\u001b[49m\n",
      "File \u001b[0;32m~/final_pro/Final-Project-SmartCommerce/venv/lib/python3.10/site-packages/snowflake/connector/cursor.py:984\u001b[0m, in \u001b[0;36mSnowflakeCursor.execute\u001b[0;34m(self, command, params, _bind_stage, timeout, _exec_async, _no_retry, _do_reset, _put_callback, _put_azure_callback, _put_callback_output_stream, _get_callback, _get_azure_callback, _get_callback_output_stream, _show_progress_bar, _statement_params, _is_internal, _describe_only, _no_results, _is_put_get, _raise_put_get_error, _force_put_overwrite, _skip_upload_on_content_match, file_stream, num_statements, _dataframe_ast)\u001b[0m\n\u001b[1;32m    977\u001b[0m     logger\u001b[38;5;241m.\u001b[39mdebug(\n\u001b[1;32m    978\u001b[0m         \u001b[38;5;124m\"\u001b[39m\u001b[38;5;124mquery was rewritten: org=\u001b[39m\u001b[38;5;132;01m%s\u001b[39;00m\u001b[38;5;124m, new=\u001b[39m\u001b[38;5;132;01m%s\u001b[39;00m\u001b[38;5;124m\"\u001b[39m,\n\u001b[1;32m    979\u001b[0m         \u001b[38;5;124m\"\u001b[39m\u001b[38;5;124m \u001b[39m\u001b[38;5;124m\"\u001b[39m\u001b[38;5;241m.\u001b[39mjoin(line\u001b[38;5;241m.\u001b[39mstrip() \u001b[38;5;28;01mfor\u001b[39;00m line \u001b[38;5;129;01min\u001b[39;00m query\u001b[38;5;241m.\u001b[39msplit(\u001b[38;5;124m\"\u001b[39m\u001b[38;5;130;01m\\n\u001b[39;00m\u001b[38;5;124m\"\u001b[39m)),\n\u001b[1;32m    980\u001b[0m         query1,\n\u001b[1;32m    981\u001b[0m     )\n\u001b[1;32m    982\u001b[0m     query \u001b[38;5;241m=\u001b[39m query1\n\u001b[0;32m--> 984\u001b[0m ret \u001b[38;5;241m=\u001b[39m \u001b[38;5;28;43mself\u001b[39;49m\u001b[38;5;241;43m.\u001b[39;49m\u001b[43m_execute_helper\u001b[49m\u001b[43m(\u001b[49m\u001b[43mquery\u001b[49m\u001b[43m,\u001b[49m\u001b[43m \u001b[49m\u001b[38;5;241;43m*\u001b[39;49m\u001b[38;5;241;43m*\u001b[39;49m\u001b[43mkwargs\u001b[49m\u001b[43m)\u001b[49m\n\u001b[1;32m    985\u001b[0m \u001b[38;5;28mself\u001b[39m\u001b[38;5;241m.\u001b[39m_sfqid \u001b[38;5;241m=\u001b[39m (\n\u001b[1;32m    986\u001b[0m     ret[\u001b[38;5;124m\"\u001b[39m\u001b[38;5;124mdata\u001b[39m\u001b[38;5;124m\"\u001b[39m][\u001b[38;5;124m\"\u001b[39m\u001b[38;5;124mqueryId\u001b[39m\u001b[38;5;124m\"\u001b[39m]\n\u001b[1;32m    987\u001b[0m     \u001b[38;5;28;01mif\u001b[39;00m \u001b[38;5;124m\"\u001b[39m\u001b[38;5;124mdata\u001b[39m\u001b[38;5;124m\"\u001b[39m \u001b[38;5;129;01min\u001b[39;00m ret \u001b[38;5;129;01mand\u001b[39;00m \u001b[38;5;124m\"\u001b[39m\u001b[38;5;124mqueryId\u001b[39m\u001b[38;5;124m\"\u001b[39m \u001b[38;5;129;01min\u001b[39;00m ret[\u001b[38;5;124m\"\u001b[39m\u001b[38;5;124mdata\u001b[39m\u001b[38;5;124m\"\u001b[39m]\n\u001b[1;32m    988\u001b[0m     \u001b[38;5;28;01melse\u001b[39;00m \u001b[38;5;28;01mNone\u001b[39;00m\n\u001b[1;32m    989\u001b[0m )\n\u001b[1;32m    990\u001b[0m logger\u001b[38;5;241m.\u001b[39mdebug(\u001b[38;5;124mf\u001b[39m\u001b[38;5;124m\"\u001b[39m\u001b[38;5;124msfqid: \u001b[39m\u001b[38;5;132;01m{\u001b[39;00m\u001b[38;5;28mself\u001b[39m\u001b[38;5;241m.\u001b[39msfqid\u001b[38;5;132;01m}\u001b[39;00m\u001b[38;5;124m\"\u001b[39m)\n",
      "File \u001b[0;32m~/final_pro/Final-Project-SmartCommerce/venv/lib/python3.10/site-packages/snowflake/connector/cursor.py:695\u001b[0m, in \u001b[0;36mSnowflakeCursor._execute_helper\u001b[0;34m(self, query, timeout, statement_params, binding_params, binding_stage, is_internal, describe_only, _no_results, _is_put_get, _no_retry, dataframe_ast)\u001b[0m\n\u001b[1;32m    693\u001b[0m ret: \u001b[38;5;28mdict\u001b[39m[\u001b[38;5;28mstr\u001b[39m, Any] \u001b[38;5;241m=\u001b[39m {\u001b[38;5;124m\"\u001b[39m\u001b[38;5;124mdata\u001b[39m\u001b[38;5;124m\"\u001b[39m: {}}\n\u001b[1;32m    694\u001b[0m \u001b[38;5;28;01mtry\u001b[39;00m:\n\u001b[0;32m--> 695\u001b[0m     ret \u001b[38;5;241m=\u001b[39m \u001b[38;5;28;43mself\u001b[39;49m\u001b[38;5;241;43m.\u001b[39;49m\u001b[43m_connection\u001b[49m\u001b[38;5;241;43m.\u001b[39;49m\u001b[43mcmd_query\u001b[49m\u001b[43m(\u001b[49m\n\u001b[1;32m    696\u001b[0m \u001b[43m        \u001b[49m\u001b[43mquery\u001b[49m\u001b[43m,\u001b[49m\n\u001b[1;32m    697\u001b[0m \u001b[43m        \u001b[49m\u001b[38;5;28;43mself\u001b[39;49m\u001b[38;5;241;43m.\u001b[39;49m\u001b[43m_sequence_counter\u001b[49m\u001b[43m,\u001b[49m\n\u001b[1;32m    698\u001b[0m \u001b[43m        \u001b[49m\u001b[38;5;28;43mself\u001b[39;49m\u001b[38;5;241;43m.\u001b[39;49m\u001b[43m_request_id\u001b[49m\u001b[43m,\u001b[49m\n\u001b[1;32m    699\u001b[0m \u001b[43m        \u001b[49m\u001b[43mbinding_params\u001b[49m\u001b[38;5;241;43m=\u001b[39;49m\u001b[43mbinding_params\u001b[49m\u001b[43m,\u001b[49m\n\u001b[1;32m    700\u001b[0m \u001b[43m        \u001b[49m\u001b[43mbinding_stage\u001b[49m\u001b[38;5;241;43m=\u001b[39;49m\u001b[43mbinding_stage\u001b[49m\u001b[43m,\u001b[49m\n\u001b[1;32m    701\u001b[0m \u001b[43m        \u001b[49m\u001b[43mis_file_transfer\u001b[49m\u001b[38;5;241;43m=\u001b[39;49m\u001b[38;5;28;43mbool\u001b[39;49m\u001b[43m(\u001b[49m\u001b[38;5;28;43mself\u001b[39;49m\u001b[38;5;241;43m.\u001b[39;49m\u001b[43m_is_file_transfer\u001b[49m\u001b[43m)\u001b[49m\u001b[43m,\u001b[49m\n\u001b[1;32m    702\u001b[0m \u001b[43m        \u001b[49m\u001b[43mstatement_params\u001b[49m\u001b[38;5;241;43m=\u001b[39;49m\u001b[43mstatement_params\u001b[49m\u001b[43m,\u001b[49m\n\u001b[1;32m    703\u001b[0m \u001b[43m        \u001b[49m\u001b[43mis_internal\u001b[49m\u001b[38;5;241;43m=\u001b[39;49m\u001b[43mis_internal\u001b[49m\u001b[43m,\u001b[49m\n\u001b[1;32m    704\u001b[0m \u001b[43m        \u001b[49m\u001b[43mdescribe_only\u001b[49m\u001b[38;5;241;43m=\u001b[39;49m\u001b[43mdescribe_only\u001b[49m\u001b[43m,\u001b[49m\n\u001b[1;32m    705\u001b[0m \u001b[43m        \u001b[49m\u001b[43m_no_results\u001b[49m\u001b[38;5;241;43m=\u001b[39;49m\u001b[43m_no_results\u001b[49m\u001b[43m,\u001b[49m\n\u001b[1;32m    706\u001b[0m \u001b[43m        \u001b[49m\u001b[43m_no_retry\u001b[49m\u001b[38;5;241;43m=\u001b[39;49m\u001b[43m_no_retry\u001b[49m\u001b[43m,\u001b[49m\n\u001b[1;32m    707\u001b[0m \u001b[43m        \u001b[49m\u001b[43mtimeout\u001b[49m\u001b[38;5;241;43m=\u001b[39;49m\u001b[43mreal_timeout\u001b[49m\u001b[43m,\u001b[49m\n\u001b[1;32m    708\u001b[0m \u001b[43m        \u001b[49m\u001b[43mdataframe_ast\u001b[49m\u001b[38;5;241;43m=\u001b[39;49m\u001b[43mdataframe_ast\u001b[49m\u001b[43m,\u001b[49m\n\u001b[1;32m    709\u001b[0m \u001b[43m    \u001b[49m\u001b[43m)\u001b[49m\n\u001b[1;32m    710\u001b[0m \u001b[38;5;28;01mfinally\u001b[39;00m:\n\u001b[1;32m    711\u001b[0m     \u001b[38;5;28;01mtry\u001b[39;00m:\n",
      "File \u001b[0;32m~/final_pro/Final-Project-SmartCommerce/venv/lib/python3.10/site-packages/snowflake/connector/connection.py:1341\u001b[0m, in \u001b[0;36mSnowflakeConnection.cmd_query\u001b[0;34m(self, sql, sequence_counter, request_id, binding_params, binding_stage, is_file_transfer, statement_params, is_internal, describe_only, _no_results, _update_current_object, _no_retry, timeout, dataframe_ast)\u001b[0m\n\u001b[1;32m   1332\u001b[0m     logger\u001b[38;5;241m.\u001b[39mdebug(\n\u001b[1;32m   1333\u001b[0m         \u001b[38;5;124m\"\u001b[39m\u001b[38;5;124msql=[\u001b[39m\u001b[38;5;132;01m%s\u001b[39;00m\u001b[38;5;124m], sequence_id=[\u001b[39m\u001b[38;5;132;01m%s\u001b[39;00m\u001b[38;5;124m], is_file_transfer=[\u001b[39m\u001b[38;5;132;01m%s\u001b[39;00m\u001b[38;5;124m]\u001b[39m\u001b[38;5;124m\"\u001b[39m,\n\u001b[1;32m   1334\u001b[0m         \u001b[38;5;28mself\u001b[39m\u001b[38;5;241m.\u001b[39m_format_query_for_log(data[\u001b[38;5;124m\"\u001b[39m\u001b[38;5;124msqlText\u001b[39m\u001b[38;5;124m\"\u001b[39m]),\n\u001b[1;32m   1335\u001b[0m         data[\u001b[38;5;124m\"\u001b[39m\u001b[38;5;124msequenceId\u001b[39m\u001b[38;5;124m\"\u001b[39m],\n\u001b[1;32m   1336\u001b[0m         is_file_transfer,\n\u001b[1;32m   1337\u001b[0m     )\n\u001b[1;32m   1339\u001b[0m url_parameters \u001b[38;5;241m=\u001b[39m {REQUEST_ID: request_id}\n\u001b[0;32m-> 1341\u001b[0m ret \u001b[38;5;241m=\u001b[39m \u001b[38;5;28;43mself\u001b[39;49m\u001b[38;5;241;43m.\u001b[39;49m\u001b[43mrest\u001b[49m\u001b[38;5;241;43m.\u001b[39;49m\u001b[43mrequest\u001b[49m\u001b[43m(\u001b[49m\n\u001b[1;32m   1342\u001b[0m \u001b[43m    \u001b[49m\u001b[38;5;124;43m\"\u001b[39;49m\u001b[38;5;124;43m/queries/v1/query-request?\u001b[39;49m\u001b[38;5;124;43m\"\u001b[39;49m\u001b[43m \u001b[49m\u001b[38;5;241;43m+\u001b[39;49m\u001b[43m \u001b[49m\u001b[43murlencode\u001b[49m\u001b[43m(\u001b[49m\u001b[43murl_parameters\u001b[49m\u001b[43m)\u001b[49m\u001b[43m,\u001b[49m\n\u001b[1;32m   1343\u001b[0m \u001b[43m    \u001b[49m\u001b[43mdata\u001b[49m\u001b[43m,\u001b[49m\n\u001b[1;32m   1344\u001b[0m \u001b[43m    \u001b[49m\u001b[43mclient\u001b[49m\u001b[38;5;241;43m=\u001b[39;49m\u001b[43mclient\u001b[49m\u001b[43m,\u001b[49m\n\u001b[1;32m   1345\u001b[0m \u001b[43m    \u001b[49m\u001b[43m_no_results\u001b[49m\u001b[38;5;241;43m=\u001b[39;49m\u001b[43m_no_results\u001b[49m\u001b[43m,\u001b[49m\n\u001b[1;32m   1346\u001b[0m \u001b[43m    \u001b[49m\u001b[43m_include_retry_params\u001b[49m\u001b[38;5;241;43m=\u001b[39;49m\u001b[38;5;28;43;01mTrue\u001b[39;49;00m\u001b[43m,\u001b[49m\n\u001b[1;32m   1347\u001b[0m \u001b[43m    \u001b[49m\u001b[43m_no_retry\u001b[49m\u001b[38;5;241;43m=\u001b[39;49m\u001b[43m_no_retry\u001b[49m\u001b[43m,\u001b[49m\n\u001b[1;32m   1348\u001b[0m \u001b[43m    \u001b[49m\u001b[43mtimeout\u001b[49m\u001b[38;5;241;43m=\u001b[39;49m\u001b[43mtimeout\u001b[49m\u001b[43m,\u001b[49m\n\u001b[1;32m   1349\u001b[0m \u001b[43m\u001b[49m\u001b[43m)\u001b[49m\n\u001b[1;32m   1351\u001b[0m \u001b[38;5;28;01mif\u001b[39;00m ret \u001b[38;5;129;01mis\u001b[39;00m \u001b[38;5;28;01mNone\u001b[39;00m:\n\u001b[1;32m   1352\u001b[0m     ret \u001b[38;5;241m=\u001b[39m {\u001b[38;5;124m\"\u001b[39m\u001b[38;5;124mdata\u001b[39m\u001b[38;5;124m\"\u001b[39m: {}}\n",
      "File \u001b[0;32m~/final_pro/Final-Project-SmartCommerce/venv/lib/python3.10/site-packages/snowflake/connector/network.py:502\u001b[0m, in \u001b[0;36mSnowflakeRestful.request\u001b[0;34m(self, url, body, method, client, timeout, _no_results, _include_retry_params, _no_retry)\u001b[0m\n\u001b[1;32m    500\u001b[0m     headers[HTTP_HEADER_SERVICE_NAME] \u001b[38;5;241m=\u001b[39m \u001b[38;5;28mself\u001b[39m\u001b[38;5;241m.\u001b[39m_connection\u001b[38;5;241m.\u001b[39mservice_name\n\u001b[1;32m    501\u001b[0m \u001b[38;5;28;01mif\u001b[39;00m method \u001b[38;5;241m==\u001b[39m \u001b[38;5;124m\"\u001b[39m\u001b[38;5;124mpost\u001b[39m\u001b[38;5;124m\"\u001b[39m:\n\u001b[0;32m--> 502\u001b[0m     \u001b[38;5;28;01mreturn\u001b[39;00m \u001b[38;5;28;43mself\u001b[39;49m\u001b[38;5;241;43m.\u001b[39;49m\u001b[43m_post_request\u001b[49m\u001b[43m(\u001b[49m\n\u001b[1;32m    503\u001b[0m \u001b[43m        \u001b[49m\u001b[43murl\u001b[49m\u001b[43m,\u001b[49m\n\u001b[1;32m    504\u001b[0m \u001b[43m        \u001b[49m\u001b[43mheaders\u001b[49m\u001b[43m,\u001b[49m\n\u001b[1;32m    505\u001b[0m \u001b[43m        \u001b[49m\u001b[43mjson\u001b[49m\u001b[38;5;241;43m.\u001b[39;49m\u001b[43mdumps\u001b[49m\u001b[43m(\u001b[49m\u001b[43mbody\u001b[49m\u001b[43m)\u001b[49m\u001b[43m,\u001b[49m\n\u001b[1;32m    506\u001b[0m \u001b[43m        \u001b[49m\u001b[43mtoken\u001b[49m\u001b[38;5;241;43m=\u001b[39;49m\u001b[38;5;28;43mself\u001b[39;49m\u001b[38;5;241;43m.\u001b[39;49m\u001b[43mtoken\u001b[49m\u001b[43m,\u001b[49m\n\u001b[1;32m    507\u001b[0m \u001b[43m        \u001b[49m\u001b[43m_no_results\u001b[49m\u001b[38;5;241;43m=\u001b[39;49m\u001b[43m_no_results\u001b[49m\u001b[43m,\u001b[49m\n\u001b[1;32m    508\u001b[0m \u001b[43m        \u001b[49m\u001b[43mtimeout\u001b[49m\u001b[38;5;241;43m=\u001b[39;49m\u001b[43mtimeout\u001b[49m\u001b[43m,\u001b[49m\n\u001b[1;32m    509\u001b[0m \u001b[43m        \u001b[49m\u001b[43m_include_retry_params\u001b[49m\u001b[38;5;241;43m=\u001b[39;49m\u001b[43m_include_retry_params\u001b[49m\u001b[43m,\u001b[49m\n\u001b[1;32m    510\u001b[0m \u001b[43m        \u001b[49m\u001b[43mno_retry\u001b[49m\u001b[38;5;241;43m=\u001b[39;49m\u001b[43m_no_retry\u001b[49m\u001b[43m,\u001b[49m\n\u001b[1;32m    511\u001b[0m \u001b[43m    \u001b[49m\u001b[43m)\u001b[49m\n\u001b[1;32m    512\u001b[0m \u001b[38;5;28;01melse\u001b[39;00m:\n\u001b[1;32m    513\u001b[0m     \u001b[38;5;28;01mreturn\u001b[39;00m \u001b[38;5;28mself\u001b[39m\u001b[38;5;241m.\u001b[39m_get_request(\n\u001b[1;32m    514\u001b[0m         url,\n\u001b[1;32m    515\u001b[0m         headers,\n\u001b[1;32m    516\u001b[0m         token\u001b[38;5;241m=\u001b[39m\u001b[38;5;28mself\u001b[39m\u001b[38;5;241m.\u001b[39mtoken,\n\u001b[1;32m    517\u001b[0m         timeout\u001b[38;5;241m=\u001b[39mtimeout,\n\u001b[1;32m    518\u001b[0m     )\n",
      "File \u001b[0;32m~/final_pro/Final-Project-SmartCommerce/venv/lib/python3.10/site-packages/snowflake/connector/network.py:767\u001b[0m, in \u001b[0;36mSnowflakeRestful._post_request\u001b[0;34m(self, url, headers, body, token, timeout, socket_timeout, _no_results, no_retry, _include_retry_params)\u001b[0m\n\u001b[1;32m    765\u001b[0m \u001b[38;5;28;01mexcept\u001b[39;00m ReauthenticationRequest \u001b[38;5;28;01mas\u001b[39;00m ex:\n\u001b[1;32m    766\u001b[0m     \u001b[38;5;28;01mif\u001b[39;00m \u001b[38;5;28mself\u001b[39m\u001b[38;5;241m.\u001b[39m_connection\u001b[38;5;241m.\u001b[39m_authenticator \u001b[38;5;241m!=\u001b[39m EXTERNAL_BROWSER_AUTHENTICATOR:\n\u001b[0;32m--> 767\u001b[0m         \u001b[38;5;28;01mraise\u001b[39;00m ex\u001b[38;5;241m.\u001b[39mcause\n\u001b[1;32m    768\u001b[0m     ret \u001b[38;5;241m=\u001b[39m \u001b[38;5;28mself\u001b[39m\u001b[38;5;241m.\u001b[39m_connection\u001b[38;5;241m.\u001b[39m_reauthenticate()\n\u001b[1;32m    769\u001b[0m logger\u001b[38;5;241m.\u001b[39mdebug(\n\u001b[1;32m    770\u001b[0m     \u001b[38;5;124m\"\u001b[39m\u001b[38;5;124mret[code] = \u001b[39m\u001b[38;5;132;01m{code}\u001b[39;00m\u001b[38;5;124m after renew_session\u001b[39m\u001b[38;5;124m\"\u001b[39m\u001b[38;5;241m.\u001b[39mformat(\n\u001b[1;32m    771\u001b[0m         code\u001b[38;5;241m=\u001b[39m(ret\u001b[38;5;241m.\u001b[39mget(\u001b[38;5;124m\"\u001b[39m\u001b[38;5;124mcode\u001b[39m\u001b[38;5;124m\"\u001b[39m, \u001b[38;5;124m\"\u001b[39m\u001b[38;5;124mN/A\u001b[39m\u001b[38;5;124m\"\u001b[39m))\n\u001b[1;32m    772\u001b[0m     )\n\u001b[1;32m    773\u001b[0m )\n",
      "\u001b[0;31mProgrammingError\u001b[0m: (snowflake.connector.errors.ProgrammingError) 390114 (08001): None: Authentication token has expired.  The user must authenticate again.\n(Background on this error at: https://sqlalche.me/e/20/f405)"
     ]
    }
   ],
   "source": [
    "categories = __run_query('SELECT DISTINCT PRODUCT_CATEGORY_NAME_ENGLISH  FROM \"Product_Category_Translation\";')['product_category_name_english'].tolist()"
   ]
  },
  {
   "cell_type": "code",
   "execution_count": 35,
   "metadata": {},
   "outputs": [
    {
     "name": "stderr",
     "output_type": "stream",
     "text": [
      "2024-08-12 04:39:47,212 - INFO - Connected to Snowflake\n",
      "2024-08-12 04:39:47,214 - INFO - Executing query: SELECT \n",
      "    product_id,\n",
      "    MAX(price) AS max_price,\n",
      "    MIN(price) AS min_price\n",
      "FROM \n",
      "    \"Order_Items\"\n",
      "GROUP BY \n",
      "    product_id;\n",
      "2024-08-12 04:39:48,079 - INFO - Number of results in first chunk: 2082\n",
      "2024-08-12 04:39:48,552 - INFO - Query executed successfully and results fetched\n",
      "2024-08-12 04:39:48,628 - INFO - Number of results in first chunk: 1\n",
      "2024-08-12 04:39:48,629 - INFO - Connection closed\n"
     ]
    }
   ],
   "source": [
    "query = '''SELECT \n",
    "    product_id,\n",
    "    MAX(price) AS max_price,\n",
    "    MIN(price) AS min_price\n",
    "FROM \n",
    "    \"Order_Items\"\n",
    "GROUP BY \n",
    "    product_id;'''\n",
    "\n",
    "products_by_price = __run_query(query)"
   ]
  },
  {
   "cell_type": "code",
   "execution_count": 34,
   "metadata": {},
   "outputs": [
    {
     "name": "stdout",
     "output_type": "stream",
     "text": [
      "Saved 1 items to data_ebay/ebay_browse_search_results_construction_tools_construction_2.json\n",
      "1\n",
      "None\n"
     ]
    }
   ],
   "source": [
    "print(call_ebay_api_by_price(i, 70, 80))\n"
   ]
  },
  {
   "cell_type": "code",
   "execution_count": 19,
   "metadata": {},
   "outputs": [
    {
     "data": {
      "text/plain": [
       "'computers_accessories'"
      ]
     },
     "execution_count": 19,
     "metadata": {},
     "output_type": "execute_result"
    }
   ],
   "source": [
    "categories[1]"
   ]
  },
  {
   "cell_type": "code",
   "execution_count": 60,
   "metadata": {},
   "outputs": [
    {
     "name": "stderr",
     "output_type": "stream",
     "text": [
      "2024-08-13 20:29:11,556 - INFO - Snowflake Connector for Python Version: 3.12.0, Python Version: 3.10.12, Platform: Linux-5.15.153.1-microsoft-standard-WSL2-x86_64-with-glibc2.35\n",
      "2024-08-13 20:29:11,560 - INFO - Connecting to GLOBAL Snowflake domain\n",
      "2024-08-13 20:29:11,561 - INFO - This connection is in OCSP Fail Open Mode. TLS Certificates would be checked for validity and revocation status. Any other Certificate Revocation related exceptions or OCSP Responder failures would be disregarded in favor of connectivity.\n",
      "2024-08-13 20:29:12,525 - INFO - Connected to Snowflake\n",
      "2024-08-13 20:29:12,527 - INFO - Executing query: select \n",
      "    * \n",
      "from \n",
      "    top_products_with_price_summary\n",
      "where \n",
      "    product_id in ( \n",
      "    select \n",
      "        product_id \n",
      "    from\n",
      "        top_products_with_price_summary\n",
      "    );\n",
      "2024-08-13 20:29:13,688 - INFO - Number of results in first chunk: 979\n",
      "2024-08-13 20:29:13,700 - INFO - Query executed successfully and results fetched\n",
      "2024-08-13 20:29:13,820 - INFO - Number of results in first chunk: 1\n",
      "2024-08-13 20:29:13,821 - INFO - Connection closed\n"
     ]
    }
   ],
   "source": [
    "query = '''select \n",
    "    * \n",
    "from \n",
    "    top_products_with_price_summary\n",
    "where \n",
    "    product_id in ( \n",
    "    select \n",
    "        product_id \n",
    "    from\n",
    "        top_products_with_price_summary\n",
    "    );'''\n",
    "\n",
    "joined_df_english_category = __run_query(query)\n"
   ]
  },
  {
   "cell_type": "code",
   "execution_count": 39,
   "metadata": {},
   "outputs": [
    {
     "data": {
      "text/html": [
       "<div>\n",
       "<style scoped>\n",
       "    .dataframe tbody tr th:only-of-type {\n",
       "        vertical-align: middle;\n",
       "    }\n",
       "\n",
       "    .dataframe tbody tr th {\n",
       "        vertical-align: top;\n",
       "    }\n",
       "\n",
       "    .dataframe thead th {\n",
       "        text-align: right;\n",
       "    }\n",
       "</style>\n",
       "<table border=\"1\" class=\"dataframe\">\n",
       "  <thead>\n",
       "    <tr style=\"text-align: right;\">\n",
       "      <th></th>\n",
       "      <th>product_id</th>\n",
       "      <th>min_price</th>\n",
       "      <th>max_price</th>\n",
       "      <th>product_category_name_english</th>\n",
       "    </tr>\n",
       "  </thead>\n",
       "  <tbody>\n",
       "    <tr>\n",
       "      <th>0</th>\n",
       "      <td>00066f42aeeb9f3007548bb9d3f33c38</td>\n",
       "      <td>101.65</td>\n",
       "      <td>101.65</td>\n",
       "      <td>perfumery</td>\n",
       "    </tr>\n",
       "    <tr>\n",
       "      <th>1</th>\n",
       "      <td>00088930e925c41fd95ebfe695fd2655</td>\n",
       "      <td>129.90</td>\n",
       "      <td>129.90</td>\n",
       "      <td>auto</td>\n",
       "    </tr>\n",
       "    <tr>\n",
       "      <th>2</th>\n",
       "      <td>0009406fd7479715e4bef61dd91f2462</td>\n",
       "      <td>229.00</td>\n",
       "      <td>229.00</td>\n",
       "      <td>bed_bath_table</td>\n",
       "    </tr>\n",
       "    <tr>\n",
       "      <th>3</th>\n",
       "      <td>000b8f95fcb9e0096488278317764d19</td>\n",
       "      <td>58.90</td>\n",
       "      <td>58.90</td>\n",
       "      <td>housewares</td>\n",
       "    </tr>\n",
       "    <tr>\n",
       "      <th>4</th>\n",
       "      <td>000d9be29b5207b54e86aa1b1ac54872</td>\n",
       "      <td>199.00</td>\n",
       "      <td>199.00</td>\n",
       "      <td>watches_gifts</td>\n",
       "    </tr>\n",
       "  </tbody>\n",
       "</table>\n",
       "</div>"
      ],
      "text/plain": [
       "                         product_id  min_price  max_price  \\\n",
       "0  00066f42aeeb9f3007548bb9d3f33c38     101.65     101.65   \n",
       "1  00088930e925c41fd95ebfe695fd2655     129.90     129.90   \n",
       "2  0009406fd7479715e4bef61dd91f2462     229.00     229.00   \n",
       "3  000b8f95fcb9e0096488278317764d19      58.90      58.90   \n",
       "4  000d9be29b5207b54e86aa1b1ac54872     199.00     199.00   \n",
       "\n",
       "  product_category_name_english  \n",
       "0                     perfumery  \n",
       "1                          auto  \n",
       "2                bed_bath_table  \n",
       "3                    housewares  \n",
       "4                 watches_gifts  "
      ]
     },
     "execution_count": 39,
     "metadata": {},
     "output_type": "execute_result"
    }
   ],
   "source": [
    "joined_df_english_category.head()"
   ]
  },
  {
   "cell_type": "code",
   "execution_count": 42,
   "metadata": {},
   "outputs": [
    {
     "data": {
      "text/plain": [
       "{'bed_bath_table': 3029,\n",
       " 'sports_leisure': 2867,\n",
       " 'furniture_decor': 2657,\n",
       " 'health_beauty': 2444,\n",
       " 'housewares': 2335,\n",
       " 'auto': 1900,\n",
       " 'computers_accessories': 1639,\n",
       " 'toys': 1411,\n",
       " 'watches_gifts': 1329,\n",
       " 'telephony': 1134,\n",
       " 'baby': 919,\n",
       " 'perfumery': 868,\n",
       " 'stationery': 849,\n",
       " 'fashion_bags_accessories': 849,\n",
       " 'cool_stuff': 789,\n",
       " 'garden_tools': 753,\n",
       " 'pet_shop': 719,\n",
       " 'electronics': 517,\n",
       " 'construction_tools_construction': 400,\n",
       " 'home_appliances': 370,\n",
       " 'luggage_accessories': 349,\n",
       " 'consoles_games': 317,\n",
       " 'office_furniture': 309,\n",
       " 'musical_instruments': 289,\n",
       " 'small_appliances': 231,\n",
       " 'home_construction': 225,\n",
       " 'books_general_interest': 216,\n",
       " 'fashion_shoes': 173,\n",
       " 'furniture_living_room': 156,\n",
       " 'air_conditioning': 124,\n",
       " 'books_technical': 123,\n",
       " 'fixed_telephony': 116,\n",
       " 'home_confort': 111,\n",
       " 'market_place': 104,\n",
       " 'food_drink': 104,\n",
       " 'fashion_male_clothing': 95,\n",
       " 'kitchen_dining_laundry_garden_furniture': 94,\n",
       " 'signaling_and_security': 93,\n",
       " 'construction_tools_safety': 91,\n",
       " 'home_appliances_2': 90,\n",
       " 'costruction_tools_garden': 88,\n",
       " 'food': 82,\n",
       " 'drinks': 81,\n",
       " 'construction_tools_lights': 78,\n",
       " 'agro_industry_and_commerce': 74,\n",
       " 'industry_commerce_and_business': 68,\n",
       " 'christmas_supplies': 65,\n",
       " 'audio': 58,\n",
       " 'art': 55,\n",
       " 'fashion_underwear_beach': 53,\n",
       " 'dvds_blu_ray': 48,\n",
       " 'furniture_bedroom': 45,\n",
       " 'costruction_tools_tools': 39,\n",
       " 'small_appliances_home_oven_and_coffee': 31,\n",
       " 'books_imported': 31,\n",
       " 'computers': 30,\n",
       " 'cine_photo': 28,\n",
       " 'music': 27,\n",
       " 'fashio_female_clothing': 27,\n",
       " 'party_supplies': 26,\n",
       " 'fashion_sport': 19,\n",
       " 'arts_and_craftmanship': 19,\n",
       " 'flowers': 14,\n",
       " 'diapers_and_hygiene': 12,\n",
       " 'la_cuisine': 10,\n",
       " 'furniture_mattress_and_upholstery': 10,\n",
       " 'tablets_printing_image': 9,\n",
       " 'fashion_childrens_clothes': 5,\n",
       " 'home_comfort_2': 5,\n",
       " 'security_and_services': 2,\n",
       " 'cds_dvds_musicals': 1}"
      ]
     },
     "execution_count": 42,
     "metadata": {},
     "output_type": "execute_result"
    }
   ],
   "source": [
    "category_counts = joined_df_english_category['product_category_name_english'].value_counts().to_dict()\n",
    "category_counts"
   ]
  },
  {
   "cell_type": "markdown",
   "metadata": {},
   "source": [
    "## Without Price matching "
   ]
  },
  {
   "cell_type": "code",
   "execution_count": 77,
   "metadata": {},
   "outputs": [
    {
     "name": "stderr",
     "output_type": "stream",
     "text": [
      "  6%|▌         | 57/979 [00:50<12:13,  1.26it/s]"
     ]
    },
    {
     "name": "stdout",
     "output_type": "stream",
     "text": [
      "Error: 429\n",
      "{'errors': [{'errorId': 2001, 'domain': 'ACCESS', 'category': 'REQUEST', 'message': 'Too many requests.', 'longMessage': 'The request limit has been reached for the resource.'}]}\n"
     ]
    },
    {
     "name": "stderr",
     "output_type": "stream",
     "text": [
      "  6%|▌         | 58/979 [00:50<09:36,  1.60it/s]"
     ]
    },
    {
     "name": "stdout",
     "output_type": "stream",
     "text": [
      "Error: 429\n",
      "{'errors': [{'errorId': 2001, 'domain': 'ACCESS', 'category': 'REQUEST', 'message': 'Too many requests.', 'longMessage': 'The request limit has been reached for the resource.'}]}\n"
     ]
    },
    {
     "name": "stderr",
     "output_type": "stream",
     "text": [
      "  6%|▌         | 59/979 [00:50<07:58,  1.92it/s]"
     ]
    },
    {
     "name": "stdout",
     "output_type": "stream",
     "text": [
      "Error: 429\n",
      "{'errors': [{'errorId': 2001, 'domain': 'ACCESS', 'category': 'REQUEST', 'message': 'Too many requests.', 'longMessage': 'The request limit has been reached for the resource.'}]}\n"
     ]
    },
    {
     "name": "stderr",
     "output_type": "stream",
     "text": [
      "  6%|▌         | 60/979 [00:50<06:32,  2.34it/s]"
     ]
    },
    {
     "name": "stdout",
     "output_type": "stream",
     "text": [
      "Error: 429\n",
      "{'errors': [{'errorId': 2001, 'domain': 'ACCESS', 'category': 'REQUEST', 'message': 'Too many requests.', 'longMessage': 'The request limit has been reached for the resource.'}]}\n"
     ]
    },
    {
     "name": "stderr",
     "output_type": "stream",
     "text": [
      "  6%|▌         | 61/979 [00:51<06:00,  2.55it/s]"
     ]
    },
    {
     "name": "stdout",
     "output_type": "stream",
     "text": [
      "Error: 429\n",
      "{'errors': [{'errorId': 2001, 'domain': 'ACCESS', 'category': 'REQUEST', 'message': 'Too many requests.', 'longMessage': 'The request limit has been reached for the resource.'}]}\n"
     ]
    },
    {
     "name": "stderr",
     "output_type": "stream",
     "text": [
      "  6%|▋         | 63/979 [00:51<04:46,  3.20it/s]"
     ]
    },
    {
     "name": "stdout",
     "output_type": "stream",
     "text": [
      "Error: 429\n",
      "{'errors': [{'errorId': 2001, 'domain': 'ACCESS', 'category': 'REQUEST', 'message': 'Too many requests.', 'longMessage': 'The request limit has been reached for the resource.'}]}\n",
      "Error: 429\n",
      "{'errors': [{'errorId': 2001, 'domain': 'ACCESS', 'category': 'REQUEST', 'message': 'Too many requests.', 'longMessage': 'The request limit has been reached for the resource.'}]}\n"
     ]
    },
    {
     "name": "stderr",
     "output_type": "stream",
     "text": [
      "  7%|▋         | 64/979 [00:51<04:29,  3.39it/s]"
     ]
    },
    {
     "name": "stdout",
     "output_type": "stream",
     "text": [
      "Error: 429\n",
      "{'errors': [{'errorId': 2001, 'domain': 'ACCESS', 'category': 'REQUEST', 'message': 'Too many requests.', 'longMessage': 'The request limit has been reached for the resource.'}]}\n"
     ]
    },
    {
     "name": "stderr",
     "output_type": "stream",
     "text": [
      "  7%|▋         | 65/979 [00:52<04:17,  3.55it/s]"
     ]
    },
    {
     "name": "stdout",
     "output_type": "stream",
     "text": [
      "Error: 429\n",
      "{'errors': [{'errorId': 2001, 'domain': 'ACCESS', 'category': 'REQUEST', 'message': 'Too many requests.', 'longMessage': 'The request limit has been reached for the resource.'}]}\n"
     ]
    },
    {
     "name": "stderr",
     "output_type": "stream",
     "text": [
      "  7%|▋         | 66/979 [00:52<04:25,  3.44it/s]"
     ]
    },
    {
     "name": "stdout",
     "output_type": "stream",
     "text": [
      "Error: 429\n",
      "{'errors': [{'errorId': 2001, 'domain': 'ACCESS', 'category': 'REQUEST', 'message': 'Too many requests.', 'longMessage': 'The request limit has been reached for the resource.'}]}\n"
     ]
    },
    {
     "name": "stderr",
     "output_type": "stream",
     "text": [
      "  7%|▋         | 67/979 [00:52<04:03,  3.74it/s]"
     ]
    },
    {
     "name": "stdout",
     "output_type": "stream",
     "text": [
      "Error: 429\n",
      "{'errors': [{'errorId': 2001, 'domain': 'ACCESS', 'category': 'REQUEST', 'message': 'Too many requests.', 'longMessage': 'The request limit has been reached for the resource.'}]}\n"
     ]
    },
    {
     "name": "stderr",
     "output_type": "stream",
     "text": [
      "  7%|▋         | 68/979 [00:52<03:46,  4.02it/s]"
     ]
    },
    {
     "name": "stdout",
     "output_type": "stream",
     "text": [
      "Error: 429\n",
      "{'errors': [{'errorId': 2001, 'domain': 'ACCESS', 'category': 'REQUEST', 'message': 'Too many requests.', 'longMessage': 'The request limit has been reached for the resource.'}]}\n"
     ]
    },
    {
     "name": "stderr",
     "output_type": "stream",
     "text": [
      "  7%|▋         | 69/979 [00:53<03:39,  4.14it/s]"
     ]
    },
    {
     "name": "stdout",
     "output_type": "stream",
     "text": [
      "Error: 429\n",
      "{'errors': [{'errorId': 2001, 'domain': 'ACCESS', 'category': 'REQUEST', 'message': 'Too many requests.', 'longMessage': 'The request limit has been reached for the resource.'}]}\n"
     ]
    },
    {
     "name": "stderr",
     "output_type": "stream",
     "text": [
      "  7%|▋         | 70/979 [00:53<03:35,  4.21it/s]"
     ]
    },
    {
     "name": "stdout",
     "output_type": "stream",
     "text": [
      "Error: 429\n",
      "{'errors': [{'errorId': 2001, 'domain': 'ACCESS', 'category': 'REQUEST', 'message': 'Too many requests.', 'longMessage': 'The request limit has been reached for the resource.'}]}\n"
     ]
    },
    {
     "name": "stderr",
     "output_type": "stream",
     "text": [
      "  7%|▋         | 71/979 [00:53<03:36,  4.19it/s]"
     ]
    },
    {
     "name": "stdout",
     "output_type": "stream",
     "text": [
      "Error: 429\n",
      "{'errors': [{'errorId': 2001, 'domain': 'ACCESS', 'category': 'REQUEST', 'message': 'Too many requests.', 'longMessage': 'The request limit has been reached for the resource.'}]}\n"
     ]
    },
    {
     "name": "stderr",
     "output_type": "stream",
     "text": [
      "  7%|▋         | 72/979 [00:53<03:48,  3.97it/s]"
     ]
    },
    {
     "name": "stdout",
     "output_type": "stream",
     "text": [
      "Error: 429\n",
      "{'errors': [{'errorId': 2001, 'domain': 'ACCESS', 'category': 'REQUEST', 'message': 'Too many requests.', 'longMessage': 'The request limit has been reached for the resource.'}]}\n"
     ]
    },
    {
     "name": "stderr",
     "output_type": "stream",
     "text": [
      "  7%|▋         | 73/979 [00:54<03:46,  4.01it/s]"
     ]
    },
    {
     "name": "stdout",
     "output_type": "stream",
     "text": [
      "Error: 429\n",
      "{'errors': [{'errorId': 2001, 'domain': 'ACCESS', 'category': 'REQUEST', 'message': 'Too many requests.', 'longMessage': 'The request limit has been reached for the resource.'}]}\n"
     ]
    },
    {
     "name": "stderr",
     "output_type": "stream",
     "text": [
      "  8%|▊         | 74/979 [00:54<03:38,  4.15it/s]"
     ]
    },
    {
     "name": "stdout",
     "output_type": "stream",
     "text": [
      "Error: 429\n",
      "{'errors': [{'errorId': 2001, 'domain': 'ACCESS', 'category': 'REQUEST', 'message': 'Too many requests.', 'longMessage': 'The request limit has been reached for the resource.'}]}\n"
     ]
    },
    {
     "name": "stderr",
     "output_type": "stream",
     "text": [
      "  8%|▊         | 75/979 [00:54<03:33,  4.23it/s]"
     ]
    },
    {
     "name": "stdout",
     "output_type": "stream",
     "text": [
      "Error: 429\n",
      "{'errors': [{'errorId': 2001, 'domain': 'ACCESS', 'category': 'REQUEST', 'message': 'Too many requests.', 'longMessage': 'The request limit has been reached for the resource.'}]}\n"
     ]
    },
    {
     "name": "stderr",
     "output_type": "stream",
     "text": [
      "  8%|▊         | 76/979 [00:54<03:29,  4.32it/s]"
     ]
    },
    {
     "name": "stdout",
     "output_type": "stream",
     "text": [
      "Error: 429\n",
      "{'errors': [{'errorId': 2001, 'domain': 'ACCESS', 'category': 'REQUEST', 'message': 'Too many requests.', 'longMessage': 'The request limit has been reached for the resource.'}]}\n"
     ]
    },
    {
     "name": "stderr",
     "output_type": "stream",
     "text": [
      "  8%|▊         | 78/979 [00:55<03:19,  4.52it/s]"
     ]
    },
    {
     "name": "stdout",
     "output_type": "stream",
     "text": [
      "Error: 429\n",
      "{'errors': [{'errorId': 2001, 'domain': 'ACCESS', 'category': 'REQUEST', 'message': 'Too many requests.', 'longMessage': 'The request limit has been reached for the resource.'}]}\n",
      "Error: 429\n",
      "{'errors': [{'errorId': 2001, 'domain': 'ACCESS', 'category': 'REQUEST', 'message': 'Too many requests.', 'longMessage': 'The request limit has been reached for the resource.'}]}\n"
     ]
    },
    {
     "name": "stderr",
     "output_type": "stream",
     "text": [
      "  8%|▊         | 79/979 [00:55<03:19,  4.51it/s]"
     ]
    },
    {
     "name": "stdout",
     "output_type": "stream",
     "text": [
      "Error: 429\n",
      "{'errors': [{'errorId': 2001, 'domain': 'ACCESS', 'category': 'REQUEST', 'message': 'Too many requests.', 'longMessage': 'The request limit has been reached for the resource.'}]}\n"
     ]
    },
    {
     "name": "stderr",
     "output_type": "stream",
     "text": [
      "  8%|▊         | 80/979 [00:55<03:21,  4.46it/s]"
     ]
    },
    {
     "name": "stdout",
     "output_type": "stream",
     "text": [
      "Error: 429\n",
      "{'errors': [{'errorId': 2001, 'domain': 'ACCESS', 'category': 'REQUEST', 'message': 'Too many requests.', 'longMessage': 'The request limit has been reached for the resource.'}]}\n"
     ]
    },
    {
     "name": "stderr",
     "output_type": "stream",
     "text": [
      "  8%|▊         | 81/979 [00:55<03:32,  4.22it/s]"
     ]
    },
    {
     "name": "stdout",
     "output_type": "stream",
     "text": [
      "Error: 429\n",
      "{'errors': [{'errorId': 2001, 'domain': 'ACCESS', 'category': 'REQUEST', 'message': 'Too many requests.', 'longMessage': 'The request limit has been reached for the resource.'}]}\n"
     ]
    },
    {
     "name": "stderr",
     "output_type": "stream",
     "text": [
      "  8%|▊         | 82/979 [00:56<03:25,  4.37it/s]"
     ]
    },
    {
     "name": "stdout",
     "output_type": "stream",
     "text": [
      "Error: 429\n",
      "{'errors': [{'errorId': 2001, 'domain': 'ACCESS', 'category': 'REQUEST', 'message': 'Too many requests.', 'longMessage': 'The request limit has been reached for the resource.'}]}\n"
     ]
    },
    {
     "name": "stderr",
     "output_type": "stream",
     "text": [
      "  8%|▊         | 83/979 [00:56<03:23,  4.40it/s]"
     ]
    },
    {
     "name": "stdout",
     "output_type": "stream",
     "text": [
      "Error: 429\n",
      "{'errors': [{'errorId': 2001, 'domain': 'ACCESS', 'category': 'REQUEST', 'message': 'Too many requests.', 'longMessage': 'The request limit has been reached for the resource.'}]}\n"
     ]
    },
    {
     "name": "stderr",
     "output_type": "stream",
     "text": [
      "  9%|▊         | 84/979 [00:56<03:22,  4.42it/s]"
     ]
    },
    {
     "name": "stdout",
     "output_type": "stream",
     "text": [
      "Error: 429\n",
      "{'errors': [{'errorId': 2001, 'domain': 'ACCESS', 'category': 'REQUEST', 'message': 'Too many requests.', 'longMessage': 'The request limit has been reached for the resource.'}]}\n"
     ]
    },
    {
     "name": "stderr",
     "output_type": "stream",
     "text": [
      "  9%|▊         | 85/979 [00:56<03:25,  4.35it/s]"
     ]
    },
    {
     "name": "stdout",
     "output_type": "stream",
     "text": [
      "Error: 429\n",
      "{'errors': [{'errorId': 2001, 'domain': 'ACCESS', 'category': 'REQUEST', 'message': 'Too many requests.', 'longMessage': 'The request limit has been reached for the resource.'}]}\n"
     ]
    },
    {
     "name": "stderr",
     "output_type": "stream",
     "text": [
      "  9%|▉         | 86/979 [00:57<03:26,  4.31it/s]"
     ]
    },
    {
     "name": "stdout",
     "output_type": "stream",
     "text": [
      "Error: 429\n",
      "{'errors': [{'errorId': 2001, 'domain': 'ACCESS', 'category': 'REQUEST', 'message': 'Too many requests.', 'longMessage': 'The request limit has been reached for the resource.'}]}\n"
     ]
    },
    {
     "name": "stderr",
     "output_type": "stream",
     "text": [
      "  9%|▉         | 87/979 [00:57<03:24,  4.37it/s]"
     ]
    },
    {
     "name": "stdout",
     "output_type": "stream",
     "text": [
      "Error: 429\n",
      "{'errors': [{'errorId': 2001, 'domain': 'ACCESS', 'category': 'REQUEST', 'message': 'Too many requests.', 'longMessage': 'The request limit has been reached for the resource.'}]}\n"
     ]
    },
    {
     "name": "stderr",
     "output_type": "stream",
     "text": [
      "  9%|▉         | 88/979 [00:57<03:17,  4.50it/s]"
     ]
    },
    {
     "name": "stdout",
     "output_type": "stream",
     "text": [
      "Error: 429\n",
      "{'errors': [{'errorId': 2001, 'domain': 'ACCESS', 'category': 'REQUEST', 'message': 'Too many requests.', 'longMessage': 'The request limit has been reached for the resource.'}]}\n"
     ]
    },
    {
     "name": "stderr",
     "output_type": "stream",
     "text": [
      "  9%|▉         | 89/979 [00:57<03:32,  4.18it/s]"
     ]
    },
    {
     "name": "stdout",
     "output_type": "stream",
     "text": [
      "Error: 429\n",
      "{'errors': [{'errorId': 2001, 'domain': 'ACCESS', 'category': 'REQUEST', 'message': 'Too many requests.', 'longMessage': 'The request limit has been reached for the resource.'}]}\n"
     ]
    },
    {
     "name": "stderr",
     "output_type": "stream",
     "text": [
      "  9%|▉         | 91/979 [00:58<03:22,  4.38it/s]"
     ]
    },
    {
     "name": "stdout",
     "output_type": "stream",
     "text": [
      "Error: 429\n",
      "{'errors': [{'errorId': 2001, 'domain': 'ACCESS', 'category': 'REQUEST', 'message': 'Too many requests.', 'longMessage': 'The request limit has been reached for the resource.'}]}\n",
      "Error: 429\n",
      "{'errors': [{'errorId': 2001, 'domain': 'ACCESS', 'category': 'REQUEST', 'message': 'Too many requests.', 'longMessage': 'The request limit has been reached for the resource.'}]}\n"
     ]
    },
    {
     "name": "stderr",
     "output_type": "stream",
     "text": [
      "  9%|▉         | 93/979 [00:58<03:11,  4.63it/s]"
     ]
    },
    {
     "name": "stdout",
     "output_type": "stream",
     "text": [
      "Error: 429\n",
      "{'errors': [{'errorId': 2001, 'domain': 'ACCESS', 'category': 'REQUEST', 'message': 'Too many requests.', 'longMessage': 'The request limit has been reached for the resource.'}]}\n",
      "Error: 429\n",
      "{'errors': [{'errorId': 2001, 'domain': 'ACCESS', 'category': 'REQUEST', 'message': 'Too many requests.', 'longMessage': 'The request limit has been reached for the resource.'}]}\n"
     ]
    },
    {
     "name": "stderr",
     "output_type": "stream",
     "text": [
      " 10%|▉         | 94/979 [00:58<03:05,  4.77it/s]"
     ]
    },
    {
     "name": "stdout",
     "output_type": "stream",
     "text": [
      "Error: 429\n",
      "{'errors': [{'errorId': 2001, 'domain': 'ACCESS', 'category': 'REQUEST', 'message': 'Too many requests.', 'longMessage': 'The request limit has been reached for the resource.'}]}\n"
     ]
    },
    {
     "name": "stderr",
     "output_type": "stream",
     "text": [
      " 10%|▉         | 95/979 [00:59<07:28,  1.97it/s]"
     ]
    },
    {
     "name": "stdout",
     "output_type": "stream",
     "text": [
      "Error: 429\n",
      "{'errors': [{'errorId': 2001, 'domain': 'ACCESS', 'category': 'REQUEST', 'message': 'Too many requests.', 'longMessage': 'The request limit has been reached for the resource.'}]}\n"
     ]
    },
    {
     "name": "stderr",
     "output_type": "stream",
     "text": [
      " 10%|▉         | 96/979 [01:00<06:19,  2.33it/s]"
     ]
    },
    {
     "name": "stdout",
     "output_type": "stream",
     "text": [
      "Error: 429\n",
      "{'errors': [{'errorId': 2001, 'domain': 'ACCESS', 'category': 'REQUEST', 'message': 'Too many requests.', 'longMessage': 'The request limit has been reached for the resource.'}]}\n"
     ]
    },
    {
     "name": "stderr",
     "output_type": "stream",
     "text": [
      " 10%|▉         | 97/979 [01:00<05:30,  2.67it/s]"
     ]
    },
    {
     "name": "stdout",
     "output_type": "stream",
     "text": [
      "Error: 429\n",
      "{'errors': [{'errorId': 2001, 'domain': 'ACCESS', 'category': 'REQUEST', 'message': 'Too many requests.', 'longMessage': 'The request limit has been reached for the resource.'}]}\n"
     ]
    },
    {
     "name": "stderr",
     "output_type": "stream",
     "text": [
      " 10%|█         | 98/979 [01:00<05:13,  2.81it/s]"
     ]
    },
    {
     "name": "stdout",
     "output_type": "stream",
     "text": [
      "Error: 429\n",
      "{'errors': [{'errorId': 2001, 'domain': 'ACCESS', 'category': 'REQUEST', 'message': 'Too many requests.', 'longMessage': 'The request limit has been reached for the resource.'}]}\n"
     ]
    },
    {
     "name": "stderr",
     "output_type": "stream",
     "text": [
      " 10%|█         | 99/979 [01:00<04:38,  3.16it/s]"
     ]
    },
    {
     "name": "stdout",
     "output_type": "stream",
     "text": [
      "Error: 429\n",
      "{'errors': [{'errorId': 2001, 'domain': 'ACCESS', 'category': 'REQUEST', 'message': 'Too many requests.', 'longMessage': 'The request limit has been reached for the resource.'}]}\n"
     ]
    },
    {
     "name": "stderr",
     "output_type": "stream",
     "text": [
      " 10%|█         | 100/979 [01:01<04:16,  3.43it/s]"
     ]
    },
    {
     "name": "stdout",
     "output_type": "stream",
     "text": [
      "Error: 429\n",
      "{'errors': [{'errorId': 2001, 'domain': 'ACCESS', 'category': 'REQUEST', 'message': 'Too many requests.', 'longMessage': 'The request limit has been reached for the resource.'}]}\n"
     ]
    },
    {
     "name": "stderr",
     "output_type": "stream",
     "text": [
      " 10%|█         | 101/979 [01:01<04:02,  3.63it/s]"
     ]
    },
    {
     "name": "stdout",
     "output_type": "stream",
     "text": [
      "Error: 429\n",
      "{'errors': [{'errorId': 2001, 'domain': 'ACCESS', 'category': 'REQUEST', 'message': 'Too many requests.', 'longMessage': 'The request limit has been reached for the resource.'}]}\n"
     ]
    },
    {
     "name": "stderr",
     "output_type": "stream",
     "text": [
      " 10%|█         | 102/979 [01:01<04:08,  3.53it/s]"
     ]
    },
    {
     "name": "stdout",
     "output_type": "stream",
     "text": [
      "Error: 429\n",
      "{'errors': [{'errorId': 2001, 'domain': 'ACCESS', 'category': 'REQUEST', 'message': 'Too many requests.', 'longMessage': 'The request limit has been reached for the resource.'}]}\n"
     ]
    },
    {
     "name": "stderr",
     "output_type": "stream",
     "text": [
      " 11%|█         | 103/979 [01:01<03:52,  3.77it/s]"
     ]
    },
    {
     "name": "stdout",
     "output_type": "stream",
     "text": [
      "Error: 429\n",
      "{'errors': [{'errorId': 2001, 'domain': 'ACCESS', 'category': 'REQUEST', 'message': 'Too many requests.', 'longMessage': 'The request limit has been reached for the resource.'}]}\n"
     ]
    },
    {
     "name": "stderr",
     "output_type": "stream",
     "text": [
      " 11%|█         | 104/979 [01:02<03:40,  3.97it/s]"
     ]
    },
    {
     "name": "stdout",
     "output_type": "stream",
     "text": [
      "Error: 429\n",
      "{'errors': [{'errorId': 2001, 'domain': 'ACCESS', 'category': 'REQUEST', 'message': 'Too many requests.', 'longMessage': 'The request limit has been reached for the resource.'}]}\n"
     ]
    },
    {
     "name": "stderr",
     "output_type": "stream",
     "text": [
      " 11%|█         | 105/979 [01:02<03:51,  3.78it/s]"
     ]
    },
    {
     "name": "stdout",
     "output_type": "stream",
     "text": [
      "Error: 429\n",
      "{'errors': [{'errorId': 2001, 'domain': 'ACCESS', 'category': 'REQUEST', 'message': 'Too many requests.', 'longMessage': 'The request limit has been reached for the resource.'}]}\n"
     ]
    },
    {
     "name": "stderr",
     "output_type": "stream",
     "text": [
      " 11%|█         | 106/979 [01:02<03:39,  3.97it/s]"
     ]
    },
    {
     "name": "stdout",
     "output_type": "stream",
     "text": [
      "Error: 429\n",
      "{'errors': [{'errorId': 2001, 'domain': 'ACCESS', 'category': 'REQUEST', 'message': 'Too many requests.', 'longMessage': 'The request limit has been reached for the resource.'}]}\n"
     ]
    },
    {
     "name": "stderr",
     "output_type": "stream",
     "text": [
      " 11%|█         | 107/979 [01:03<04:08,  3.52it/s]"
     ]
    },
    {
     "name": "stdout",
     "output_type": "stream",
     "text": [
      "Error: 429\n",
      "{'errors': [{'errorId': 2001, 'domain': 'ACCESS', 'category': 'REQUEST', 'message': 'Too many requests.', 'longMessage': 'The request limit has been reached for the resource.'}]}\n"
     ]
    },
    {
     "name": "stderr",
     "output_type": "stream",
     "text": [
      " 11%|█         | 108/979 [01:03<03:46,  3.85it/s]"
     ]
    },
    {
     "name": "stdout",
     "output_type": "stream",
     "text": [
      "Error: 429\n",
      "{'errors': [{'errorId': 2001, 'domain': 'ACCESS', 'category': 'REQUEST', 'message': 'Too many requests.', 'longMessage': 'The request limit has been reached for the resource.'}]}\n"
     ]
    },
    {
     "name": "stderr",
     "output_type": "stream",
     "text": [
      " 11%|█         | 109/979 [01:03<03:41,  3.93it/s]"
     ]
    },
    {
     "name": "stdout",
     "output_type": "stream",
     "text": [
      "Error: 429\n",
      "{'errors': [{'errorId': 2001, 'domain': 'ACCESS', 'category': 'REQUEST', 'message': 'Too many requests.', 'longMessage': 'The request limit has been reached for the resource.'}]}\n"
     ]
    },
    {
     "name": "stderr",
     "output_type": "stream",
     "text": [
      " 11%|█         | 110/979 [01:03<04:17,  3.38it/s]"
     ]
    },
    {
     "name": "stdout",
     "output_type": "stream",
     "text": [
      "Error: 429\n",
      "{'errors': [{'errorId': 2001, 'domain': 'ACCESS', 'category': 'REQUEST', 'message': 'Too many requests.', 'longMessage': 'The request limit has been reached for the resource.'}]}\n"
     ]
    },
    {
     "name": "stderr",
     "output_type": "stream",
     "text": [
      " 11%|█▏        | 111/979 [01:04<03:58,  3.64it/s]"
     ]
    },
    {
     "name": "stdout",
     "output_type": "stream",
     "text": [
      "Error: 429\n",
      "{'errors': [{'errorId': 2001, 'domain': 'ACCESS', 'category': 'REQUEST', 'message': 'Too many requests.', 'longMessage': 'The request limit has been reached for the resource.'}]}\n"
     ]
    },
    {
     "name": "stderr",
     "output_type": "stream",
     "text": [
      " 11%|█▏        | 112/979 [01:04<03:55,  3.69it/s]"
     ]
    },
    {
     "name": "stdout",
     "output_type": "stream",
     "text": [
      "Error: 429\n",
      "{'errors': [{'errorId': 2001, 'domain': 'ACCESS', 'category': 'REQUEST', 'message': 'Too many requests.', 'longMessage': 'The request limit has been reached for the resource.'}]}\n"
     ]
    },
    {
     "name": "stderr",
     "output_type": "stream",
     "text": [
      " 12%|█▏        | 113/979 [01:04<03:44,  3.85it/s]"
     ]
    },
    {
     "name": "stdout",
     "output_type": "stream",
     "text": [
      "Error: 429\n",
      "{'errors': [{'errorId': 2001, 'domain': 'ACCESS', 'category': 'REQUEST', 'message': 'Too many requests.', 'longMessage': 'The request limit has been reached for the resource.'}]}\n"
     ]
    },
    {
     "name": "stderr",
     "output_type": "stream",
     "text": [
      " 12%|█▏        | 114/979 [01:04<03:44,  3.85it/s]"
     ]
    },
    {
     "name": "stdout",
     "output_type": "stream",
     "text": [
      "Error: 429\n",
      "{'errors': [{'errorId': 2001, 'domain': 'ACCESS', 'category': 'REQUEST', 'message': 'Too many requests.', 'longMessage': 'The request limit has been reached for the resource.'}]}\n"
     ]
    },
    {
     "name": "stderr",
     "output_type": "stream",
     "text": [
      " 12%|█▏        | 116/979 [01:05<03:25,  4.20it/s]"
     ]
    },
    {
     "name": "stdout",
     "output_type": "stream",
     "text": [
      "Error: 429\n",
      "{'errors': [{'errorId': 2001, 'domain': 'ACCESS', 'category': 'REQUEST', 'message': 'Too many requests.', 'longMessage': 'The request limit has been reached for the resource.'}]}\n",
      "Error: 429\n",
      "{'errors': [{'errorId': 2001, 'domain': 'ACCESS', 'category': 'REQUEST', 'message': 'Too many requests.', 'longMessage': 'The request limit has been reached for the resource.'}]}\n"
     ]
    },
    {
     "name": "stderr",
     "output_type": "stream",
     "text": [
      " 12%|█▏        | 117/979 [01:05<03:17,  4.36it/s]"
     ]
    },
    {
     "name": "stdout",
     "output_type": "stream",
     "text": [
      "Error: 429\n",
      "{'errors': [{'errorId': 2001, 'domain': 'ACCESS', 'category': 'REQUEST', 'message': 'Too many requests.', 'longMessage': 'The request limit has been reached for the resource.'}]}\n"
     ]
    },
    {
     "name": "stderr",
     "output_type": "stream",
     "text": [
      " 12%|█▏        | 118/979 [01:05<03:19,  4.31it/s]"
     ]
    },
    {
     "name": "stdout",
     "output_type": "stream",
     "text": [
      "Error: 429\n",
      "{'errors': [{'errorId': 2001, 'domain': 'ACCESS', 'category': 'REQUEST', 'message': 'Too many requests.', 'longMessage': 'The request limit has been reached for the resource.'}]}\n"
     ]
    },
    {
     "name": "stderr",
     "output_type": "stream",
     "text": [
      " 12%|█▏        | 119/979 [01:06<03:27,  4.15it/s]"
     ]
    },
    {
     "name": "stdout",
     "output_type": "stream",
     "text": [
      "Error: 429\n",
      "{'errors': [{'errorId': 2001, 'domain': 'ACCESS', 'category': 'REQUEST', 'message': 'Too many requests.', 'longMessage': 'The request limit has been reached for the resource.'}]}\n"
     ]
    },
    {
     "name": "stderr",
     "output_type": "stream",
     "text": [
      " 12%|█▏        | 120/979 [01:06<03:28,  4.12it/s]"
     ]
    },
    {
     "name": "stdout",
     "output_type": "stream",
     "text": [
      "Error: 429\n",
      "{'errors': [{'errorId': 2001, 'domain': 'ACCESS', 'category': 'REQUEST', 'message': 'Too many requests.', 'longMessage': 'The request limit has been reached for the resource.'}]}\n"
     ]
    },
    {
     "name": "stderr",
     "output_type": "stream",
     "text": [
      " 12%|█▏        | 121/979 [01:06<03:19,  4.31it/s]"
     ]
    },
    {
     "name": "stdout",
     "output_type": "stream",
     "text": [
      "Error: 429\n",
      "{'errors': [{'errorId': 2001, 'domain': 'ACCESS', 'category': 'REQUEST', 'message': 'Too many requests.', 'longMessage': 'The request limit has been reached for the resource.'}]}\n"
     ]
    },
    {
     "name": "stderr",
     "output_type": "stream",
     "text": [
      " 12%|█▏        | 122/979 [01:06<07:50,  1.82it/s]"
     ]
    },
    {
     "name": "stdout",
     "output_type": "stream",
     "text": [
      "Error: 429\n",
      "{'errors': [{'errorId': 2001, 'domain': 'ACCESS', 'category': 'REQUEST', 'message': 'Too many requests.', 'longMessage': 'The request limit has been reached for the resource.'}]}\n"
     ]
    },
    {
     "name": "stderr",
     "output_type": "stream",
     "text": [
      "\n"
     ]
    },
    {
     "ename": "KeyboardInterrupt",
     "evalue": "",
     "output_type": "error",
     "traceback": [
      "\u001b[0;31m---------------------------------------------------------------------------\u001b[0m",
      "\u001b[0;31mKeyboardInterrupt\u001b[0m                         Traceback (most recent call last)",
      "Cell \u001b[0;32mIn[77], line 20\u001b[0m\n\u001b[1;32m     17\u001b[0m     count \u001b[38;5;241m=\u001b[39m \u001b[38;5;241m200\u001b[39m\n\u001b[1;32m     19\u001b[0m \u001b[38;5;66;03m# Call the eBay API\u001b[39;00m\n\u001b[0;32m---> 20\u001b[0m response \u001b[38;5;241m=\u001b[39m \u001b[43mcall_ebay_api_by_price_count\u001b[49m\u001b[43m(\u001b[49m\u001b[43mcategory\u001b[49m\u001b[43m,\u001b[49m\u001b[43m \u001b[49m\u001b[43mrow\u001b[49m\u001b[43m[\u001b[49m\u001b[38;5;124;43m'\u001b[39;49m\u001b[38;5;124;43mmin_price\u001b[39;49m\u001b[38;5;124;43m'\u001b[39;49m\u001b[43m]\u001b[49m\u001b[43m,\u001b[49m\u001b[43m \u001b[49m\u001b[43mrow\u001b[49m\u001b[43m[\u001b[49m\u001b[38;5;124;43m'\u001b[39;49m\u001b[38;5;124;43mmax_price\u001b[39;49m\u001b[38;5;124;43m'\u001b[39;49m\u001b[43m]\u001b[49m\u001b[43m,\u001b[49m\u001b[43m \u001b[49m\u001b[43mcount\u001b[49m\u001b[43m)\u001b[49m\n\u001b[1;32m     22\u001b[0m \u001b[38;5;66;03m# Process the response, which is a list of dictionaries\u001b[39;00m\n\u001b[1;32m     23\u001b[0m selected_item \u001b[38;5;241m=\u001b[39m \u001b[38;5;28;01mNone\u001b[39;00m\n",
      "Cell \u001b[0;32mIn[71], line 71\u001b[0m, in \u001b[0;36mcall_ebay_api_by_price_count\u001b[0;34m(q, min_price, max_price, count)\u001b[0m\n\u001b[1;32m     65\u001b[0m \u001b[38;5;28;01mdef\u001b[39;00m \u001b[38;5;21mcall_ebay_api_by_price_count\u001b[39m(q, min_price, max_price, count):\n\u001b[1;32m     66\u001b[0m     params \u001b[38;5;241m=\u001b[39m {\n\u001b[1;32m     67\u001b[0m         \u001b[38;5;124m'\u001b[39m\u001b[38;5;124mq\u001b[39m\u001b[38;5;124m'\u001b[39m: q,\n\u001b[1;32m     68\u001b[0m         \n\u001b[1;32m     69\u001b[0m         \u001b[38;5;124m'\u001b[39m\u001b[38;5;124mlimit\u001b[39m\u001b[38;5;124m'\u001b[39m: count\n\u001b[1;32m     70\u001b[0m     }\n\u001b[0;32m---> 71\u001b[0m     \u001b[38;5;28;01mreturn\u001b[39;00m \u001b[43msearch_ebay_items\u001b[49m\u001b[43m(\u001b[49m\u001b[43mparams\u001b[49m\u001b[43m)\u001b[49m\n",
      "Cell \u001b[0;32mIn[71], line 14\u001b[0m, in \u001b[0;36msearch_ebay_items\u001b[0;34m(params, access_token)\u001b[0m\n\u001b[1;32m      8\u001b[0m headers \u001b[38;5;241m=\u001b[39m {\n\u001b[1;32m      9\u001b[0m     \u001b[38;5;124m'\u001b[39m\u001b[38;5;124mAuthorization\u001b[39m\u001b[38;5;124m'\u001b[39m: \u001b[38;5;124mf\u001b[39m\u001b[38;5;124m'\u001b[39m\u001b[38;5;124mBearer \u001b[39m\u001b[38;5;132;01m{\u001b[39;00maccess_token\u001b[38;5;132;01m}\u001b[39;00m\u001b[38;5;124m'\u001b[39m,\n\u001b[1;32m     10\u001b[0m     \u001b[38;5;124m'\u001b[39m\u001b[38;5;124mContent-Type\u001b[39m\u001b[38;5;124m'\u001b[39m: \u001b[38;5;124m'\u001b[39m\u001b[38;5;124mapplication/json\u001b[39m\u001b[38;5;124m'\u001b[39m,\n\u001b[1;32m     11\u001b[0m }\n\u001b[1;32m     13\u001b[0m \u001b[38;5;66;03m# Make the API request\u001b[39;00m\n\u001b[0;32m---> 14\u001b[0m response \u001b[38;5;241m=\u001b[39m \u001b[43mrequests\u001b[49m\u001b[38;5;241;43m.\u001b[39;49m\u001b[43mget\u001b[49m\u001b[43m(\u001b[49m\u001b[43mendpoint\u001b[49m\u001b[43m,\u001b[49m\u001b[43m \u001b[49m\u001b[43mheaders\u001b[49m\u001b[38;5;241;43m=\u001b[39;49m\u001b[43mheaders\u001b[49m\u001b[43m,\u001b[49m\u001b[43m \u001b[49m\u001b[43mparams\u001b[49m\u001b[38;5;241;43m=\u001b[39;49m\u001b[43mparams\u001b[49m\u001b[43m)\u001b[49m\n\u001b[1;32m     16\u001b[0m \u001b[38;5;66;03m# Check if the request was successful\u001b[39;00m\n\u001b[1;32m     17\u001b[0m \u001b[38;5;28;01mif\u001b[39;00m response\u001b[38;5;241m.\u001b[39mstatus_code \u001b[38;5;241m==\u001b[39m \u001b[38;5;241m200\u001b[39m:\n",
      "File \u001b[0;32m~/final_pro/Final-Project-SmartCommerce/venv/lib/python3.10/site-packages/requests/api.py:73\u001b[0m, in \u001b[0;36mget\u001b[0;34m(url, params, **kwargs)\u001b[0m\n\u001b[1;32m     62\u001b[0m \u001b[38;5;28;01mdef\u001b[39;00m \u001b[38;5;21mget\u001b[39m(url, params\u001b[38;5;241m=\u001b[39m\u001b[38;5;28;01mNone\u001b[39;00m, \u001b[38;5;241m*\u001b[39m\u001b[38;5;241m*\u001b[39mkwargs):\n\u001b[1;32m     63\u001b[0m \u001b[38;5;250m    \u001b[39m\u001b[38;5;124mr\u001b[39m\u001b[38;5;124;03m\"\"\"Sends a GET request.\u001b[39;00m\n\u001b[1;32m     64\u001b[0m \n\u001b[1;32m     65\u001b[0m \u001b[38;5;124;03m    :param url: URL for the new :class:`Request` object.\u001b[39;00m\n\u001b[0;32m   (...)\u001b[0m\n\u001b[1;32m     70\u001b[0m \u001b[38;5;124;03m    :rtype: requests.Response\u001b[39;00m\n\u001b[1;32m     71\u001b[0m \u001b[38;5;124;03m    \"\"\"\u001b[39;00m\n\u001b[0;32m---> 73\u001b[0m     \u001b[38;5;28;01mreturn\u001b[39;00m \u001b[43mrequest\u001b[49m\u001b[43m(\u001b[49m\u001b[38;5;124;43m\"\u001b[39;49m\u001b[38;5;124;43mget\u001b[39;49m\u001b[38;5;124;43m\"\u001b[39;49m\u001b[43m,\u001b[49m\u001b[43m \u001b[49m\u001b[43murl\u001b[49m\u001b[43m,\u001b[49m\u001b[43m \u001b[49m\u001b[43mparams\u001b[49m\u001b[38;5;241;43m=\u001b[39;49m\u001b[43mparams\u001b[49m\u001b[43m,\u001b[49m\u001b[43m \u001b[49m\u001b[38;5;241;43m*\u001b[39;49m\u001b[38;5;241;43m*\u001b[39;49m\u001b[43mkwargs\u001b[49m\u001b[43m)\u001b[49m\n",
      "File \u001b[0;32m~/final_pro/Final-Project-SmartCommerce/venv/lib/python3.10/site-packages/requests/api.py:59\u001b[0m, in \u001b[0;36mrequest\u001b[0;34m(method, url, **kwargs)\u001b[0m\n\u001b[1;32m     55\u001b[0m \u001b[38;5;66;03m# By using the 'with' statement we are sure the session is closed, thus we\u001b[39;00m\n\u001b[1;32m     56\u001b[0m \u001b[38;5;66;03m# avoid leaving sockets open which can trigger a ResourceWarning in some\u001b[39;00m\n\u001b[1;32m     57\u001b[0m \u001b[38;5;66;03m# cases, and look like a memory leak in others.\u001b[39;00m\n\u001b[1;32m     58\u001b[0m \u001b[38;5;28;01mwith\u001b[39;00m sessions\u001b[38;5;241m.\u001b[39mSession() \u001b[38;5;28;01mas\u001b[39;00m session:\n\u001b[0;32m---> 59\u001b[0m     \u001b[38;5;28;01mreturn\u001b[39;00m \u001b[43msession\u001b[49m\u001b[38;5;241;43m.\u001b[39;49m\u001b[43mrequest\u001b[49m\u001b[43m(\u001b[49m\u001b[43mmethod\u001b[49m\u001b[38;5;241;43m=\u001b[39;49m\u001b[43mmethod\u001b[49m\u001b[43m,\u001b[49m\u001b[43m \u001b[49m\u001b[43murl\u001b[49m\u001b[38;5;241;43m=\u001b[39;49m\u001b[43murl\u001b[49m\u001b[43m,\u001b[49m\u001b[43m \u001b[49m\u001b[38;5;241;43m*\u001b[39;49m\u001b[38;5;241;43m*\u001b[39;49m\u001b[43mkwargs\u001b[49m\u001b[43m)\u001b[49m\n",
      "File \u001b[0;32m~/final_pro/Final-Project-SmartCommerce/venv/lib/python3.10/site-packages/requests/sessions.py:589\u001b[0m, in \u001b[0;36mSession.request\u001b[0;34m(self, method, url, params, data, headers, cookies, files, auth, timeout, allow_redirects, proxies, hooks, stream, verify, cert, json)\u001b[0m\n\u001b[1;32m    584\u001b[0m send_kwargs \u001b[38;5;241m=\u001b[39m {\n\u001b[1;32m    585\u001b[0m     \u001b[38;5;124m\"\u001b[39m\u001b[38;5;124mtimeout\u001b[39m\u001b[38;5;124m\"\u001b[39m: timeout,\n\u001b[1;32m    586\u001b[0m     \u001b[38;5;124m\"\u001b[39m\u001b[38;5;124mallow_redirects\u001b[39m\u001b[38;5;124m\"\u001b[39m: allow_redirects,\n\u001b[1;32m    587\u001b[0m }\n\u001b[1;32m    588\u001b[0m send_kwargs\u001b[38;5;241m.\u001b[39mupdate(settings)\n\u001b[0;32m--> 589\u001b[0m resp \u001b[38;5;241m=\u001b[39m \u001b[38;5;28;43mself\u001b[39;49m\u001b[38;5;241;43m.\u001b[39;49m\u001b[43msend\u001b[49m\u001b[43m(\u001b[49m\u001b[43mprep\u001b[49m\u001b[43m,\u001b[49m\u001b[43m \u001b[49m\u001b[38;5;241;43m*\u001b[39;49m\u001b[38;5;241;43m*\u001b[39;49m\u001b[43msend_kwargs\u001b[49m\u001b[43m)\u001b[49m\n\u001b[1;32m    591\u001b[0m \u001b[38;5;28;01mreturn\u001b[39;00m resp\n",
      "File \u001b[0;32m~/final_pro/Final-Project-SmartCommerce/venv/lib/python3.10/site-packages/requests/sessions.py:703\u001b[0m, in \u001b[0;36mSession.send\u001b[0;34m(self, request, **kwargs)\u001b[0m\n\u001b[1;32m    700\u001b[0m start \u001b[38;5;241m=\u001b[39m preferred_clock()\n\u001b[1;32m    702\u001b[0m \u001b[38;5;66;03m# Send the request\u001b[39;00m\n\u001b[0;32m--> 703\u001b[0m r \u001b[38;5;241m=\u001b[39m \u001b[43madapter\u001b[49m\u001b[38;5;241;43m.\u001b[39;49m\u001b[43msend\u001b[49m\u001b[43m(\u001b[49m\u001b[43mrequest\u001b[49m\u001b[43m,\u001b[49m\u001b[43m \u001b[49m\u001b[38;5;241;43m*\u001b[39;49m\u001b[38;5;241;43m*\u001b[39;49m\u001b[43mkwargs\u001b[49m\u001b[43m)\u001b[49m\n\u001b[1;32m    705\u001b[0m \u001b[38;5;66;03m# Total elapsed time of the request (approximately)\u001b[39;00m\n\u001b[1;32m    706\u001b[0m elapsed \u001b[38;5;241m=\u001b[39m preferred_clock() \u001b[38;5;241m-\u001b[39m start\n",
      "File \u001b[0;32m~/final_pro/Final-Project-SmartCommerce/venv/lib/python3.10/site-packages/requests/adapters.py:667\u001b[0m, in \u001b[0;36mHTTPAdapter.send\u001b[0;34m(self, request, stream, timeout, verify, cert, proxies)\u001b[0m\n\u001b[1;32m    664\u001b[0m     timeout \u001b[38;5;241m=\u001b[39m TimeoutSauce(connect\u001b[38;5;241m=\u001b[39mtimeout, read\u001b[38;5;241m=\u001b[39mtimeout)\n\u001b[1;32m    666\u001b[0m \u001b[38;5;28;01mtry\u001b[39;00m:\n\u001b[0;32m--> 667\u001b[0m     resp \u001b[38;5;241m=\u001b[39m \u001b[43mconn\u001b[49m\u001b[38;5;241;43m.\u001b[39;49m\u001b[43murlopen\u001b[49m\u001b[43m(\u001b[49m\n\u001b[1;32m    668\u001b[0m \u001b[43m        \u001b[49m\u001b[43mmethod\u001b[49m\u001b[38;5;241;43m=\u001b[39;49m\u001b[43mrequest\u001b[49m\u001b[38;5;241;43m.\u001b[39;49m\u001b[43mmethod\u001b[49m\u001b[43m,\u001b[49m\n\u001b[1;32m    669\u001b[0m \u001b[43m        \u001b[49m\u001b[43murl\u001b[49m\u001b[38;5;241;43m=\u001b[39;49m\u001b[43murl\u001b[49m\u001b[43m,\u001b[49m\n\u001b[1;32m    670\u001b[0m \u001b[43m        \u001b[49m\u001b[43mbody\u001b[49m\u001b[38;5;241;43m=\u001b[39;49m\u001b[43mrequest\u001b[49m\u001b[38;5;241;43m.\u001b[39;49m\u001b[43mbody\u001b[49m\u001b[43m,\u001b[49m\n\u001b[1;32m    671\u001b[0m \u001b[43m        \u001b[49m\u001b[43mheaders\u001b[49m\u001b[38;5;241;43m=\u001b[39;49m\u001b[43mrequest\u001b[49m\u001b[38;5;241;43m.\u001b[39;49m\u001b[43mheaders\u001b[49m\u001b[43m,\u001b[49m\n\u001b[1;32m    672\u001b[0m \u001b[43m        \u001b[49m\u001b[43mredirect\u001b[49m\u001b[38;5;241;43m=\u001b[39;49m\u001b[38;5;28;43;01mFalse\u001b[39;49;00m\u001b[43m,\u001b[49m\n\u001b[1;32m    673\u001b[0m \u001b[43m        \u001b[49m\u001b[43massert_same_host\u001b[49m\u001b[38;5;241;43m=\u001b[39;49m\u001b[38;5;28;43;01mFalse\u001b[39;49;00m\u001b[43m,\u001b[49m\n\u001b[1;32m    674\u001b[0m \u001b[43m        \u001b[49m\u001b[43mpreload_content\u001b[49m\u001b[38;5;241;43m=\u001b[39;49m\u001b[38;5;28;43;01mFalse\u001b[39;49;00m\u001b[43m,\u001b[49m\n\u001b[1;32m    675\u001b[0m \u001b[43m        \u001b[49m\u001b[43mdecode_content\u001b[49m\u001b[38;5;241;43m=\u001b[39;49m\u001b[38;5;28;43;01mFalse\u001b[39;49;00m\u001b[43m,\u001b[49m\n\u001b[1;32m    676\u001b[0m \u001b[43m        \u001b[49m\u001b[43mretries\u001b[49m\u001b[38;5;241;43m=\u001b[39;49m\u001b[38;5;28;43mself\u001b[39;49m\u001b[38;5;241;43m.\u001b[39;49m\u001b[43mmax_retries\u001b[49m\u001b[43m,\u001b[49m\n\u001b[1;32m    677\u001b[0m \u001b[43m        \u001b[49m\u001b[43mtimeout\u001b[49m\u001b[38;5;241;43m=\u001b[39;49m\u001b[43mtimeout\u001b[49m\u001b[43m,\u001b[49m\n\u001b[1;32m    678\u001b[0m \u001b[43m        \u001b[49m\u001b[43mchunked\u001b[49m\u001b[38;5;241;43m=\u001b[39;49m\u001b[43mchunked\u001b[49m\u001b[43m,\u001b[49m\n\u001b[1;32m    679\u001b[0m \u001b[43m    \u001b[49m\u001b[43m)\u001b[49m\n\u001b[1;32m    681\u001b[0m \u001b[38;5;28;01mexcept\u001b[39;00m (ProtocolError, \u001b[38;5;167;01mOSError\u001b[39;00m) \u001b[38;5;28;01mas\u001b[39;00m err:\n\u001b[1;32m    682\u001b[0m     \u001b[38;5;28;01mraise\u001b[39;00m \u001b[38;5;167;01mConnectionError\u001b[39;00m(err, request\u001b[38;5;241m=\u001b[39mrequest)\n",
      "File \u001b[0;32m~/final_pro/Final-Project-SmartCommerce/venv/lib/python3.10/site-packages/urllib3/connectionpool.py:789\u001b[0m, in \u001b[0;36mHTTPConnectionPool.urlopen\u001b[0;34m(self, method, url, body, headers, retries, redirect, assert_same_host, timeout, pool_timeout, release_conn, chunked, body_pos, preload_content, decode_content, **response_kw)\u001b[0m\n\u001b[1;32m    786\u001b[0m response_conn \u001b[38;5;241m=\u001b[39m conn \u001b[38;5;28;01mif\u001b[39;00m \u001b[38;5;129;01mnot\u001b[39;00m release_conn \u001b[38;5;28;01melse\u001b[39;00m \u001b[38;5;28;01mNone\u001b[39;00m\n\u001b[1;32m    788\u001b[0m \u001b[38;5;66;03m# Make the request on the HTTPConnection object\u001b[39;00m\n\u001b[0;32m--> 789\u001b[0m response \u001b[38;5;241m=\u001b[39m \u001b[38;5;28;43mself\u001b[39;49m\u001b[38;5;241;43m.\u001b[39;49m\u001b[43m_make_request\u001b[49m\u001b[43m(\u001b[49m\n\u001b[1;32m    790\u001b[0m \u001b[43m    \u001b[49m\u001b[43mconn\u001b[49m\u001b[43m,\u001b[49m\n\u001b[1;32m    791\u001b[0m \u001b[43m    \u001b[49m\u001b[43mmethod\u001b[49m\u001b[43m,\u001b[49m\n\u001b[1;32m    792\u001b[0m \u001b[43m    \u001b[49m\u001b[43murl\u001b[49m\u001b[43m,\u001b[49m\n\u001b[1;32m    793\u001b[0m \u001b[43m    \u001b[49m\u001b[43mtimeout\u001b[49m\u001b[38;5;241;43m=\u001b[39;49m\u001b[43mtimeout_obj\u001b[49m\u001b[43m,\u001b[49m\n\u001b[1;32m    794\u001b[0m \u001b[43m    \u001b[49m\u001b[43mbody\u001b[49m\u001b[38;5;241;43m=\u001b[39;49m\u001b[43mbody\u001b[49m\u001b[43m,\u001b[49m\n\u001b[1;32m    795\u001b[0m \u001b[43m    \u001b[49m\u001b[43mheaders\u001b[49m\u001b[38;5;241;43m=\u001b[39;49m\u001b[43mheaders\u001b[49m\u001b[43m,\u001b[49m\n\u001b[1;32m    796\u001b[0m \u001b[43m    \u001b[49m\u001b[43mchunked\u001b[49m\u001b[38;5;241;43m=\u001b[39;49m\u001b[43mchunked\u001b[49m\u001b[43m,\u001b[49m\n\u001b[1;32m    797\u001b[0m \u001b[43m    \u001b[49m\u001b[43mretries\u001b[49m\u001b[38;5;241;43m=\u001b[39;49m\u001b[43mretries\u001b[49m\u001b[43m,\u001b[49m\n\u001b[1;32m    798\u001b[0m \u001b[43m    \u001b[49m\u001b[43mresponse_conn\u001b[49m\u001b[38;5;241;43m=\u001b[39;49m\u001b[43mresponse_conn\u001b[49m\u001b[43m,\u001b[49m\n\u001b[1;32m    799\u001b[0m \u001b[43m    \u001b[49m\u001b[43mpreload_content\u001b[49m\u001b[38;5;241;43m=\u001b[39;49m\u001b[43mpreload_content\u001b[49m\u001b[43m,\u001b[49m\n\u001b[1;32m    800\u001b[0m \u001b[43m    \u001b[49m\u001b[43mdecode_content\u001b[49m\u001b[38;5;241;43m=\u001b[39;49m\u001b[43mdecode_content\u001b[49m\u001b[43m,\u001b[49m\n\u001b[1;32m    801\u001b[0m \u001b[43m    \u001b[49m\u001b[38;5;241;43m*\u001b[39;49m\u001b[38;5;241;43m*\u001b[39;49m\u001b[43mresponse_kw\u001b[49m\u001b[43m,\u001b[49m\n\u001b[1;32m    802\u001b[0m \u001b[43m\u001b[49m\u001b[43m)\u001b[49m\n\u001b[1;32m    804\u001b[0m \u001b[38;5;66;03m# Everything went great!\u001b[39;00m\n\u001b[1;32m    805\u001b[0m clean_exit \u001b[38;5;241m=\u001b[39m \u001b[38;5;28;01mTrue\u001b[39;00m\n",
      "File \u001b[0;32m~/final_pro/Final-Project-SmartCommerce/venv/lib/python3.10/site-packages/urllib3/connectionpool.py:536\u001b[0m, in \u001b[0;36mHTTPConnectionPool._make_request\u001b[0;34m(self, conn, method, url, body, headers, retries, timeout, chunked, response_conn, preload_content, decode_content, enforce_content_length)\u001b[0m\n\u001b[1;32m    534\u001b[0m \u001b[38;5;66;03m# Receive the response from the server\u001b[39;00m\n\u001b[1;32m    535\u001b[0m \u001b[38;5;28;01mtry\u001b[39;00m:\n\u001b[0;32m--> 536\u001b[0m     response \u001b[38;5;241m=\u001b[39m \u001b[43mconn\u001b[49m\u001b[38;5;241;43m.\u001b[39;49m\u001b[43mgetresponse\u001b[49m\u001b[43m(\u001b[49m\u001b[43m)\u001b[49m\n\u001b[1;32m    537\u001b[0m \u001b[38;5;28;01mexcept\u001b[39;00m (BaseSSLError, \u001b[38;5;167;01mOSError\u001b[39;00m) \u001b[38;5;28;01mas\u001b[39;00m e:\n\u001b[1;32m    538\u001b[0m     \u001b[38;5;28mself\u001b[39m\u001b[38;5;241m.\u001b[39m_raise_timeout(err\u001b[38;5;241m=\u001b[39me, url\u001b[38;5;241m=\u001b[39murl, timeout_value\u001b[38;5;241m=\u001b[39mread_timeout)\n",
      "File \u001b[0;32m~/final_pro/Final-Project-SmartCommerce/venv/lib/python3.10/site-packages/urllib3/connection.py:464\u001b[0m, in \u001b[0;36mHTTPConnection.getresponse\u001b[0;34m(self)\u001b[0m\n\u001b[1;32m    461\u001b[0m \u001b[38;5;28;01mfrom\u001b[39;00m \u001b[38;5;21;01m.\u001b[39;00m\u001b[38;5;21;01mresponse\u001b[39;00m \u001b[38;5;28;01mimport\u001b[39;00m HTTPResponse\n\u001b[1;32m    463\u001b[0m \u001b[38;5;66;03m# Get the response from http.client.HTTPConnection\u001b[39;00m\n\u001b[0;32m--> 464\u001b[0m httplib_response \u001b[38;5;241m=\u001b[39m \u001b[38;5;28;43msuper\u001b[39;49m\u001b[43m(\u001b[49m\u001b[43m)\u001b[49m\u001b[38;5;241;43m.\u001b[39;49m\u001b[43mgetresponse\u001b[49m\u001b[43m(\u001b[49m\u001b[43m)\u001b[49m\n\u001b[1;32m    466\u001b[0m \u001b[38;5;28;01mtry\u001b[39;00m:\n\u001b[1;32m    467\u001b[0m     assert_header_parsing(httplib_response\u001b[38;5;241m.\u001b[39mmsg)\n",
      "File \u001b[0;32m/usr/lib/python3.10/http/client.py:1375\u001b[0m, in \u001b[0;36mHTTPConnection.getresponse\u001b[0;34m(self)\u001b[0m\n\u001b[1;32m   1373\u001b[0m \u001b[38;5;28;01mtry\u001b[39;00m:\n\u001b[1;32m   1374\u001b[0m     \u001b[38;5;28;01mtry\u001b[39;00m:\n\u001b[0;32m-> 1375\u001b[0m         \u001b[43mresponse\u001b[49m\u001b[38;5;241;43m.\u001b[39;49m\u001b[43mbegin\u001b[49m\u001b[43m(\u001b[49m\u001b[43m)\u001b[49m\n\u001b[1;32m   1376\u001b[0m     \u001b[38;5;28;01mexcept\u001b[39;00m \u001b[38;5;167;01mConnectionError\u001b[39;00m:\n\u001b[1;32m   1377\u001b[0m         \u001b[38;5;28mself\u001b[39m\u001b[38;5;241m.\u001b[39mclose()\n",
      "File \u001b[0;32m/usr/lib/python3.10/http/client.py:318\u001b[0m, in \u001b[0;36mHTTPResponse.begin\u001b[0;34m(self)\u001b[0m\n\u001b[1;32m    316\u001b[0m \u001b[38;5;66;03m# read until we get a non-100 response\u001b[39;00m\n\u001b[1;32m    317\u001b[0m \u001b[38;5;28;01mwhile\u001b[39;00m \u001b[38;5;28;01mTrue\u001b[39;00m:\n\u001b[0;32m--> 318\u001b[0m     version, status, reason \u001b[38;5;241m=\u001b[39m \u001b[38;5;28;43mself\u001b[39;49m\u001b[38;5;241;43m.\u001b[39;49m\u001b[43m_read_status\u001b[49m\u001b[43m(\u001b[49m\u001b[43m)\u001b[49m\n\u001b[1;32m    319\u001b[0m     \u001b[38;5;28;01mif\u001b[39;00m status \u001b[38;5;241m!=\u001b[39m CONTINUE:\n\u001b[1;32m    320\u001b[0m         \u001b[38;5;28;01mbreak\u001b[39;00m\n",
      "File \u001b[0;32m/usr/lib/python3.10/http/client.py:279\u001b[0m, in \u001b[0;36mHTTPResponse._read_status\u001b[0;34m(self)\u001b[0m\n\u001b[1;32m    278\u001b[0m \u001b[38;5;28;01mdef\u001b[39;00m \u001b[38;5;21m_read_status\u001b[39m(\u001b[38;5;28mself\u001b[39m):\n\u001b[0;32m--> 279\u001b[0m     line \u001b[38;5;241m=\u001b[39m \u001b[38;5;28mstr\u001b[39m(\u001b[38;5;28;43mself\u001b[39;49m\u001b[38;5;241;43m.\u001b[39;49m\u001b[43mfp\u001b[49m\u001b[38;5;241;43m.\u001b[39;49m\u001b[43mreadline\u001b[49m\u001b[43m(\u001b[49m\u001b[43m_MAXLINE\u001b[49m\u001b[43m \u001b[49m\u001b[38;5;241;43m+\u001b[39;49m\u001b[43m \u001b[49m\u001b[38;5;241;43m1\u001b[39;49m\u001b[43m)\u001b[49m, \u001b[38;5;124m\"\u001b[39m\u001b[38;5;124miso-8859-1\u001b[39m\u001b[38;5;124m\"\u001b[39m)\n\u001b[1;32m    280\u001b[0m     \u001b[38;5;28;01mif\u001b[39;00m \u001b[38;5;28mlen\u001b[39m(line) \u001b[38;5;241m>\u001b[39m _MAXLINE:\n\u001b[1;32m    281\u001b[0m         \u001b[38;5;28;01mraise\u001b[39;00m LineTooLong(\u001b[38;5;124m\"\u001b[39m\u001b[38;5;124mstatus line\u001b[39m\u001b[38;5;124m\"\u001b[39m)\n",
      "File \u001b[0;32m/usr/lib/python3.10/socket.py:705\u001b[0m, in \u001b[0;36mSocketIO.readinto\u001b[0;34m(self, b)\u001b[0m\n\u001b[1;32m    703\u001b[0m \u001b[38;5;28;01mwhile\u001b[39;00m \u001b[38;5;28;01mTrue\u001b[39;00m:\n\u001b[1;32m    704\u001b[0m     \u001b[38;5;28;01mtry\u001b[39;00m:\n\u001b[0;32m--> 705\u001b[0m         \u001b[38;5;28;01mreturn\u001b[39;00m \u001b[38;5;28;43mself\u001b[39;49m\u001b[38;5;241;43m.\u001b[39;49m\u001b[43m_sock\u001b[49m\u001b[38;5;241;43m.\u001b[39;49m\u001b[43mrecv_into\u001b[49m\u001b[43m(\u001b[49m\u001b[43mb\u001b[49m\u001b[43m)\u001b[49m\n\u001b[1;32m    706\u001b[0m     \u001b[38;5;28;01mexcept\u001b[39;00m timeout:\n\u001b[1;32m    707\u001b[0m         \u001b[38;5;28mself\u001b[39m\u001b[38;5;241m.\u001b[39m_timeout_occurred \u001b[38;5;241m=\u001b[39m \u001b[38;5;28;01mTrue\u001b[39;00m\n",
      "File \u001b[0;32m/usr/lib/python3.10/ssl.py:1303\u001b[0m, in \u001b[0;36mSSLSocket.recv_into\u001b[0;34m(self, buffer, nbytes, flags)\u001b[0m\n\u001b[1;32m   1299\u001b[0m     \u001b[38;5;28;01mif\u001b[39;00m flags \u001b[38;5;241m!=\u001b[39m \u001b[38;5;241m0\u001b[39m:\n\u001b[1;32m   1300\u001b[0m         \u001b[38;5;28;01mraise\u001b[39;00m \u001b[38;5;167;01mValueError\u001b[39;00m(\n\u001b[1;32m   1301\u001b[0m           \u001b[38;5;124m\"\u001b[39m\u001b[38;5;124mnon-zero flags not allowed in calls to recv_into() on \u001b[39m\u001b[38;5;132;01m%s\u001b[39;00m\u001b[38;5;124m\"\u001b[39m \u001b[38;5;241m%\u001b[39m\n\u001b[1;32m   1302\u001b[0m           \u001b[38;5;28mself\u001b[39m\u001b[38;5;241m.\u001b[39m\u001b[38;5;18m__class__\u001b[39m)\n\u001b[0;32m-> 1303\u001b[0m     \u001b[38;5;28;01mreturn\u001b[39;00m \u001b[38;5;28;43mself\u001b[39;49m\u001b[38;5;241;43m.\u001b[39;49m\u001b[43mread\u001b[49m\u001b[43m(\u001b[49m\u001b[43mnbytes\u001b[49m\u001b[43m,\u001b[49m\u001b[43m \u001b[49m\u001b[43mbuffer\u001b[49m\u001b[43m)\u001b[49m\n\u001b[1;32m   1304\u001b[0m \u001b[38;5;28;01melse\u001b[39;00m:\n\u001b[1;32m   1305\u001b[0m     \u001b[38;5;28;01mreturn\u001b[39;00m \u001b[38;5;28msuper\u001b[39m()\u001b[38;5;241m.\u001b[39mrecv_into(buffer, nbytes, flags)\n",
      "File \u001b[0;32m/usr/lib/python3.10/ssl.py:1159\u001b[0m, in \u001b[0;36mSSLSocket.read\u001b[0;34m(self, len, buffer)\u001b[0m\n\u001b[1;32m   1157\u001b[0m \u001b[38;5;28;01mtry\u001b[39;00m:\n\u001b[1;32m   1158\u001b[0m     \u001b[38;5;28;01mif\u001b[39;00m buffer \u001b[38;5;129;01mis\u001b[39;00m \u001b[38;5;129;01mnot\u001b[39;00m \u001b[38;5;28;01mNone\u001b[39;00m:\n\u001b[0;32m-> 1159\u001b[0m         \u001b[38;5;28;01mreturn\u001b[39;00m \u001b[38;5;28;43mself\u001b[39;49m\u001b[38;5;241;43m.\u001b[39;49m\u001b[43m_sslobj\u001b[49m\u001b[38;5;241;43m.\u001b[39;49m\u001b[43mread\u001b[49m\u001b[43m(\u001b[49m\u001b[38;5;28;43mlen\u001b[39;49m\u001b[43m,\u001b[49m\u001b[43m \u001b[49m\u001b[43mbuffer\u001b[49m\u001b[43m)\u001b[49m\n\u001b[1;32m   1160\u001b[0m     \u001b[38;5;28;01melse\u001b[39;00m:\n\u001b[1;32m   1161\u001b[0m         \u001b[38;5;28;01mreturn\u001b[39;00m \u001b[38;5;28mself\u001b[39m\u001b[38;5;241m.\u001b[39m_sslobj\u001b[38;5;241m.\u001b[39mread(\u001b[38;5;28mlen\u001b[39m)\n",
      "\u001b[0;31mKeyboardInterrupt\u001b[0m: "
     ]
    }
   ],
   "source": [
    "import pandas as pd\n",
    "from tqdm import tqdm\n",
    "\n",
    "# List to hold the results\n",
    "results = []\n",
    "\n",
    "# Set to track used eBay item IDs to ensure uniqueness\n",
    "used_ebay_item_ids = set()\n",
    "\n",
    "# Loop through the entire DataFrame with a progress bar\n",
    "for index, row in tqdm(joined_df_english_category.iterrows(), total=len(joined_df_english_category)):\n",
    "    category = row['product_category_name_english']\n",
    "    count = category_counts.get(category, 20)  # Use the count from the category_counts dictionary\n",
    "    \n",
    "    # Ensure count does not exceed 200\n",
    "    if count > 200:\n",
    "        count = 200\n",
    "    \n",
    "    # Call the eBay API\n",
    "    response = call_ebay_api_by_price_count(category, row['min_price'], row['max_price'], count)\n",
    "    \n",
    "    # Process the response, which is a list of dictionaries\n",
    "    selected_item = None\n",
    "    if response:  # Ensure there are items in the response\n",
    "        for item in response:\n",
    "            ebay_item_id = item.get('itemId', None)\n",
    "            if ebay_item_id and ebay_item_id not in used_ebay_item_ids:\n",
    "                # Found a unique product\n",
    "                used_ebay_item_ids.add(ebay_item_id)\n",
    "                selected_item = item\n",
    "                break\n",
    "\n",
    "    # If a unique product was found, extract title and image URL\n",
    "    if selected_item:\n",
    "        title = selected_item.get('title', 'No title')\n",
    "        image_url = selected_item.get('image', {}).get('imageUrl', 'No image URL')\n",
    "        ebay_item_id = selected_item.get('itemId', 'No itemId')\n",
    "        web_url = selected_item.get('itemWebUrl', 'No web URL')\n",
    "        ebay_price = selected_item.get('price', {}).get('value', 'No price')\n",
    "    else:\n",
    "        title = 'No title'\n",
    "        image_url = 'No image URL'\n",
    "        ebay_item_id = 'No itemId'\n",
    "        web_url = 'No web URL'\n",
    "        ebay_price = 'No price'\n",
    "    \n",
    "    # Append the extracted data to the results\n",
    "    results.append({\n",
    "        'product_id': row['product_id'],\n",
    "        'min_price': row['min_price'],\n",
    "        'max_price': row['max_price'],\n",
    "        'product_category_name_english': category,\n",
    "        'title': title,\n",
    "        'image_url': image_url,\n",
    "        'ebay_item_id': ebay_item_id,\n",
    "        'web_url': web_url,\n",
    "        'ebay_price' : ebay_price\n",
    "    })\n",
    "\n",
    "# Convert the results list into a DataFrame\n",
    "df_results = pd.DataFrame(results)\n",
    "\n",
    "# Merge the new results DataFrame with the original joined_df_english_category on shared columns\n",
    "final_df = pd.concat([joined_df_english_category.reset_index(drop=True), df_results[['title', 'image_url', 'ebay_item_id']]], axis=1)\n",
    "\n",
    "# Display the final DataFrame\n",
    "final_df\n"
   ]
  },
  {
   "cell_type": "markdown",
   "metadata": {},
   "source": [
    "## With Price Matching"
   ]
  },
  {
   "cell_type": "code",
   "execution_count": 76,
   "metadata": {},
   "outputs": [
    {
     "name": "stderr",
     "output_type": "stream",
     "text": [
      "100%|██████████| 979/979 [14:07<00:00,  1.15it/s]\n"
     ]
    },
    {
     "data": {
      "text/html": [
       "<div>\n",
       "<style scoped>\n",
       "    .dataframe tbody tr th:only-of-type {\n",
       "        vertical-align: middle;\n",
       "    }\n",
       "\n",
       "    .dataframe tbody tr th {\n",
       "        vertical-align: top;\n",
       "    }\n",
       "\n",
       "    .dataframe thead th {\n",
       "        text-align: right;\n",
       "    }\n",
       "</style>\n",
       "<table border=\"1\" class=\"dataframe\">\n",
       "  <thead>\n",
       "    <tr style=\"text-align: right;\">\n",
       "      <th></th>\n",
       "      <th>product_id</th>\n",
       "      <th>cnt</th>\n",
       "      <th>min_price</th>\n",
       "      <th>max_price</th>\n",
       "      <th>product_category_name_english</th>\n",
       "      <th>title</th>\n",
       "      <th>image_url</th>\n",
       "      <th>ebay_item_id</th>\n",
       "    </tr>\n",
       "  </thead>\n",
       "  <tbody>\n",
       "    <tr>\n",
       "      <th>0</th>\n",
       "      <td>5f504b3a1c75b73d6151be81eb05bdc9</td>\n",
       "      <td>63</td>\n",
       "      <td>572.00</td>\n",
       "      <td>642.30</td>\n",
       "      <td>cool_stuff</td>\n",
       "      <td>No title</td>\n",
       "      <td>No image URL</td>\n",
       "      <td>No itemId</td>\n",
       "    </tr>\n",
       "    <tr>\n",
       "      <th>1</th>\n",
       "      <td>4473f3e5c65952b074ef987fa5c24662</td>\n",
       "      <td>17</td>\n",
       "      <td>27.99</td>\n",
       "      <td>29.99</td>\n",
       "      <td>telephony</td>\n",
       "      <td>Grandstream GS-HT802 2 Port Analog Telephone A...</td>\n",
       "      <td>https://i.ebayimg.com/images/g/cEQAAOSwKIlgze4...</td>\n",
       "      <td>v1|255022550928|0</td>\n",
       "    </tr>\n",
       "    <tr>\n",
       "      <th>2</th>\n",
       "      <td>f4d705aa95ccca448e5b0deb6e5290ba</td>\n",
       "      <td>27</td>\n",
       "      <td>24.90</td>\n",
       "      <td>24.90</td>\n",
       "      <td>bed_bath_table</td>\n",
       "      <td>No title</td>\n",
       "      <td>No image URL</td>\n",
       "      <td>No itemId</td>\n",
       "    </tr>\n",
       "    <tr>\n",
       "      <th>3</th>\n",
       "      <td>bbaef2eadf31fe3ea6702077398be06c</td>\n",
       "      <td>66</td>\n",
       "      <td>56.99</td>\n",
       "      <td>56.99</td>\n",
       "      <td>perfumery</td>\n",
       "      <td>The Crown Perfumery Crown Bouquet Eau De Parfu...</td>\n",
       "      <td>https://i.ebayimg.com/images/g/fNkAAOSwm3hlasP...</td>\n",
       "      <td>v1|375095251685|0</td>\n",
       "    </tr>\n",
       "    <tr>\n",
       "      <th>4</th>\n",
       "      <td>0e40b1ed4cfd3da1962ec91913e54ba8</td>\n",
       "      <td>15</td>\n",
       "      <td>13.65</td>\n",
       "      <td>13.65</td>\n",
       "      <td>electronics</td>\n",
       "      <td>MINI GAME Anniversary Edition ENTERTAINMENT SY...</td>\n",
       "      <td>https://i.ebayimg.com/images/g/iF8AAOSwZM5msFt...</td>\n",
       "      <td>v1|126610057291|0</td>\n",
       "    </tr>\n",
       "    <tr>\n",
       "      <th>...</th>\n",
       "      <td>...</td>\n",
       "      <td>...</td>\n",
       "      <td>...</td>\n",
       "      <td>...</td>\n",
       "      <td>...</td>\n",
       "      <td>...</td>\n",
       "      <td>...</td>\n",
       "      <td>...</td>\n",
       "    </tr>\n",
       "    <tr>\n",
       "      <th>974</th>\n",
       "      <td>2002fc3ec2d8a30a7588628fe7aff958</td>\n",
       "      <td>17</td>\n",
       "      <td>30.00</td>\n",
       "      <td>30.00</td>\n",
       "      <td>electronics</td>\n",
       "      <td>HDMI 4K TV Retro Game Stick Console Built-in 6...</td>\n",
       "      <td>https://i.ebayimg.com/images/g/D5wAAOSwei9kSOX...</td>\n",
       "      <td>v1|385572899658|653561916097</td>\n",
       "    </tr>\n",
       "    <tr>\n",
       "      <th>975</th>\n",
       "      <td>d3e1006ba3735c0d44160026b6e0ced3</td>\n",
       "      <td>28</td>\n",
       "      <td>108.90</td>\n",
       "      <td>109.90</td>\n",
       "      <td>auto</td>\n",
       "      <td>No title</td>\n",
       "      <td>No image URL</td>\n",
       "      <td>No itemId</td>\n",
       "    </tr>\n",
       "    <tr>\n",
       "      <th>976</th>\n",
       "      <td>fb7a100ec8c7b34f60cec22b1a9a10e0</td>\n",
       "      <td>36</td>\n",
       "      <td>49.99</td>\n",
       "      <td>49.99</td>\n",
       "      <td>toys</td>\n",
       "      <td>No title</td>\n",
       "      <td>No image URL</td>\n",
       "      <td>No itemId</td>\n",
       "    </tr>\n",
       "    <tr>\n",
       "      <th>977</th>\n",
       "      <td>71a5f1c2a5fd9889ef26b5ac22aec9c6</td>\n",
       "      <td>27</td>\n",
       "      <td>19.90</td>\n",
       "      <td>24.90</td>\n",
       "      <td>furniture_decor</td>\n",
       "      <td>Vintage Solid Brass Ornate Rose Decal Wall,Doo...</td>\n",
       "      <td>https://i.ebayimg.com/images/g/a6MAAOSw2hdcxbL...</td>\n",
       "      <td>v1|184391345936|0</td>\n",
       "    </tr>\n",
       "    <tr>\n",
       "      <th>978</th>\n",
       "      <td>a0b7d5a992ccda646f2d34e418fff5a0</td>\n",
       "      <td>34</td>\n",
       "      <td>69.90</td>\n",
       "      <td>69.90</td>\n",
       "      <td>furniture_decor</td>\n",
       "      <td>No title</td>\n",
       "      <td>No image URL</td>\n",
       "      <td>No itemId</td>\n",
       "    </tr>\n",
       "  </tbody>\n",
       "</table>\n",
       "<p>979 rows × 8 columns</p>\n",
       "</div>"
      ],
      "text/plain": [
       "                           product_id  cnt  min_price  max_price  \\\n",
       "0    5f504b3a1c75b73d6151be81eb05bdc9   63     572.00     642.30   \n",
       "1    4473f3e5c65952b074ef987fa5c24662   17      27.99      29.99   \n",
       "2    f4d705aa95ccca448e5b0deb6e5290ba   27      24.90      24.90   \n",
       "3    bbaef2eadf31fe3ea6702077398be06c   66      56.99      56.99   \n",
       "4    0e40b1ed4cfd3da1962ec91913e54ba8   15      13.65      13.65   \n",
       "..                                ...  ...        ...        ...   \n",
       "974  2002fc3ec2d8a30a7588628fe7aff958   17      30.00      30.00   \n",
       "975  d3e1006ba3735c0d44160026b6e0ced3   28     108.90     109.90   \n",
       "976  fb7a100ec8c7b34f60cec22b1a9a10e0   36      49.99      49.99   \n",
       "977  71a5f1c2a5fd9889ef26b5ac22aec9c6   27      19.90      24.90   \n",
       "978  a0b7d5a992ccda646f2d34e418fff5a0   34      69.90      69.90   \n",
       "\n",
       "    product_category_name_english  \\\n",
       "0                      cool_stuff   \n",
       "1                       telephony   \n",
       "2                  bed_bath_table   \n",
       "3                       perfumery   \n",
       "4                     electronics   \n",
       "..                            ...   \n",
       "974                   electronics   \n",
       "975                          auto   \n",
       "976                          toys   \n",
       "977               furniture_decor   \n",
       "978               furniture_decor   \n",
       "\n",
       "                                                 title  \\\n",
       "0                                             No title   \n",
       "1    Grandstream GS-HT802 2 Port Analog Telephone A...   \n",
       "2                                             No title   \n",
       "3    The Crown Perfumery Crown Bouquet Eau De Parfu...   \n",
       "4    MINI GAME Anniversary Edition ENTERTAINMENT SY...   \n",
       "..                                                 ...   \n",
       "974  HDMI 4K TV Retro Game Stick Console Built-in 6...   \n",
       "975                                           No title   \n",
       "976                                           No title   \n",
       "977  Vintage Solid Brass Ornate Rose Decal Wall,Doo...   \n",
       "978                                           No title   \n",
       "\n",
       "                                             image_url  \\\n",
       "0                                         No image URL   \n",
       "1    https://i.ebayimg.com/images/g/cEQAAOSwKIlgze4...   \n",
       "2                                         No image URL   \n",
       "3    https://i.ebayimg.com/images/g/fNkAAOSwm3hlasP...   \n",
       "4    https://i.ebayimg.com/images/g/iF8AAOSwZM5msFt...   \n",
       "..                                                 ...   \n",
       "974  https://i.ebayimg.com/images/g/D5wAAOSwei9kSOX...   \n",
       "975                                       No image URL   \n",
       "976                                       No image URL   \n",
       "977  https://i.ebayimg.com/images/g/a6MAAOSw2hdcxbL...   \n",
       "978                                       No image URL   \n",
       "\n",
       "                     ebay_item_id  \n",
       "0                       No itemId  \n",
       "1               v1|255022550928|0  \n",
       "2                       No itemId  \n",
       "3               v1|375095251685|0  \n",
       "4               v1|126610057291|0  \n",
       "..                            ...  \n",
       "974  v1|385572899658|653561916097  \n",
       "975                     No itemId  \n",
       "976                     No itemId  \n",
       "977             v1|184391345936|0  \n",
       "978                     No itemId  \n",
       "\n",
       "[979 rows x 8 columns]"
      ]
     },
     "execution_count": 76,
     "metadata": {},
     "output_type": "execute_result"
    }
   ],
   "source": [
    "import pandas as pd\n",
    "from tqdm import tqdm\n",
    "\n",
    "# List to hold the results\n",
    "results = []\n",
    "\n",
    "# Set to track used eBay item IDs to ensure uniqueness\n",
    "used_ebay_item_ids = set()\n",
    "\n",
    "# Loop through the entire DataFrame with a progress bar\n",
    "for index, row in tqdm(joined_df_english_category.iterrows(), total=len(joined_df_english_category)):\n",
    "    category = row['product_category_name_english']\n",
    "    count = category_counts.get(category, 20)  # Use the count from the category_counts dictionary\n",
    "    \n",
    "    # Ensure count does not exceed 200\n",
    "    # if count > 200:\n",
    "    #     count = 200\n",
    "\n",
    "    count = 200\n",
    "    \n",
    "    # Call the eBay API\n",
    "    response = call_ebay_api_by_price_count(category, row['min_price'], row['max_price'], count)\n",
    "\n",
    "    min_price = row['min_price'] * 0.8\n",
    "    max_price = row['max_price'] * 1.2\n",
    "    \n",
    "    # Process the response, which is a list of dictionaries\n",
    "    selected_item = None\n",
    "    if response:  # Ensure there are items in the response\n",
    "        for item in response:\n",
    "            ebay_item_id = item.get('itemId', None)\n",
    "            item_price_str = item.get('price', {}).get('value', None)\n",
    "            \n",
    "            # Convert item_price_str to float if it's not None\n",
    "            try:\n",
    "                item_price = float(item_price_str) if item_price_str is not None else None\n",
    "            except ValueError:\n",
    "                item_price = None\n",
    "            \n",
    "            # Check if the item has a price and it is within the min and max price range\n",
    "            if (ebay_item_id and ebay_item_id not in used_ebay_item_ids and \n",
    "                item_price is not None and min_price <= item_price <= max_price):\n",
    "                # Found a unique product within the price range\n",
    "                used_ebay_item_ids.add(ebay_item_id)\n",
    "                selected_item = item\n",
    "                break\n",
    "\n",
    "    # If a unique product was found, extract title and image URL\n",
    "    if selected_item:\n",
    "        title = selected_item.get('title', 'No title')\n",
    "        image_url = selected_item.get('image', {}).get('imageUrl', 'No image URL')\n",
    "        ebay_item_id = selected_item.get('itemId', 'No itemId')\n",
    "        web_url = selected_item.get('itemWebUrl', 'No web URL')\n",
    "    else:\n",
    "        title = 'No title'\n",
    "        image_url = 'No image URL'\n",
    "        ebay_item_id = 'No itemId'\n",
    "        web_url = 'No web URL'\n",
    "    \n",
    "    # Append the extracted data to the results\n",
    "    results.append({\n",
    "        'product_id': row['product_id'],\n",
    "        'min_price': row['min_price'],\n",
    "        'max_price': row['max_price'],\n",
    "        'product_category_name_english': category,\n",
    "        'title': title,\n",
    "        'image_url': image_url,\n",
    "        'ebay_item_id': ebay_item_id,\n",
    "        'web_url': web_url\n",
    "    })\n",
    "\n",
    "# Convert the results list into a DataFrame\n",
    "df_results = pd.DataFrame(results)\n",
    "\n",
    "# Merge the new results DataFrame with the original joined_df_english_category on shared columns\n",
    "final_df = pd.concat([joined_df_english_category.reset_index(drop=True), df_results[['title', 'image_url', 'ebay_item_id']]], axis=1)\n",
    "\n",
    "# Display the final DataFrame\n",
    "final_df\n"
   ]
  },
  {
   "cell_type": "code",
   "execution_count": 75,
   "metadata": {},
   "outputs": [],
   "source": [
    "final_df.to_csv('final_df_without_proce_match.csv', index=False)"
   ]
  }
 ],
 "metadata": {
  "kernelspec": {
   "display_name": "venv",
   "language": "python",
   "name": "python3"
  },
  "language_info": {
   "codemirror_mode": {
    "name": "ipython",
    "version": 3
   },
   "file_extension": ".py",
   "mimetype": "text/x-python",
   "name": "python",
   "nbconvert_exporter": "python",
   "pygments_lexer": "ipython3",
   "version": "3.10.12"
  }
 },
 "nbformat": 4,
 "nbformat_minor": 2
}
