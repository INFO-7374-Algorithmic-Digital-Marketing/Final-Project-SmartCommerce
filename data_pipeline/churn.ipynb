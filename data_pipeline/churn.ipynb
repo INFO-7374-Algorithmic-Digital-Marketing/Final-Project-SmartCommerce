{
 "cells": [
  {
   "cell_type": "code",
   "execution_count": 3,
   "metadata": {},
   "outputs": [
    {
     "name": "stderr",
     "output_type": "stream",
     "text": [
      "/home/snehilaryan/final_pro/Final-Project-SmartCommerce/venv/lib/python3.10/site-packages/snowflake/sqlalchemy/base.py:1068: SAWarning: The GenericFunction 'flatten' is already registered and is going to be overridden.\n",
      "  functions.register_function(\"flatten\", flatten)\n",
      "2024-08-10 19:51:31,279 - INFO - Attempting to create Snowflake engine.\n",
      "2024-08-10 19:51:31,324 - INFO - Snowflake engine created successfully.\n"
     ]
    }
   ],
   "source": [
    "import pandas as pd\n",
    "from sqlalchemy import create_engine, MetaData, Table, Column, String, Integer, Float, DateTime, ForeignKey, text\n",
    "from snowflake.sqlalchemy import URL\n",
    "import os\n",
    "from dotenv import load_dotenv\n",
    "import logging\n",
    "import sys\n",
    "\n",
    "# Setup logging\n",
    "logging.basicConfig(level=logging.INFO, format='%(asctime)s - %(levelname)s - %(message)s')\n",
    "logger = logging.getLogger()\n",
    "\n",
    "# Load environment variables\n",
    "load_dotenv()\n",
    "\n",
    "# Get Snowflake connection details from environment variables\n",
    "def get_snowflake_engine():\n",
    "    logger.info(\"Attempting to create Snowflake engine.\")\n",
    "    try:\n",
    "        engine = create_engine(URL(\n",
    "            user=os.getenv(\"MY_SNOWFLAKE_USER\"),\n",
    "            password=os.getenv(\"MY_SNOWFLAKE_PASSWORD\"),\n",
    "            account=os.getenv(\"MY_SNOWFLAKE_ACCOUNT\"),\n",
    "            database=os.getenv(\"SNOWFLAKE_DATABASE\"),\n",
    "            schema=os.getenv(\"SNOWFLAKE_SCHEMA\"),\n",
    "            warehouse=os.getenv(\"SNOWFLAKE_WAREHOUSE\"),\n",
    "            role=os.getenv(\"SNOWFLAKE_ROLE\"),\n",
    "        ))\n",
    "        logger.info(\"Snowflake engine created successfully.\")\n",
    "        return engine\n",
    "    except Exception as e:\n",
    "        logger.error(\"Error creating Snowflake engine: %s\", e)\n",
    "        sys.exit(1)\n",
    "\n",
    "def __run_query(query, engine = get_snowflake_engine(), update = False):\n",
    "    connection = engine.connect()\n",
    "    logging.info(\"Connected to Snowflake\")\n",
    "    \n",
    "    try:\n",
    "        # connection.execute(text(\"USE ASG_4_P2.PUBLIC;\"))\n",
    "        # logging.info(\"Switched to ASG_4_P2.PUBLIC\")\n",
    "        \n",
    "        # Make parameterized query such that no DELETE / UPDATE queries can be run\n",
    "        query = text(query)\n",
    "        logger.info(f\"Executing query: {query}\")\n",
    "        result = connection.execute(query).fetchall()\n",
    "        if update:\n",
    "            connection.commit()\n",
    "            logging.info(\"Transaction committed.\")\n",
    "        try:\n",
    "            result_df = pd.DataFrame(result)\n",
    "            logging.info(\"Query executed successfully and results fetched\")\n",
    "            return result_df\n",
    "        except Exception as e:\n",
    "            logging.error(f\"Error converting query results to DataFrame: {e}\")\n",
    "            return None\n",
    "    except Exception as e:\n",
    "        logging.error(f\"Error executing query: {e}\")\n",
    "        return None\n",
    "    finally:\n",
    "        connection.close()\n",
    "        logging.info(\"Connection closed\")\n",
    "\n",
    "def update_churn_flag(churned_cust_ids, non_churned_customer_ids):\n",
    "    update_query_churn = f\"\"\"\n",
    "    UPDATE \"Customers\"\n",
    "    SET churn_flag = TRUE\n",
    "    WHERE customer_id IN ({', '.join(f\"'{customer_id}'\" for customer_id in churned_cust_ids)});\n",
    "    \"\"\"\n",
    "    __run_query(update_query_churn, update=True)\n",
    "    \n",
    "    update_query_non_churn = f\"\"\"\n",
    "    UPDATE \"Customers\"\n",
    "    SET churn_flag = TRUE\n",
    "    WHERE customer_id IN ({', '.join(f\"'{customer_id}'\" for customer_id in non_churned_customer_ids)});\n",
    "    \"\"\"\n",
    "    __run_query(update_query_non_churn, update=True)\n",
    "\n",
    "    "
   ]
  },
  {
   "cell_type": "code",
   "execution_count": 44,
   "metadata": {},
   "outputs": [
    {
     "name": "stderr",
     "output_type": "stream",
     "text": [
      "2024-08-04 11:36:20,290 - INFO - Snowflake Connector for Python Version: 3.12.0, Python Version: 3.10.12, Platform: Linux-5.15.153.1-microsoft-standard-WSL2-x86_64-with-glibc2.35\n",
      "2024-08-04 11:36:20,301 - INFO - Connecting to GLOBAL Snowflake domain\n",
      "2024-08-04 11:36:20,303 - INFO - This connection is in OCSP Fail Open Mode. TLS Certificates would be checked for validity and revocation status. Any other Certificate Revocation related exceptions or OCSP Responder failures would be disregarded in favor of connectivity.\n",
      "2024-08-04 11:36:21,079 - INFO - Number of results in first chunk: 1\n",
      "2024-08-04 11:36:21,255 - INFO - Number of results in first chunk: 1\n",
      "2024-08-04 11:36:21,256 - INFO - Connected to Snowflake\n",
      "2024-08-04 11:36:21,579 - INFO - Number of results in first chunk: 0\n",
      "2024-08-04 11:36:24,162 - INFO - Query executed successfully and results fetched\n",
      "2024-08-04 11:36:24,339 - INFO - Number of results in first chunk: 1\n",
      "2024-08-04 11:36:24,339 - INFO - Connection closed\n",
      "2024-08-04 11:36:24,466 - INFO - Connected to Snowflake\n",
      "2024-08-04 11:36:24,835 - INFO - Number of results in first chunk: 0\n",
      "2024-08-04 11:36:26,633 - INFO - Query executed successfully and results fetched\n",
      "2024-08-04 11:36:26,754 - INFO - Number of results in first chunk: 1\n",
      "2024-08-04 11:36:26,755 - INFO - Connection closed\n"
     ]
    }
   ],
   "source": [
    "\n",
    "customers = __run_query('SELECT * FROM \"Customers\";')\n",
    "orders = __run_query('SELECT * FROM \"Orders\";')"
   ]
  },
  {
   "cell_type": "markdown",
   "metadata": {},
   "source": [
    "# Calculate Churn"
   ]
  },
  {
   "cell_type": "code",
   "execution_count": 4,
   "metadata": {},
   "outputs": [],
   "source": [
    "def calculate_churn_rate(orders, customers, churn_period_days=200):\n",
    "    # Convert order_purchase_timestamp to datetime\n",
    "    orders['order_purchase_timestamp'] = pd.to_datetime(orders['order_purchase_timestamp'])\n",
    "\n",
    "    # Determine the reference date (e.g., the latest order date in the dataset)\n",
    "    reference_date = orders['order_purchase_timestamp'].max()\n",
    "\n",
    "    # Calculate the last purchase date for each customer\n",
    "    last_purchase_date = orders.groupby('customer_id')['order_purchase_timestamp'].max().reset_index()\n",
    "\n",
    "    # Identify churned customers: those who haven't purchased within the churn period\n",
    "    churned_customers = last_purchase_date[\n",
    "        last_purchase_date['order_purchase_timestamp'] < reference_date - pd.Timedelta(days=churn_period_days)\n",
    "    ]\n",
    "\n",
    "    # Identify non-churned customers: those who have purchased within the churn period\n",
    "    non_churned_customers = last_purchase_date[\n",
    "        last_purchase_date['order_purchase_timestamp'] >= reference_date - pd.Timedelta(days=churn_period_days)\n",
    "    ]\n",
    "\n",
    "    # Convert customer IDs to lists\n",
    "    churned_customer_ids = churned_customers['customer_id'].tolist()\n",
    "    non_churned_customer_ids = non_churned_customers['customer_id'].tolist()\n",
    "\n",
    "    # Count the total number of unique customers\n",
    "    total_customers = customers['customer_id'].nunique()\n",
    "\n",
    "    # Count the number of churned customers\n",
    "    num_churned_customers = len(churned_customer_ids)\n",
    "\n",
    "    # Calculate churn rate\n",
    "    churn_rate = (num_churned_customers / total_customers) * 100\n",
    "\n",
    "    # Output the results\n",
    "    logger.info(f\"Total Customers: {total_customers}\")\n",
    "    logger.info(f\"Churned Customers: {num_churned_customers}\")\n",
    "    logger.info(f\"Churn Rate: {churn_rate:.2f}%\")\n",
    "\n",
    "    return churned_customer_ids, non_churned_customer_ids"
   ]
  },
  {
   "cell_type": "code",
   "execution_count": 50,
   "metadata": {},
   "outputs": [
    {
     "name": "stderr",
     "output_type": "stream",
     "text": [
      "2024-08-04 11:55:48,648 - INFO - Total Customers: 99441\n",
      "2024-08-04 11:55:48,649 - INFO - Churned Customers: 66569\n",
      "2024-08-04 11:55:48,649 - INFO - Churn Rate: 66.94%\n"
     ]
    }
   ],
   "source": [
    "churned_cust_ids, non_churned_customer_ids = calculate_churn_rate(orders, customers)"
   ]
  },
  {
   "cell_type": "code",
   "execution_count": 53,
   "metadata": {},
   "outputs": [
    {
     "name": "stderr",
     "output_type": "stream",
     "text": [
      "2024-08-04 12:01:49,235 - INFO - Snowflake Connector for Python Version: 3.12.0, Python Version: 3.10.12, Platform: Linux-5.15.153.1-microsoft-standard-WSL2-x86_64-with-glibc2.35\n",
      "2024-08-04 12:01:49,236 - INFO - Connecting to GLOBAL Snowflake domain\n",
      "2024-08-04 12:01:49,237 - INFO - This connection is in OCSP Fail Open Mode. TLS Certificates would be checked for validity and revocation status. Any other Certificate Revocation related exceptions or OCSP Responder failures would be disregarded in favor of connectivity.\n",
      "2024-08-04 12:01:49,883 - INFO - Number of results in first chunk: 1\n",
      "2024-08-04 12:01:50,025 - INFO - Number of results in first chunk: 1\n",
      "2024-08-04 12:01:50,026 - INFO - Connected to Snowflake\n",
      "2024-08-04 12:02:03,469 - INFO - Number of results in first chunk: 1\n",
      "2024-08-04 12:02:03,470 - INFO - Transaction committed.\n",
      "2024-08-04 12:02:03,471 - INFO - Query executed successfully and results fetched\n",
      "2024-08-04 12:02:03,683 - INFO - Number of results in first chunk: 1\n",
      "2024-08-04 12:02:03,684 - INFO - Connection closed\n",
      "2024-08-04 12:02:03,699 - INFO - Connected to Snowflake\n",
      "2024-08-04 12:02:10,579 - INFO - Number of results in first chunk: 1\n",
      "2024-08-04 12:02:10,579 - INFO - Transaction committed.\n",
      "2024-08-04 12:02:10,580 - INFO - Query executed successfully and results fetched\n",
      "2024-08-04 12:02:10,651 - INFO - Number of results in first chunk: 1\n",
      "2024-08-04 12:02:10,652 - INFO - Connection closed\n"
     ]
    }
   ],
   "source": [
    "update_churn_flag(churned_cust_ids, non_churned_customer_ids)"
   ]
  },
  {
   "cell_type": "markdown",
   "metadata": {},
   "source": [
    "# Get Churn Status by cust_id"
   ]
  },
  {
   "cell_type": "code",
   "execution_count": 11,
   "metadata": {},
   "outputs": [],
   "source": [
    "#Query to get the churn flag for a customer\n",
    "def get_churn_flag(customer_id):\n",
    "    sql_query = f'''select churn_flag from \"Customers\" where customer_id = '{customer_id}';'''\n",
    "    return __run_query(sql_query)\n",
    "\n",
    "#Query to get the min and max price of a product\n",
    "def __get_min_max_price(product_id):\n",
    "    sql_query = f'''SELECT \n",
    "        MAX(price) AS max_price,\n",
    "        MIN(price) AS min_price\n",
    "    FROM \n",
    "        \"Order_Items\"\n",
    "    GROUP BY \n",
    "        product_id\n",
    "    having product_id = '{product_id}';'''\n",
    "    return __run_query(sql_query)\n",
    "\n",
    "#Function to get the price for product according to churn flag\n",
    "def get_price(product_id, churn_flag):\n",
    "    min_max_price = __get_min_max_price(product_id)\n",
    "    if churn_flag:\n",
    "        return min_max_price['min_price'][0]\n",
    "    else:\n",
    "        return min_max_price['max_price'][0]\n",
    "\n"
   ]
  },
  {
   "cell_type": "code",
   "execution_count": 13,
   "metadata": {},
   "outputs": [
    {
     "name": "stderr",
     "output_type": "stream",
     "text": [
      "2024-08-06 00:01:23,386 - INFO - Connected to Snowflake\n",
      "2024-08-06 00:01:23,388 - INFO - Executing query: select churn_flag from \"Customers\" where customer_id = '00012a2ce6f8dcda20d059ce98491703';\n",
      "2024-08-06 00:01:23,740 - INFO - Number of results in first chunk: 1\n",
      "2024-08-06 00:01:23,742 - INFO - Query executed successfully and results fetched\n",
      "2024-08-06 00:01:23,834 - INFO - Number of results in first chunk: 1\n",
      "2024-08-06 00:01:23,835 - INFO - Connection closed\n",
      "2024-08-06 00:01:23,836 - INFO - Connected to Snowflake\n",
      "2024-08-06 00:01:23,836 - INFO - Executing query: SELECT \n",
      "        MAX(price) AS max_price,\n",
      "        MIN(price) AS min_price\n",
      "    FROM \n",
      "        \"Order_Items\"\n",
      "    GROUP BY \n",
      "        product_id\n",
      "    having product_id = '4244733e06e7ecb4970a6e2683c13e61';\n",
      "2024-08-06 00:01:23,941 - INFO - Number of results in first chunk: 1\n",
      "2024-08-06 00:01:23,943 - INFO - Query executed successfully and results fetched\n",
      "2024-08-06 00:01:24,032 - INFO - Number of results in first chunk: 1\n",
      "2024-08-06 00:01:24,033 - INFO - Connection closed\n"
     ]
    },
    {
     "name": "stdout",
     "output_type": "stream",
     "text": [
      "55.9\n"
     ]
    }
   ],
   "source": [
    "customer_id = \"00012a2ce6f8dcda20d059ce98491703\"\n",
    "print(get_price(\"4244733e06e7ecb4970a6e2683c13e61\", get_churn_flag(customer_id)['churn_flag'][0]))"
   ]
  },
  {
   "cell_type": "markdown",
   "metadata": {},
   "source": [
    "## Update the products table"
   ]
  },
  {
   "cell_type": "code",
   "execution_count": 25,
   "metadata": {},
   "outputs": [],
   "source": [
    "import os\n",
    "from dotenv import load_dotenv\n",
    "import requests\n",
    "import base64\n",
    "import json\n",
    "\n",
    "# Load environment variables from .env file\n",
    "load_dotenv()\n",
    "\n",
    "# Get the environment variables\n",
    "CLIENT_ID = os.getenv('EBAY_APP_ID')\n",
    "CLIENT_SECRET = os.getenv('EBAY_CERT_ID')\n",
    "OAUTH_URL = 'https://api.ebay.com/identity/v1/oauth2/token'\n",
    "\n",
    "# Encode the client ID and client secret\n",
    "credentials = base64.b64encode(f'{CLIENT_ID}:{CLIENT_SECRET}'.encode('utf-8')).decode('utf-8')\n",
    "\n",
    "headers = {\n",
    "    'Content-Type': 'application/x-www-form-urlencoded',\n",
    "    'Authorization': f'Basic {credentials}'\n",
    "}\n",
    "\n",
    "data = {\n",
    "    'grant_type': 'client_credentials',\n",
    "    'scope': 'https://api.ebay.com/oauth/api_scope'\n",
    "}\n",
    "\n",
    "response = requests.post(OAUTH_URL, headers=headers, data=data)\n",
    "if response.status_code == 200:\n",
    "    access_token = response.json()['access_token']\n",
    "    # print(f'Access Token: {access_token}')\n",
    "else:\n",
    "    print(f'Error: {response.status_code}')\n",
    "    print(response.json())\n",
    "\n"
   ]
  },
  {
   "cell_type": "code",
   "execution_count": 30,
   "metadata": {},
   "outputs": [],
   "source": [
    "import requests\n",
    "import json\n",
    "\n",
    "def search_ebay_items(params, access_token=access_token):\n",
    "    endpoint = 'https://api.ebay.com/buy/browse/v1/item_summary/search'\n",
    "    \n",
    "    # Set up the request headers\n",
    "    headers = {\n",
    "        'Authorization': f'Bearer {access_token}',\n",
    "        'Content-Type': 'application/json',\n",
    "    }\n",
    "    \n",
    "    # Make the API request\n",
    "    response = requests.get(endpoint, headers=headers, params=params)\n",
    "    \n",
    "    # Check if the request was successful\n",
    "    if response.status_code == 200:\n",
    "        data = response.json()\n",
    "        items = data.get('itemSummaries', [])\n",
    "\n",
    "        q_param = params.get('q', 'results').replace(' ', '_')\n",
    "        file_name = f'data_ebay/ebay_browse_search_results_{q_param}_2.json'\n",
    "        \n",
    "        # Print and save the response\n",
    "        # with open(file_name, 'w') as file:\n",
    "        #     json.dump(items, file, indent=4)\n",
    "        #     print(f'Saved {len(items)} items to {file_name}')\n",
    "        print(len(items))\n",
    "        return items\n",
    "    else:\n",
    "        print(f'Error: {response.status_code}')\n",
    "        print(response.json())\n",
    "\n",
    "def get_category_id_by_name(category_name, access_token=access_token):\n",
    "    # Define the endpoint and headers\n",
    "    url = 'https://api.ebay.com/commerce/taxonomy/v1/category_tree/0/get_category_suggestions'\n",
    "    headers = {\n",
    "        'Authorization': f'Bearer {access_token}',\n",
    "        'Content-Type': 'application/json',\n",
    "    }\n",
    "    \n",
    "    # Define the query parameters\n",
    "    params = {\n",
    "        'q': category_name  # The name of the category you want to search for\n",
    "    }\n",
    "    \n",
    "    # Make the GET request\n",
    "    response = requests.get(url, headers=headers, params=params)\n",
    "    \n",
    "    # Check the response status and parse the response\n",
    "    if response.status_code == 200:\n",
    "        data = response.json()\n",
    "        # formatted_json = json.dumps(data, indent=4)\n",
    "        # print(formatted_json)\n",
    "        categories = data.get('categorySuggestions')\n",
    "        \n",
    "        # Print out category names and IDs\n",
    "        for category in categories:\n",
    "            print(f\"Category Name: {category['category']['categoryName']}, Category ID: {category['category']['categoryId']}\")\n",
    "        return categories\n",
    "    else:\n",
    "        print(f\"Error: {response.status_code}, {response.text}\")\n",
    "        return None\n",
    "    \n",
    "def call_ebay_api_by_price(q, min_price, max_price):\n",
    "    params = {\n",
    "        'q': q,\n",
    "        'filter': f'price:[{min_price}..{max_price}]',\n",
    "        'limit': 1\n",
    "    }\n",
    "    search_ebay_items(params)"
   ]
  },
  {
   "cell_type": "code",
   "execution_count": 12,
   "metadata": {},
   "outputs": [
    {
     "name": "stderr",
     "output_type": "stream",
     "text": [
      "2024-08-12 03:51:45,099 - INFO - Connected to Snowflake\n",
      "2024-08-12 03:51:45,102 - INFO - Executing query: SELECT DISTINCT PRODUCT_CATEGORY_NAME_ENGLISH  FROM \"Product_Category_Translation\";\n",
      "2024-08-12 03:51:45,203 - INFO - Number of results in first chunk: 71\n",
      "2024-08-12 03:51:45,204 - INFO - Query executed successfully and results fetched\n",
      "2024-08-12 03:51:45,263 - INFO - Number of results in first chunk: 1\n",
      "2024-08-12 03:51:45,264 - INFO - Connection closed\n"
     ]
    }
   ],
   "source": [
    "categories = __run_query('SELECT DISTINCT PRODUCT_CATEGORY_NAME_ENGLISH  FROM \"Product_Category_Translation\";')['product_category_name_english'].tolist()"
   ]
  },
  {
   "cell_type": "code",
   "execution_count": 34,
   "metadata": {},
   "outputs": [
    {
     "name": "stdout",
     "output_type": "stream",
     "text": [
      "Saved 1 items to data_ebay/ebay_browse_search_results_construction_tools_construction_2.json\n",
      "1\n",
      "None\n"
     ]
    }
   ],
   "source": [
    "\n",
    "print(call_ebay_api_by_price(i, 70, 80))\n"
   ]
  },
  {
   "cell_type": "code",
   "execution_count": 19,
   "metadata": {},
   "outputs": [
    {
     "data": {
      "text/plain": [
       "'computers_accessories'"
      ]
     },
     "execution_count": 19,
     "metadata": {},
     "output_type": "execute_result"
    }
   ],
   "source": [
    "categories[1]"
   ]
  }
 ],
 "metadata": {
  "kernelspec": {
   "display_name": "venv",
   "language": "python",
   "name": "python3"
  },
  "language_info": {
   "codemirror_mode": {
    "name": "ipython",
    "version": 3
   },
   "file_extension": ".py",
   "mimetype": "text/x-python",
   "name": "python",
   "nbconvert_exporter": "python",
   "pygments_lexer": "ipython3",
   "version": "3.10.12"
  }
 },
 "nbformat": 4,
 "nbformat_minor": 2
}
