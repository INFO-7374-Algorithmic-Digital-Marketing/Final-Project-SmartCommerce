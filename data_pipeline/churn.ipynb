{
 "cells": [
  {
   "cell_type": "code",
   "execution_count": 56,
   "metadata": {},
   "outputs": [
    {
     "name": "stderr",
     "output_type": "stream",
     "text": [
      "2024-08-04 15:13:09,503 - INFO - Attempting to create Snowflake engine.\n",
      "2024-08-04 15:13:09,521 - INFO - Snowflake engine created successfully.\n"
     ]
    }
   ],
   "source": [
    "import pandas as pd\n",
    "from sqlalchemy import create_engine, MetaData, Table, Column, String, Integer, Float, DateTime, ForeignKey, text\n",
    "from snowflake.sqlalchemy import URL\n",
    "import os\n",
    "from dotenv import load_dotenv\n",
    "import logging\n",
    "import sys\n",
    "\n",
    "# Setup logging\n",
    "logging.basicConfig(level=logging.INFO, format='%(asctime)s - %(levelname)s - %(message)s')\n",
    "logger = logging.getLogger()\n",
    "\n",
    "# Load environment variables\n",
    "load_dotenv()\n",
    "\n",
    "# Get Snowflake connection details from environment variables\n",
    "def get_snowflake_engine():\n",
    "    logger.info(\"Attempting to create Snowflake engine.\")\n",
    "    try:\n",
    "        engine = create_engine(URL(\n",
    "            user=os.getenv(\"MY_SNOWFLAKE_USER\"),\n",
    "            password=os.getenv(\"MY_SNOWFLAKE_PASSWORD\"),\n",
    "            account=os.getenv(\"MY_SNOWFLAKE_ACCOUNT\"),\n",
    "            database=os.getenv(\"SNOWFLAKE_DATABASE\"),\n",
    "            schema=os.getenv(\"SNOWFLAKE_SCHEMA\"),\n",
    "            warehouse=os.getenv(\"SNOWFLAKE_WAREHOUSE\"),\n",
    "            role=os.getenv(\"SNOWFLAKE_ROLE\"),\n",
    "        ))\n",
    "        logger.info(\"Snowflake engine created successfully.\")\n",
    "        return engine\n",
    "    except Exception as e:\n",
    "        logger.error(\"Error creating Snowflake engine: %s\", e)\n",
    "        sys.exit(1)\n",
    "\n",
    "def __run_query(query, engine = get_snowflake_engine(), update = False):\n",
    "    connection = engine.connect()\n",
    "    logging.info(\"Connected to Snowflake\")\n",
    "    \n",
    "    try:\n",
    "        # connection.execute(text(\"USE ASG_4_P2.PUBLIC;\"))\n",
    "        # logging.info(\"Switched to ASG_4_P2.PUBLIC\")\n",
    "        \n",
    "        # Make parameterized query such that no DELETE / UPDATE queries can be run\n",
    "        query = text(query)\n",
    "        logger.info(f\"Executing query: {query}\")\n",
    "        result = connection.execute(query).fetchall()\n",
    "        if update:\n",
    "            connection.commit()\n",
    "            logging.info(\"Transaction committed.\")\n",
    "        try:\n",
    "            result_df = pd.DataFrame(result)\n",
    "            logging.info(\"Query executed successfully and results fetched\")\n",
    "            return result_df\n",
    "        except Exception as e:\n",
    "            logging.error(f\"Error converting query results to DataFrame: {e}\")\n",
    "            return None\n",
    "    except Exception as e:\n",
    "        logging.error(f\"Error executing query: {e}\")\n",
    "        return None\n",
    "    finally:\n",
    "        connection.close()\n",
    "        logging.info(\"Connection closed\")\n",
    "\n",
    "def update_churn_flag(churned_cust_ids, non_churned_customer_ids):\n",
    "    update_query_churn = f\"\"\"\n",
    "    UPDATE \"Customers\"\n",
    "    SET churn_flag = TRUE\n",
    "    WHERE customer_id IN ({', '.join(f\"'{customer_id}'\" for customer_id in churned_cust_ids)});\n",
    "    \"\"\"\n",
    "    __run_query(update_query_churn, update=True)\n",
    "    \n",
    "    update_query_non_churn = f\"\"\"\n",
    "    UPDATE \"Customers\"\n",
    "    SET churn_flag = TRUE\n",
    "    WHERE customer_id IN ({', '.join(f\"'{customer_id}'\" for customer_id in non_churned_customer_ids)});\n",
    "    \"\"\"\n",
    "    __run_query(update_query_non_churn, update=True)\n",
    "\n",
    "    "
   ]
  },
  {
   "cell_type": "code",
   "execution_count": 44,
   "metadata": {},
   "outputs": [
    {
     "name": "stderr",
     "output_type": "stream",
     "text": [
      "2024-08-04 11:36:20,290 - INFO - Snowflake Connector for Python Version: 3.12.0, Python Version: 3.10.12, Platform: Linux-5.15.153.1-microsoft-standard-WSL2-x86_64-with-glibc2.35\n",
      "2024-08-04 11:36:20,301 - INFO - Connecting to GLOBAL Snowflake domain\n",
      "2024-08-04 11:36:20,303 - INFO - This connection is in OCSP Fail Open Mode. TLS Certificates would be checked for validity and revocation status. Any other Certificate Revocation related exceptions or OCSP Responder failures would be disregarded in favor of connectivity.\n",
      "2024-08-04 11:36:21,079 - INFO - Number of results in first chunk: 1\n",
      "2024-08-04 11:36:21,255 - INFO - Number of results in first chunk: 1\n",
      "2024-08-04 11:36:21,256 - INFO - Connected to Snowflake\n",
      "2024-08-04 11:36:21,579 - INFO - Number of results in first chunk: 0\n",
      "2024-08-04 11:36:24,162 - INFO - Query executed successfully and results fetched\n",
      "2024-08-04 11:36:24,339 - INFO - Number of results in first chunk: 1\n",
      "2024-08-04 11:36:24,339 - INFO - Connection closed\n",
      "2024-08-04 11:36:24,466 - INFO - Connected to Snowflake\n",
      "2024-08-04 11:36:24,835 - INFO - Number of results in first chunk: 0\n",
      "2024-08-04 11:36:26,633 - INFO - Query executed successfully and results fetched\n",
      "2024-08-04 11:36:26,754 - INFO - Number of results in first chunk: 1\n",
      "2024-08-04 11:36:26,755 - INFO - Connection closed\n"
     ]
    }
   ],
   "source": [
    "\n",
    "customers = __run_query('SELECT * FROM \"Customers\";')\n",
    "orders = __run_query('SELECT * FROM \"Orders\";')"
   ]
  },
  {
   "cell_type": "markdown",
   "metadata": {},
   "source": [
    "# Calculate Churn"
   ]
  },
  {
   "cell_type": "code",
   "execution_count": 49,
   "metadata": {},
   "outputs": [],
   "source": [
    "def calculate_churn_rate(orders, customers, churn_period_days=200):\n",
    "    # Convert order_purchase_timestamp to datetime\n",
    "    orders['order_purchase_timestamp'] = pd.to_datetime(orders['order_purchase_timestamp'])\n",
    "\n",
    "    # Determine the reference date (e.g., the latest order date in the dataset)\n",
    "    reference_date = orders['order_purchase_timestamp'].max()\n",
    "\n",
    "    # Calculate the last purchase date for each customer\n",
    "    last_purchase_date = orders.groupby('customer_id')['order_purchase_timestamp'].max().reset_index()\n",
    "\n",
    "    # Identify churned customers: those who haven't purchased within the churn period\n",
    "    churned_customers = last_purchase_date[\n",
    "        last_purchase_date['order_purchase_timestamp'] < reference_date - pd.Timedelta(days=churn_period_days)\n",
    "    ]\n",
    "\n",
    "    # Identify non-churned customers: those who have purchased within the churn period\n",
    "    non_churned_customers = last_purchase_date[\n",
    "        last_purchase_date['order_purchase_timestamp'] >= reference_date - pd.Timedelta(days=churn_period_days)\n",
    "    ]\n",
    "\n",
    "    # Convert customer IDs to lists\n",
    "    churned_customer_ids = churned_customers['customer_id'].tolist()\n",
    "    non_churned_customer_ids = non_churned_customers['customer_id'].tolist()\n",
    "\n",
    "    # Count the total number of unique customers\n",
    "    total_customers = customers['customer_id'].nunique()\n",
    "\n",
    "    # Count the number of churned customers\n",
    "    num_churned_customers = len(churned_customer_ids)\n",
    "\n",
    "    # Calculate churn rate\n",
    "    churn_rate = (num_churned_customers / total_customers) * 100\n",
    "\n",
    "    # Output the results\n",
    "    logger.info(f\"Total Customers: {total_customers}\")\n",
    "    logger.info(f\"Churned Customers: {num_churned_customers}\")\n",
    "    logger.info(f\"Churn Rate: {churn_rate:.2f}%\")\n",
    "\n",
    "    return churned_customer_ids, non_churned_customer_ids"
   ]
  },
  {
   "cell_type": "code",
   "execution_count": 50,
   "metadata": {},
   "outputs": [
    {
     "name": "stderr",
     "output_type": "stream",
     "text": [
      "2024-08-04 11:55:48,648 - INFO - Total Customers: 99441\n",
      "2024-08-04 11:55:48,649 - INFO - Churned Customers: 66569\n",
      "2024-08-04 11:55:48,649 - INFO - Churn Rate: 66.94%\n"
     ]
    }
   ],
   "source": [
    "churned_cust_ids, non_churned_customer_ids = calculate_churn_rate(orders, customers)"
   ]
  },
  {
   "cell_type": "code",
   "execution_count": 53,
   "metadata": {},
   "outputs": [
    {
     "name": "stderr",
     "output_type": "stream",
     "text": [
      "2024-08-04 12:01:49,235 - INFO - Snowflake Connector for Python Version: 3.12.0, Python Version: 3.10.12, Platform: Linux-5.15.153.1-microsoft-standard-WSL2-x86_64-with-glibc2.35\n",
      "2024-08-04 12:01:49,236 - INFO - Connecting to GLOBAL Snowflake domain\n",
      "2024-08-04 12:01:49,237 - INFO - This connection is in OCSP Fail Open Mode. TLS Certificates would be checked for validity and revocation status. Any other Certificate Revocation related exceptions or OCSP Responder failures would be disregarded in favor of connectivity.\n",
      "2024-08-04 12:01:49,883 - INFO - Number of results in first chunk: 1\n",
      "2024-08-04 12:01:50,025 - INFO - Number of results in first chunk: 1\n",
      "2024-08-04 12:01:50,026 - INFO - Connected to Snowflake\n",
      "2024-08-04 12:02:03,469 - INFO - Number of results in first chunk: 1\n",
      "2024-08-04 12:02:03,470 - INFO - Transaction committed.\n",
      "2024-08-04 12:02:03,471 - INFO - Query executed successfully and results fetched\n",
      "2024-08-04 12:02:03,683 - INFO - Number of results in first chunk: 1\n",
      "2024-08-04 12:02:03,684 - INFO - Connection closed\n",
      "2024-08-04 12:02:03,699 - INFO - Connected to Snowflake\n",
      "2024-08-04 12:02:10,579 - INFO - Number of results in first chunk: 1\n",
      "2024-08-04 12:02:10,579 - INFO - Transaction committed.\n",
      "2024-08-04 12:02:10,580 - INFO - Query executed successfully and results fetched\n",
      "2024-08-04 12:02:10,651 - INFO - Number of results in first chunk: 1\n",
      "2024-08-04 12:02:10,652 - INFO - Connection closed\n"
     ]
    }
   ],
   "source": [
    "update_churn_flag(churned_cust_ids, non_churned_customer_ids)"
   ]
  },
  {
   "cell_type": "markdown",
   "metadata": {},
   "source": [
    "# Get Churn Status by cust_id"
   ]
  },
  {
   "cell_type": "code",
   "execution_count": 58,
   "metadata": {},
   "outputs": [
    {
     "name": "stderr",
     "output_type": "stream",
     "text": [
      "2024-08-04 15:13:52,806 - INFO - Connected to Snowflake\n",
      "2024-08-04 15:13:52,809 - INFO - Executing query: select churn_flag from \"Customers\" where customer_id = '00012a2ce6f8dcda20d059ce98491703';\n",
      "2024-08-04 15:13:53,190 - INFO - Number of results in first chunk: 1\n",
      "2024-08-04 15:13:53,196 - INFO - Query executed successfully and results fetched\n",
      "2024-08-04 15:13:53,285 - INFO - Number of results in first chunk: 1\n",
      "2024-08-04 15:13:53,286 - INFO - Connection closed\n"
     ]
    },
    {
     "name": "stdout",
     "output_type": "stream",
     "text": [
      "   churn_flag\n",
      "0        True\n"
     ]
    }
   ],
   "source": [
    "customer_id = \"00012a2ce6f8dcda20d059ce98491703\"\n",
    "query = f'''select churn_flag from \"Customers\" where customer_id = '{customer_id}';'''\n",
    "print(__run_query(query))"
   ]
  }
 ],
 "metadata": {
  "kernelspec": {
   "display_name": "venv",
   "language": "python",
   "name": "python3"
  },
  "language_info": {
   "codemirror_mode": {
    "name": "ipython",
    "version": 3
   },
   "file_extension": ".py",
   "mimetype": "text/x-python",
   "name": "python",
   "nbconvert_exporter": "python",
   "pygments_lexer": "ipython3",
   "version": "3.10.12"
  }
 },
 "nbformat": 4,
 "nbformat_minor": 2
}
